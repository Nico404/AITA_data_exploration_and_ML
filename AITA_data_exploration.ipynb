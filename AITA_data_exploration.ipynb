{
 "cells": [
  {
   "cell_type": "markdown",
   "id": "c8304921",
   "metadata": {},
   "source": [
    "# Data Exploration"
   ]
  },
  {
   "cell_type": "markdown",
   "id": "c7dd5883",
   "metadata": {},
   "source": [
    "This notebook is the next step after scrapping posts and comments from the subreddit r/AITA https://github.com/Nico404/scrap_reddit"
   ]
  },
  {
   "cell_type": "markdown",
   "id": "336b87a9",
   "metadata": {},
   "source": [
    "### 1. Imports & reading data"
   ]
  },
  {
   "cell_type": "code",
   "execution_count": 18,
   "id": "cf8d8b0f",
   "metadata": {},
   "outputs": [],
   "source": [
    "import pandas as pd\n",
    "import numpy as np\n",
    "import matplotlib as plt\n",
    "import seaborn as sns\n",
    "\n",
    "from src.count_occurences import count_occurrences"
   ]
  },
  {
   "cell_type": "code",
   "execution_count": 3,
   "id": "cd35559e",
   "metadata": {},
   "outputs": [],
   "source": [
    "posts = pd.read_csv(\"data/posts_v4.csv\",\n",
    "        names=[\"post_id\", \"num_comments\", \"post_content\", \"post_title\", \"post_url\"])"
   ]
  },
  {
   "cell_type": "code",
   "execution_count": 4,
   "id": "ea873962",
   "metadata": {},
   "outputs": [],
   "source": [
    "comments = pd.read_csv(\"data/comments_v4.csv\",\n",
    "           names=[\"comment_id\", \"post_id\", \"comment_score\", \"comment_content\", \"comment_permalink\"])"
   ]
  },
  {
   "cell_type": "markdown",
   "id": "ce349d28",
   "metadata": {},
   "source": [
    "### 2. First glimps"
   ]
  },
  {
   "cell_type": "code",
   "execution_count": 25,
   "id": "402d19a3",
   "metadata": {},
   "outputs": [
    {
     "data": {
      "text/html": [
       "<div>\n",
       "<style scoped>\n",
       "    .dataframe tbody tr th:only-of-type {\n",
       "        vertical-align: middle;\n",
       "    }\n",
       "\n",
       "    .dataframe tbody tr th {\n",
       "        vertical-align: top;\n",
       "    }\n",
       "\n",
       "    .dataframe thead th {\n",
       "        text-align: right;\n",
       "    }\n",
       "</style>\n",
       "<table border=\"1\" class=\"dataframe\">\n",
       "  <thead>\n",
       "    <tr style=\"text-align: right;\">\n",
       "      <th></th>\n",
       "      <th>post_id</th>\n",
       "      <th>num_comments</th>\n",
       "      <th>post_content</th>\n",
       "      <th>post_title</th>\n",
       "      <th>post_url</th>\n",
       "    </tr>\n",
       "  </thead>\n",
       "  <tbody>\n",
       "    <tr>\n",
       "      <th>0</th>\n",
       "      <td>10uxee0</td>\n",
       "      <td>1181</td>\n",
       "      <td>I know this post sounds super petty, but this ...</td>\n",
       "      <td>AITA for telling my boyfriend I'll shave my le...</td>\n",
       "      <td>https://www.reddit.com/r/AmItheAsshole/comment...</td>\n",
       "    </tr>\n",
       "    <tr>\n",
       "      <th>1</th>\n",
       "      <td>10ur722</td>\n",
       "      <td>1849</td>\n",
       "      <td>My daughter Bryn F9 is going on a trip to a ne...</td>\n",
       "      <td>AITA for pulling my daughter from a waterpark ...</td>\n",
       "      <td>https://www.reddit.com/r/AmItheAsshole/comment...</td>\n",
       "    </tr>\n",
       "    <tr>\n",
       "      <th>2</th>\n",
       "      <td>10upxdd</td>\n",
       "      <td>1180</td>\n",
       "      <td>Alright so my son (17) has weekly therapy appo...</td>\n",
       "      <td>AITA for not letting an elderly woman have my ...</td>\n",
       "      <td>https://www.reddit.com/r/AmItheAsshole/comment...</td>\n",
       "    </tr>\n",
       "    <tr>\n",
       "      <th>3</th>\n",
       "      <td>10v2vra</td>\n",
       "      <td>131</td>\n",
       "      <td>We live three blocks away from my parents and ...</td>\n",
       "      <td>AITA for taking my kids to my parents house to...</td>\n",
       "      <td>https://www.reddit.com/r/AmItheAsshole/comment...</td>\n",
       "    </tr>\n",
       "    <tr>\n",
       "      <th>4</th>\n",
       "      <td>10ung90</td>\n",
       "      <td>1513</td>\n",
       "      <td>My daughter (16) and I have gotten into a mass...</td>\n",
       "      <td>AITA for calling my daughter a selfish insecur...</td>\n",
       "      <td>https://www.reddit.com/r/AmItheAsshole/comment...</td>\n",
       "    </tr>\n",
       "  </tbody>\n",
       "</table>\n",
       "</div>"
      ],
      "text/plain": [
       "   post_id  num_comments                                       post_content  \\\n",
       "0  10uxee0          1181  I know this post sounds super petty, but this ...   \n",
       "1  10ur722          1849  My daughter Bryn F9 is going on a trip to a ne...   \n",
       "2  10upxdd          1180  Alright so my son (17) has weekly therapy appo...   \n",
       "3  10v2vra           131  We live three blocks away from my parents and ...   \n",
       "4  10ung90          1513  My daughter (16) and I have gotten into a mass...   \n",
       "\n",
       "                                          post_title  \\\n",
       "0  AITA for telling my boyfriend I'll shave my le...   \n",
       "1  AITA for pulling my daughter from a waterpark ...   \n",
       "2  AITA for not letting an elderly woman have my ...   \n",
       "3  AITA for taking my kids to my parents house to...   \n",
       "4  AITA for calling my daughter a selfish insecur...   \n",
       "\n",
       "                                            post_url  \n",
       "0  https://www.reddit.com/r/AmItheAsshole/comment...  \n",
       "1  https://www.reddit.com/r/AmItheAsshole/comment...  \n",
       "2  https://www.reddit.com/r/AmItheAsshole/comment...  \n",
       "3  https://www.reddit.com/r/AmItheAsshole/comment...  \n",
       "4  https://www.reddit.com/r/AmItheAsshole/comment...  "
      ]
     },
     "execution_count": 25,
     "metadata": {},
     "output_type": "execute_result"
    }
   ],
   "source": [
    "posts.head()\n"
   ]
  },
  {
   "cell_type": "code",
   "execution_count": 91,
   "id": "3e3e7c0d",
   "metadata": {},
   "outputs": [
    {
     "data": {
      "text/html": [
       "<div>\n",
       "<style scoped>\n",
       "    .dataframe tbody tr th:only-of-type {\n",
       "        vertical-align: middle;\n",
       "    }\n",
       "\n",
       "    .dataframe tbody tr th {\n",
       "        vertical-align: top;\n",
       "    }\n",
       "\n",
       "    .dataframe thead th {\n",
       "        text-align: right;\n",
       "    }\n",
       "</style>\n",
       "<table border=\"1\" class=\"dataframe\">\n",
       "  <thead>\n",
       "    <tr style=\"text-align: right;\">\n",
       "      <th></th>\n",
       "      <th>comment_id</th>\n",
       "      <th>post_id</th>\n",
       "      <th>comment_score</th>\n",
       "      <th>comment_content</th>\n",
       "      <th>comment_permalink</th>\n",
       "    </tr>\n",
       "  </thead>\n",
       "  <tbody>\n",
       "    <tr>\n",
       "      <th>0</th>\n",
       "      <td>j7dy9fw</td>\n",
       "      <td>t3_10qxvu1</td>\n",
       "      <td>7</td>\n",
       "      <td>The post about the bratty daughter and the seafood restaurant is rife with commenters creating mental disorders for the daughter to scrub accountability for her behaviour. Honestly kinda dangerous</td>\n",
       "      <td>/r/AmItheAsshole/comments/10qxvu1/aita_monthly_open_forum_february_2023_trolls/j7dy9fw/</td>\n",
       "    </tr>\n",
       "    <tr>\n",
       "      <th>1</th>\n",
       "      <td>j7ctunm</td>\n",
       "      <td>t3_10qxvu1</td>\n",
       "      <td>7</td>\n",
       "      <td>My subconscious chose the wrong option for a report I feel so embarrassed even though I don’t think it’s a big deal 🥲  Just wanted to say that somewhere</td>\n",
       "      <td>/r/AmItheAsshole/comments/10qxvu1/aita_monthly_open_forum_february_2023_trolls/j7ctunm/</td>\n",
       "    </tr>\n",
       "    <tr>\n",
       "      <th>2</th>\n",
       "      <td>j7cs0v5</td>\n",
       "      <td>t3_10qxvu1</td>\n",
       "      <td>2</td>\n",
       "      <td>Unpopular opinion: I think contest mode is bad, mainly because of the fact that I can't see my own score. I never liked the whole closing your eyes when people vote thing (which I assume this is based on). Worse, if a post gets removed, you won't ever be able to see your score, even after 1.5 hours, so you're stuck seeing \"score hidden\" forever. I think you should add the feature in which after a post is deleted or removed that contest mode gets disabled.</td>\n",
       "      <td>/r/AmItheAsshole/comments/10qxvu1/aita_monthly_open_forum_february_2023_trolls/j7cs0v5/</td>\n",
       "    </tr>\n",
       "    <tr>\n",
       "      <th>3</th>\n",
       "      <td>j7c39c8</td>\n",
       "      <td>t3_10qxvu1</td>\n",
       "      <td>0</td>\n",
       "      <td>can we talk about the ableism on this sub. example the post about op not bringing his kids to his sisters wedding because his sister didn't allow his youngest daughter to come to the wedding. that is the the worst and most toxic comment section i have seen in this sub.  the comments acted like op was the devil and ops daughter will always be mad at  him and his youngest daughter.  people also called the ops youngest daughter golden child and ops oldest daughters life will be hell because of op caring about the youngest daughter who has autism  people also said that op taught his oldest daughter that she will be punished because of the youngest sisters autism  . there were  so many abelist things said in that comment section.  like tf fuck was op yta.  the real asshole was ops sister who purposely excluded ops daughter.  op was nta.</td>\n",
       "      <td>/r/AmItheAsshole/comments/10qxvu1/aita_monthly_open_forum_february_2023_trolls/j7c39c8/</td>\n",
       "    </tr>\n",
       "    <tr>\n",
       "      <th>4</th>\n",
       "      <td>j7b8sl3</td>\n",
       "      <td>t3_10qxvu1</td>\n",
       "      <td>25</td>\n",
       "      <td>I hate when commenters just make stuff up about the post and then move forward acting as if it's true.  Like the post on the front page about the grandmother giving her granddaughter braids.  People saying the mom was a racist and not taking care of her daughter's hair and ruining it etc.  The OP clearly stated the granddaughter had beautiful, well maintained curls.  It's like they have to make up something to be mad at.</td>\n",
       "      <td>/r/AmItheAsshole/comments/10qxvu1/aita_monthly_open_forum_february_2023_trolls/j7b8sl3/</td>\n",
       "    </tr>\n",
       "  </tbody>\n",
       "</table>\n",
       "</div>"
      ],
      "text/plain": [
       "  comment_id     post_id  comment_score  \\\n",
       "0    j7dy9fw  t3_10qxvu1              7   \n",
       "1    j7ctunm  t3_10qxvu1              7   \n",
       "2    j7cs0v5  t3_10qxvu1              2   \n",
       "3    j7c39c8  t3_10qxvu1              0   \n",
       "4    j7b8sl3  t3_10qxvu1             25   \n",
       "\n",
       "                                                                                                                                                                                                                                                                                                                                                                                                                                                                                                                                                                                                                                                                                                                                                                                                                                                               comment_content  \\\n",
       "0                                                                                                                                                                                                                                                                                                                                                                                                                                                                                                                                                                                                                                                                         The post about the bratty daughter and the seafood restaurant is rife with commenters creating mental disorders for the daughter to scrub accountability for her behaviour. Honestly kinda dangerous   \n",
       "1                                                                                                                                                                                                                                                                                                                                                                                                                                                                                                                                                                                                                                                                                                                     My subconscious chose the wrong option for a report I feel so embarrassed even though I don’t think it’s a big deal 🥲  Just wanted to say that somewhere   \n",
       "2                                                                                                                                                                                                                                                                                                                                                                                                  Unpopular opinion: I think contest mode is bad, mainly because of the fact that I can't see my own score. I never liked the whole closing your eyes when people vote thing (which I assume this is based on). Worse, if a post gets removed, you won't ever be able to see your score, even after 1.5 hours, so you're stuck seeing \"score hidden\" forever. I think you should add the feature in which after a post is deleted or removed that contest mode gets disabled.   \n",
       "3  can we talk about the ableism on this sub. example the post about op not bringing his kids to his sisters wedding because his sister didn't allow his youngest daughter to come to the wedding. that is the the worst and most toxic comment section i have seen in this sub.  the comments acted like op was the devil and ops daughter will always be mad at  him and his youngest daughter.  people also called the ops youngest daughter golden child and ops oldest daughters life will be hell because of op caring about the youngest daughter who has autism  people also said that op taught his oldest daughter that she will be punished because of the youngest sisters autism  . there were  so many abelist things said in that comment section.  like tf fuck was op yta.  the real asshole was ops sister who purposely excluded ops daughter.  op was nta.   \n",
       "4                                                                                                                                                                                                                                                                                                                                                                                                                                     I hate when commenters just make stuff up about the post and then move forward acting as if it's true.  Like the post on the front page about the grandmother giving her granddaughter braids.  People saying the mom was a racist and not taking care of her daughter's hair and ruining it etc.  The OP clearly stated the granddaughter had beautiful, well maintained curls.  It's like they have to make up something to be mad at.   \n",
       "\n",
       "                                                                         comment_permalink  \n",
       "0  /r/AmItheAsshole/comments/10qxvu1/aita_monthly_open_forum_february_2023_trolls/j7dy9fw/  \n",
       "1  /r/AmItheAsshole/comments/10qxvu1/aita_monthly_open_forum_february_2023_trolls/j7ctunm/  \n",
       "2  /r/AmItheAsshole/comments/10qxvu1/aita_monthly_open_forum_february_2023_trolls/j7cs0v5/  \n",
       "3  /r/AmItheAsshole/comments/10qxvu1/aita_monthly_open_forum_february_2023_trolls/j7c39c8/  \n",
       "4  /r/AmItheAsshole/comments/10qxvu1/aita_monthly_open_forum_february_2023_trolls/j7b8sl3/  "
      ]
     },
     "execution_count": 91,
     "metadata": {},
     "output_type": "execute_result"
    }
   ],
   "source": [
    "comments.head()"
   ]
  },
  {
   "cell_type": "code",
   "execution_count": 32,
   "id": "82152ee2",
   "metadata": {},
   "outputs": [
    {
     "name": "stdout",
     "output_type": "stream",
     "text": [
      "(rows,columns) in posts & comments dataframe: (1072, 5) (23601, 5)\n"
     ]
    }
   ],
   "source": [
    "print(\"(rows,columns) in posts & comments dataframe:\", posts.shape, comments.shape)"
   ]
  },
  {
   "cell_type": "code",
   "execution_count": 34,
   "id": "f375b5f5",
   "metadata": {},
   "outputs": [
    {
     "data": {
      "text/plain": [
       "(post_id         object\n",
       " num_comments     int64\n",
       " post_content    object\n",
       " post_title      object\n",
       " post_url        object\n",
       " dtype: object,\n",
       " comment_id           object\n",
       " post_id              object\n",
       " comment_score         int64\n",
       " comment_content      object\n",
       " comment_permalink    object\n",
       " dtype: object)"
      ]
     },
     "execution_count": 34,
     "metadata": {},
     "output_type": "execute_result"
    }
   ],
   "source": [
    "posts.dtypes, comments.dtypes\n"
   ]
  },
  {
   "cell_type": "code",
   "execution_count": 49,
   "id": "cb723176",
   "metadata": {},
   "outputs": [
    {
     "data": {
      "text/html": [
       "<div>\n",
       "<style scoped>\n",
       "    .dataframe tbody tr th:only-of-type {\n",
       "        vertical-align: middle;\n",
       "    }\n",
       "\n",
       "    .dataframe tbody tr th {\n",
       "        vertical-align: top;\n",
       "    }\n",
       "\n",
       "    .dataframe thead th {\n",
       "        text-align: right;\n",
       "    }\n",
       "</style>\n",
       "<table border=\"1\" class=\"dataframe\">\n",
       "  <thead>\n",
       "    <tr style=\"text-align: right;\">\n",
       "      <th></th>\n",
       "      <th>num_comments</th>\n",
       "    </tr>\n",
       "  </thead>\n",
       "  <tbody>\n",
       "    <tr>\n",
       "      <th>count</th>\n",
       "      <td>1072.000000</td>\n",
       "    </tr>\n",
       "    <tr>\n",
       "      <th>mean</th>\n",
       "      <td>125.367537</td>\n",
       "    </tr>\n",
       "    <tr>\n",
       "      <th>std</th>\n",
       "      <td>461.041357</td>\n",
       "    </tr>\n",
       "    <tr>\n",
       "      <th>min</th>\n",
       "      <td>1.000000</td>\n",
       "    </tr>\n",
       "    <tr>\n",
       "      <th>25%</th>\n",
       "      <td>14.000000</td>\n",
       "    </tr>\n",
       "    <tr>\n",
       "      <th>50%</th>\n",
       "      <td>25.000000</td>\n",
       "    </tr>\n",
       "    <tr>\n",
       "      <th>75%</th>\n",
       "      <td>52.250000</td>\n",
       "    </tr>\n",
       "    <tr>\n",
       "      <th>max</th>\n",
       "      <td>6918.000000</td>\n",
       "    </tr>\n",
       "  </tbody>\n",
       "</table>\n",
       "</div>"
      ],
      "text/plain": [
       "       num_comments\n",
       "count   1072.000000\n",
       "mean     125.367537\n",
       "std      461.041357\n",
       "min        1.000000\n",
       "25%       14.000000\n",
       "50%       25.000000\n",
       "75%       52.250000\n",
       "max     6918.000000"
      ]
     },
     "execution_count": 49,
     "metadata": {},
     "output_type": "execute_result"
    }
   ],
   "source": [
    "posts.describe()"
   ]
  },
  {
   "cell_type": "code",
   "execution_count": 50,
   "id": "e44e8d95",
   "metadata": {},
   "outputs": [
    {
     "data": {
      "text/html": [
       "<div>\n",
       "<style scoped>\n",
       "    .dataframe tbody tr th:only-of-type {\n",
       "        vertical-align: middle;\n",
       "    }\n",
       "\n",
       "    .dataframe tbody tr th {\n",
       "        vertical-align: top;\n",
       "    }\n",
       "\n",
       "    .dataframe thead th {\n",
       "        text-align: right;\n",
       "    }\n",
       "</style>\n",
       "<table border=\"1\" class=\"dataframe\">\n",
       "  <thead>\n",
       "    <tr style=\"text-align: right;\">\n",
       "      <th></th>\n",
       "      <th>comment_score</th>\n",
       "    </tr>\n",
       "  </thead>\n",
       "  <tbody>\n",
       "    <tr>\n",
       "      <th>count</th>\n",
       "      <td>23601.000000</td>\n",
       "    </tr>\n",
       "    <tr>\n",
       "      <th>mean</th>\n",
       "      <td>82.151095</td>\n",
       "    </tr>\n",
       "    <tr>\n",
       "      <th>std</th>\n",
       "      <td>922.981101</td>\n",
       "    </tr>\n",
       "    <tr>\n",
       "      <th>min</th>\n",
       "      <td>-81.000000</td>\n",
       "    </tr>\n",
       "    <tr>\n",
       "      <th>25%</th>\n",
       "      <td>1.000000</td>\n",
       "    </tr>\n",
       "    <tr>\n",
       "      <th>50%</th>\n",
       "      <td>2.000000</td>\n",
       "    </tr>\n",
       "    <tr>\n",
       "      <th>75%</th>\n",
       "      <td>8.000000</td>\n",
       "    </tr>\n",
       "    <tr>\n",
       "      <th>max</th>\n",
       "      <td>46045.000000</td>\n",
       "    </tr>\n",
       "  </tbody>\n",
       "</table>\n",
       "</div>"
      ],
      "text/plain": [
       "       comment_score\n",
       "count   23601.000000\n",
       "mean       82.151095\n",
       "std       922.981101\n",
       "min       -81.000000\n",
       "25%         1.000000\n",
       "50%         2.000000\n",
       "75%         8.000000\n",
       "max     46045.000000"
      ]
     },
     "execution_count": 50,
     "metadata": {},
     "output_type": "execute_result"
    }
   ],
   "source": [
    " comments.describe()"
   ]
  },
  {
   "cell_type": "markdown",
   "id": "53cd97af",
   "metadata": {},
   "source": [
    "### 3. Data cleaning"
   ]
  },
  {
   "cell_type": "code",
   "execution_count": 77,
   "id": "cd40003d",
   "metadata": {},
   "outputs": [
    {
     "data": {
      "text/plain": [
       "219    A bit of context: wife is busy trying to advance her career, I have been nothing but supportive because I believe in her and she deserves to see her dreams come true. I take care of a large chunk of things at home (all the cooking, dishes, cleaning, chores, errands). I also help with work-related things, since we are in similar fields. There is one thing where I do not have acting power: when I moved in with her, she did not want to modify the lease so I am not officially on it, and I never had any contact with the landlady. My wife rented here for 13 years, and she always deals with the owner (who is a very nice, kind and polite person who takes care of the property when needs arise). However, she does not want to \"disturb\" the landlady when house maintenance is needed. Case in point, there is a leak from the upstairs bathroom (above the dining room) that has been going on for two years now: the upper part of a wall is bulging, and in the past months it got worse as water occasionally drips from a ceiling lamp, and from some small holes that appeared on the ceiling. I kindly asked my wife to contact the landlady and let her know about this, several times, and every time she would tell me: \"Now I am busy but after this \"*insert deadline*\" I will call her\". After the deadline, I would gently inquire with her and she would find another excuse. I do not feel I put pressure, as I accept her explanation and just wait. I offered to get in touch with the landlady and handle it myself, but my wife refused it. I have no skills to fix it, and even so or if I pay a contractor, we need the approval of the owner anyway.Fast forward to today: wife is hunting for jobs, with two interviews next month, so I should know better to be careful, however as we were taking a stroll in the hills, I thought about the water leakage (few days ago we placed cups under the holes cause the dripping is more frequent). I thought we talked in January, and she told me that in February she will contact the landlady but I was uncertain (after we had a similar conversation in November and she promised end of December). I asked her \"I seem to remember you telling me that in February you will contact the landlady\". Reply: \"No, I told you March or April\". Me: \"Oh, I am sorry, I remembered it wrong. Ok, March or April is fine\". To me the conversation ended there, but I realized that she was giving me the silence treatment. After some brewing, she lashed out, at first trying to get back at me and point out my \"poor planning and communication on the itinerary of our walk today\", and shaming me how \"I withheld information\", and then she got pissed on \"how in your right mind would you think to ask such a question, knowing how much stress I am under? Why would you put this pressure on me?\". She was enraged but I thought I did not deserve a scolding.AITA to deserve such a reaction for asking a question concerning house repair I am worried about, even though my wife is under pressure?\n",
       "Name: post_content, dtype: object"
      ]
     },
     "execution_count": 77,
     "metadata": {},
     "output_type": "execute_result"
    }
   ],
   "source": [
    "pd.set_option(\"display.max_colwidth\", 10000)  # limit size of column display\n",
    "posts[\"post_content\"].sample(1)\n",
    "# pretty clean besides sparse \\r, &amp;#x200B;,  &amp; which shouldn't be a problem overall"
   ]
  },
  {
   "cell_type": "code",
   "execution_count": 86,
   "id": "86be07f0",
   "metadata": {},
   "outputs": [
    {
     "data": {
      "text/plain": [
       "8563                                                                                                                                                                                                                                                                                                                                                                          By the sounds of it your mom is a piece of work and you are NTA, but I will also say: $300/week in child support with multiple kids is *nothing,* especially when those kids are teens. Teens are pricey. She was probably spending that in food costs alone.\n",
       "11320                                                                                                                                                                                                                                                        Wow…I could never work with some people.   Pete is definitely TA. If he had a sense of humor at all, he would have started eating in slow motion, and said you will be waiting a while. Both could have laughed, and you come back later.  I say just deal with Rex in the future. Trying to get someone in trouble on their job over a lunch break interruption is ludicrous.\n",
       "19219                                                                                                                                                                                                                                                                                                                                                                                                                                      I’m on the spectrum and I have ADHD- speaking from personal experience I’d advise you to kick your sister out of your house immediately. Your son and his sense of security hangs in the balance\n",
       "7127                                                                                                                                                                                                                                                                                                                                                                                                                                                                                YTA you left our that her husband passed away and you skipped his funeral for a freaking DRESS FITTING. This just proves you have no empathy for sister\n",
       "8247                                                                                                                                                                                                                                                                                                                                                                                                            NTA, and here’s to not having your house burn down. Maggie is allowed to be a little upset as long as she’s not making a scene of it, but not having your house burn down due to faulty wiring is the most important thing.\n",
       "1020                                                                                                                                                                                                                                                                                NTA. If he wants to win on scratchers he shouldn’t give them to other people - he should have done them himself. I’m sorry that you probably still feel guilt for something that was a weird power play in the first place, and absolutely not your fault. It’s a super weird expectation to place on people. NTA. Your family is questionable, though.\n",
       "15846                                                                                                                                                                                                                                                                                                NTA  Sounds like she is getting ready to traffic you. H1B as an Indian is really hard because it takes 15= years to get a greencard. Talk to an immigration lawyer but it sounds like you need to make a plan to leave the company. Many of these small companies exploit people with visas because they know that the person is stuck\n",
       "3236                                                                                                                                                                                                                                   YTA, I wouldn't delete my past for someone else either, this is about your insecurities. In today's age social media and phones are like archives of our lives. It's normal to have photos of an ex.   It's not normal to go through them and fantasize about what could have been, but the past is what shapes us into our present selves. It's okay to have and hold onto memories through photos.\n",
       "4305                                                                                                                                                                                                                                                                                                                                                                                                                       I dunno.  You write this out with so so much self justification and pride, while the other people are put down for their own lifestyle.  It makes me think there's more to this that you've contributed to.  ESH\n",
       "7589     NTA. A lot of people marry then have a vow renewal or reception with family. Happened a lot in COVID times. You could have a court house wedding in the UK. Family could show up, or not, for that. Then go on honeymoon in Vegas. Redo vows with Elvis in wedding chapel. His family doesn't like you, so unless you fully do the wedding their way,  the way they want,  family will not be happy. I have a feeling they would not be happy with that either. They just sound like they are looking to be unhappy no matter what you do or don't do. You and Bf do what you want.  Life is too short to spend it people pleasing\n",
       "Name: comment_content, dtype: object"
      ]
     },
     "execution_count": 86,
     "metadata": {},
     "output_type": "execute_result"
    }
   ],
   "source": [
    "comments[\"comment_content\"].sample(10)\n",
    "# \n",
    "# pretty clean besides sparse &gt;, &amp; which shouldn't be a problem overall"
   ]
  },
  {
   "cell_type": "markdown",
   "id": "e698cc2a",
   "metadata": {},
   "source": [
    "###### Reformat post_id from comments to match post_id from posts"
   ]
  },
  {
   "cell_type": "code",
   "execution_count": 5,
   "id": "6b5f0b5d",
   "metadata": {},
   "outputs": [],
   "source": [
    "comments[\"post_id\"] = comments[\"post_id\"].str[3:]  # t3 id reformat"
   ]
  },
  {
   "cell_type": "code",
   "execution_count": 98,
   "id": "5210578a",
   "metadata": {},
   "outputs": [
    {
     "data": {
      "text/plain": [
       "0    10qxvu1\n",
       "1    10qxvu1\n",
       "2    10qxvu1\n",
       "3    10qxvu1\n",
       "4    10qxvu1\n",
       "Name: post_id, dtype: object"
      ]
     },
     "execution_count": 98,
     "metadata": {},
     "output_type": "execute_result"
    }
   ],
   "source": [
    "comments[\"post_id\"].head()"
   ]
  },
  {
   "cell_type": "markdown",
   "id": "b95bfe6d",
   "metadata": {},
   "source": [
    "###### Keeping only columns we need"
   ]
  },
  {
   "cell_type": "code",
   "execution_count": 108,
   "id": "7b694905",
   "metadata": {},
   "outputs": [
    {
     "data": {
      "text/plain": [
       "(Index(['post_id', 'post_content', 'post_title'], dtype='object'),\n",
       " Index(['comment_id', 'post_id', 'comment_score', 'comment_content',\n",
       "        'comment_permalink'],\n",
       "       dtype='object'))"
      ]
     },
     "execution_count": 108,
     "metadata": {},
     "output_type": "execute_result"
    }
   ],
   "source": [
    "posts.columns, comments.columns"
   ]
  },
  {
   "cell_type": "code",
   "execution_count": 6,
   "id": "bcec291d",
   "metadata": {},
   "outputs": [],
   "source": [
    "posts = posts[['post_id',\n",
    "               #'num_comments', \n",
    "               'post_content', \n",
    "               'post_title', \n",
    "               #'post_url'\n",
    "              ]].copy()"
   ]
  },
  {
   "cell_type": "code",
   "execution_count": 112,
   "id": "bd67c61e",
   "metadata": {},
   "outputs": [
    {
     "data": {
      "text/html": [
       "<div>\n",
       "<style scoped>\n",
       "    .dataframe tbody tr th:only-of-type {\n",
       "        vertical-align: middle;\n",
       "    }\n",
       "\n",
       "    .dataframe tbody tr th {\n",
       "        vertical-align: top;\n",
       "    }\n",
       "\n",
       "    .dataframe thead th {\n",
       "        text-align: right;\n",
       "    }\n",
       "</style>\n",
       "<table border=\"1\" class=\"dataframe\">\n",
       "  <thead>\n",
       "    <tr style=\"text-align: right;\">\n",
       "      <th></th>\n",
       "      <th>post_id</th>\n",
       "      <th>post_content</th>\n",
       "      <th>post_title</th>\n",
       "    </tr>\n",
       "  </thead>\n",
       "  <tbody>\n",
       "    <tr>\n",
       "      <th>0</th>\n",
       "      <td>10uxee0</td>\n",
       "      <td>I know this post sounds super petty, but this is the most ridiculous fight I've had with my boyfriend, and unfortunately it's where we're at.I \\[F28\\] have never shaved in my life. I think it's up to the person regardless, but I've also just never really had a lot of hair. My boyfriend recently stayed over and asked to borrow a razor. Since I don't shave, I didn't have one on hand, and apparently that grossed him out. He told me that it was unhygienic to not shave and we argued back and forth about the issue when I finally told him that I'd only start shaving my legs if he shaved his first. He called me immature and petty, whereas I think he's being super fixated on this weird thing. It honestly wouldn't really bother me to shave, but I'm just more irked at his statements where he basically called me dirty. I was serious though: I'll shave whenever he shaves too.We're at an impasse but I wonder if I *am* being a little too petty about the whole thing.</td>\n",
       "      <td>AITA for telling my boyfriend I'll shave my legs if he shaves his?</td>\n",
       "    </tr>\n",
       "    <tr>\n",
       "      <th>1</th>\n",
       "      <td>10ur722</td>\n",
       "      <td>My daughter Bryn F9 is going on a trip to a nearby water park with her class next week. She loves water and has been talking about it for months, so I was a bit thrown off when she came home crying a few days ago and told me she didn’t want to go. I asked her why and she wouldn't tell me because she thought I’d think she’s a “bad person.” When I finally coaxed it out of her, she said her teacher “Ms. N” has forced her to be the “buddy” of her classmate “Ben” for the entirety of the trip. She was to ride the bus with Ben to and from the trip, eat lunch with him, and go on all the rides with him instead of spending time with her friends. She then said nobody likes Ben because he whines whenever they have to do work and picks his nose and wipes boogers everywhere.I was horrified, not only because Ms. N had made Bryn do such a thing, but also because she had made her believe she was a bad person for not wanting to. Unfortunately this wasn’t my first experience with Ms. N, as she frequently used my soft-spoken, intelligent older daughter as a “behavior buffer” for the naughty boys until I threatened to report her to the superintendent. It’s clear to me that Ms. N is still too comfortable with enforcing archaic gender roles on her kids and forcing girls to do unpaid emotional labor for the sake of the boys. I immediately sent Ms. N an email condemning her actions. She sent me back an email with a bunch of bs that basically ended with “if Bryn goes on the trip, she has to be Ben’s buddy.” *Fine.* I informed her Bryn would not be attending then. I immediately booked VIP tickets the same day her class was going so she could still go to the park and see her friends.What happened next I wasn’t expecting. Bryn is quite popular, so I have gotten to know a lot of the moms in her class. When I let them know what Ms. N did, some of them were so horrified that they also pulled their kids out of the trip. In total, eight kids (out of a class of twenty) are either not going, or going with us. Today I got an email from Ms. N saying that because almost half of the class isn’t going, they either have to raise the cost for the other students or not go at all. She practically begged me to let Bryn go and tell all the other parents to let their kids go, promising she wouldn’t make Bryn do anything she didn’t want to do. I told her she should have thought about that before she tried to make my daughter do *her* job. My husband said I was being a bit petty and that Ms. N clearly feels bad about what she did, and I should let Bryn go as I’ve already gotten my way. He asked me if I really wanted to deprive children of what they’ve been waiting for all year. The thing is, if this wasn’t Ms. N’s first offense I probably would have agreed, but she has a pattern of this type of behavior and hopefully this will put a stop to it. Plus, if she has to explain this to her superiors, I have receipts. Is my husband right? Or am I justified?&amp;amp;#x200B;UPDATE: Bryn WAS the only student assigned a \"buddy.\" The rest of the students were free to do what they wanted.</td>\n",
       "      <td>AITA for pulling my daughter from a waterpark trip because her teacher made her stay with a kid she doesn't like?</td>\n",
       "    </tr>\n",
       "    <tr>\n",
       "      <th>2</th>\n",
       "      <td>10upxdd</td>\n",
       "      <td>Alright so my son (17) has weekly therapy appointments that I take him to. Unfortunately, my husband let our daughter borrow his car and then had an emergency at work so he had to use my car so my son and I had to take the bus. It wasn’t ideal, but I’d rather the bus than miss an appointment. While it isn’t my place to share why he goes to therapy, I will say that he will often forget to eat. I usually make sure he’s fed, but due to the mess in the morning, it slipped my mind. The bus wasn’t too crowded but all the seats were taken. My son wasn’t doing too well and I could tell he was feeling dizzy from hunger+the bus. So the second someone got off their seat, I sat him down. I then tried to find a chocolate bar I had in my bag. While this is happening, I noticed an elderly woman and her adult daughter standing beside us. I didn’t pay much attention until the daughter tapped me on the shoulder. She asked if my son could move so that her elderly mother could have a seat. I felt really bad, I really did, but my son was not doing great and standing would make it harder. I had found the chocolate and he was eating it slowly but if he stood up right then, I can assure you he would’ve fainted. I apologized to her and explained that my son wasn’t feeling well. She rolled her eyes at me and said that she saw him standing earlier and that he’s a young healthy teenage boy-he’ll be fine. I apologized once again and told her that he wasn’t feeling well and that if he was then HE himself would’ve offered her a seat. The daughter told me to look at her mother and I admit, the poor woman looked really tired. But I couldn’t. My son had started to lean against me so I told the woman one last time that I was sorry and to ask someone else.I then heard them both whispering and calling me an entitled bitch. And when we got off the bus, a woman that got off with us said that a teenage boy can handle standing more than an elderly woman can and that she hopes someone treats me like that when I’m her age. My son was so out of it, I don’t think he even noticed or cared but I can’t get this off my mind. AITA? A totally unrelated woman thought I was along with the two.I wasn’t sitting down and did not have a seat.</td>\n",
       "      <td>AITA for not letting an elderly woman have my son’s seat on the bus?</td>\n",
       "    </tr>\n",
       "    <tr>\n",
       "      <th>3</th>\n",
       "      <td>10v2vra</td>\n",
       "      <td>We live three blocks away from my parents and they see our kids almost every day.  Hey husband's parents live a couple of states away and only see the kids a few times a year. It's easy when we go see them since we only visit when the kids are off school.  But when they come see us it is at random intervals through the year.  Not a problem really they are excellent grandparents.  With one small exception. They think our rules go out the window when they visit.  It's mean that we don't make the kids their favorite food every day.  Why can't the kids watch tv with them before they do their chores and homework.  Why do the kids have to be in bed so early.  It drives me crazy that I'm the bad guy because my husband won't put his foot down so I have to do it.  They came last week.  On Monday ss soon as dinner was over they wanted the kids to pay attention to them. They wanted to take the kids to see Avatar.  On a school night.  My husband allowed it.  Last straw.  I told him that he knew that throwing the kids off there schedule screwed me over.  So I gave him the choice of either enforcing our rules or I would.  He said he would take care of it.  Second night there was a hockey game on.  He wanted to watch it with our son who loves hockey.  I reminded my husband that our son had chores to do and homework.  He said it was just a hockey game.  I told the kids to get their stuff.  I took them and a change of clothes and their homework to my parents house.  My mom and dad will watch them and then take them to school in the morning.  I went back home and they were waiting for me.  I'm being a controlling and abusive person by denying them time with the kids. I'm not the only person allowed to make decisions regarding the kids.  They came all this way to see them and I'm being a jerk by keeping them on a schedule.  Fine.  They are visiting for a couple of weeks.  Wednesday after I picked up the kids from school and dropped them off at home with my in-laws. Then I went out for the first time in ages.  I told my husband I would be out late and didn't want to wake anyone so I would be at my parents house.  Did the same thing Thursday through tonight.  My husband has been calling and texting and coming over to tell me I need to come home because the house is a disaster because his parents won't do anything.  They are in vacation and they are there to see the kids not clean up.  The kids are having a fun time with no rules and he has been contacted by the school because no homework was turned in on Thursday or Friday.  I didn't answer those texts.  I said I would be back after his parents left or he enforced the rules.  He said I was taking it too far and that it was affecting his work.  Honestly tough shit.</td>\n",
       "      <td>AITA for taking my kids to my parents house to sleep because my husband will not enforce the rules when his parents visit?</td>\n",
       "    </tr>\n",
       "    <tr>\n",
       "      <th>4</th>\n",
       "      <td>10ung90</td>\n",
       "      <td>My daughter (16) and I have gotten into a massive fight. My daughter has always been a picky eater and we have always done our best to accommodate her (Feeding her before parties weddings etc ). The problem lies with my husband's upcoming birthday ( turning 50).The restaurant he has picked is very special to us. That is where we first met as children for a business deal our parents had and then we became best friends when he asked me out in that very restaurant and our first date was there. When he proposed to me and who catered our wedding, I told him I was pregnant and we held my daughter's 1st birthday there. Unfortunately, we couldn’t go there a lot as we had to move for his job but basically, all the major events of our lives were held there. So for my husband's birthday to celebrate him turning half a century old, we want to go there.We once took our daughter there when she was 10 and she hated it. But now since she is 16 I thought she would have matured enough and it is not like I'm forcing her to eat. She has the option of eating at home and I've told her so many times that the restaurant does have food she likes to eat, but she claims that it smells bad. It is a seafood restaurant but we always sit outside at our usual table so I don’t understand that.She says that we are being selfish but I told her it's not about her it's not her day. In anger, she has refused to talk to us and not doing her usual chores and is refusing to eat. My husband is heartbroken and thinks it is all his fault and wants to cancel but I think it will just fuel her brattiness. Today my husband had to work late so it was only my daughter and me. When I called for my daughter to come to eat she looked at the food and then took the plate and dumped it in the bin.I was shocked, food is valuable and she didn’t have to do that. I snapped at her calling her a selfish insecure little brat. That she is not only hurting her father but ruining his birthday and it's not as if we are asking her to give up a kidney. That if she continues this behavior we will never fund her birthday parties ever again. She said that I am a terrible mother for saying that.I feel like I went overboard but that she is acting like a brat. AITA?Edit: I am sorry for the late reply I posted this and went to sleep, No my daughter does not have anything like autism or any food allergies, we tested her when she was 10.We can’t leave her at home because this restaurant is across the country from where we a going to meet our family and according to our country's laws she is still not allowed to be alone for more than a day without parental supervision.We have never had a fight like this and she usually is a chill kid i have no idea what has gotten into her.Edit: The reason we are not too strict with our daughter's eating habits is that we grew up in houses that were verbally and physically abusive, and it affected my husband the most. We never had the chance to go to therapy because at first, it was not a thing then it was too expensive and well we figured we didn’t have to.We did not want our daughter to be like us and we thought if she didn’t cause tantrums who is it really affecting? But my daughter has always gotten good grades and has had a lot of friends so this behave is really unique</td>\n",
       "      <td>AITA for calling my daughter a selfish insecure little brat</td>\n",
       "    </tr>\n",
       "  </tbody>\n",
       "</table>\n",
       "</div>"
      ],
      "text/plain": [
       "   post_id  \\\n",
       "0  10uxee0   \n",
       "1  10ur722   \n",
       "2  10upxdd   \n",
       "3  10v2vra   \n",
       "4  10ung90   \n",
       "\n",
       "                                                                                                                                                                                                                                                                                                                                                                                                                                                                                                                                                                                                                                                                                                                                                                                                                                                                                                                                                                                                                                                                                                                                                                                                                                                                                                                                                                                                                                                                                                                                                                                                                                                                                                                                                                                                                                                                                                                                                                                                                                                                                                                                                                                                                                                                                                                                                                                                                                                                                                                                                                                                                                                                                                                                                                                                                                                                                                                                                                                                                                                                                                                                                                                                                                                                                                                                                                                                                   post_content  \\\n",
       "0                                                                                                                                                                                                                                                                                                                                                                                                                                                                                                                                                                                                                                                                                                                                                                                                                                                                                                                                                                                                                                                                                                                                                                                                                                                                                                                                                                                                                                                                                                                                                                                                                                                                                                                                                                                                                                                                                                                                                                                                                                                                                                                                                                                                                                                                                                                                                                                                                         I know this post sounds super petty, but this is the most ridiculous fight I've had with my boyfriend, and unfortunately it's where we're at.I \\[F28\\] have never shaved in my life. I think it's up to the person regardless, but I've also just never really had a lot of hair. My boyfriend recently stayed over and asked to borrow a razor. Since I don't shave, I didn't have one on hand, and apparently that grossed him out. He told me that it was unhygienic to not shave and we argued back and forth about the issue when I finally told him that I'd only start shaving my legs if he shaved his first. He called me immature and petty, whereas I think he's being super fixated on this weird thing. It honestly wouldn't really bother me to shave, but I'm just more irked at his statements where he basically called me dirty. I was serious though: I'll shave whenever he shaves too.We're at an impasse but I wonder if I *am* being a little too petty about the whole thing.   \n",
       "1                                                                                                                                                                                                                        My daughter Bryn F9 is going on a trip to a nearby water park with her class next week. She loves water and has been talking about it for months, so I was a bit thrown off when she came home crying a few days ago and told me she didn’t want to go. I asked her why and she wouldn't tell me because she thought I’d think she’s a “bad person.” When I finally coaxed it out of her, she said her teacher “Ms. N” has forced her to be the “buddy” of her classmate “Ben” for the entirety of the trip. She was to ride the bus with Ben to and from the trip, eat lunch with him, and go on all the rides with him instead of spending time with her friends. She then said nobody likes Ben because he whines whenever they have to do work and picks his nose and wipes boogers everywhere.I was horrified, not only because Ms. N had made Bryn do such a thing, but also because she had made her believe she was a bad person for not wanting to. Unfortunately this wasn’t my first experience with Ms. N, as she frequently used my soft-spoken, intelligent older daughter as a “behavior buffer” for the naughty boys until I threatened to report her to the superintendent. It’s clear to me that Ms. N is still too comfortable with enforcing archaic gender roles on her kids and forcing girls to do unpaid emotional labor for the sake of the boys. I immediately sent Ms. N an email condemning her actions. She sent me back an email with a bunch of bs that basically ended with “if Bryn goes on the trip, she has to be Ben’s buddy.” *Fine.* I informed her Bryn would not be attending then. I immediately booked VIP tickets the same day her class was going so she could still go to the park and see her friends.What happened next I wasn’t expecting. Bryn is quite popular, so I have gotten to know a lot of the moms in her class. When I let them know what Ms. N did, some of them were so horrified that they also pulled their kids out of the trip. In total, eight kids (out of a class of twenty) are either not going, or going with us. Today I got an email from Ms. N saying that because almost half of the class isn’t going, they either have to raise the cost for the other students or not go at all. She practically begged me to let Bryn go and tell all the other parents to let their kids go, promising she wouldn’t make Bryn do anything she didn’t want to do. I told her she should have thought about that before she tried to make my daughter do *her* job. My husband said I was being a bit petty and that Ms. N clearly feels bad about what she did, and I should let Bryn go as I’ve already gotten my way. He asked me if I really wanted to deprive children of what they’ve been waiting for all year. The thing is, if this wasn’t Ms. N’s first offense I probably would have agreed, but she has a pattern of this type of behavior and hopefully this will put a stop to it. Plus, if she has to explain this to her superiors, I have receipts. Is my husband right? Or am I justified?&amp;#x200B;UPDATE: Bryn WAS the only student assigned a \"buddy.\" The rest of the students were free to do what they wanted.   \n",
       "2                                                                                                                                                                                                                                                                                                                                                                                                                                                                                                                                                                                                                                                                                                                                                                                                                                                                                                                                                                                                                                                                                                             Alright so my son (17) has weekly therapy appointments that I take him to. Unfortunately, my husband let our daughter borrow his car and then had an emergency at work so he had to use my car so my son and I had to take the bus. It wasn’t ideal, but I’d rather the bus than miss an appointment. While it isn’t my place to share why he goes to therapy, I will say that he will often forget to eat. I usually make sure he’s fed, but due to the mess in the morning, it slipped my mind. The bus wasn’t too crowded but all the seats were taken. My son wasn’t doing too well and I could tell he was feeling dizzy from hunger+the bus. So the second someone got off their seat, I sat him down. I then tried to find a chocolate bar I had in my bag. While this is happening, I noticed an elderly woman and her adult daughter standing beside us. I didn’t pay much attention until the daughter tapped me on the shoulder. She asked if my son could move so that her elderly mother could have a seat. I felt really bad, I really did, but my son was not doing great and standing would make it harder. I had found the chocolate and he was eating it slowly but if he stood up right then, I can assure you he would’ve fainted. I apologized to her and explained that my son wasn’t feeling well. She rolled her eyes at me and said that she saw him standing earlier and that he’s a young healthy teenage boy-he’ll be fine. I apologized once again and told her that he wasn’t feeling well and that if he was then HE himself would’ve offered her a seat. The daughter told me to look at her mother and I admit, the poor woman looked really tired. But I couldn’t. My son had started to lean against me so I told the woman one last time that I was sorry and to ask someone else.I then heard them both whispering and calling me an entitled bitch. And when we got off the bus, a woman that got off with us said that a teenage boy can handle standing more than an elderly woman can and that she hopes someone treats me like that when I’m her age. My son was so out of it, I don’t think he even noticed or cared but I can’t get this off my mind. AITA? A totally unrelated woman thought I was along with the two.I wasn’t sitting down and did not have a seat.   \n",
       "3                                                                                                                                                                                                                                                                                                                                                                                                                                                                                                                                                                        We live three blocks away from my parents and they see our kids almost every day.  Hey husband's parents live a couple of states away and only see the kids a few times a year. It's easy when we go see them since we only visit when the kids are off school.  But when they come see us it is at random intervals through the year.  Not a problem really they are excellent grandparents.  With one small exception. They think our rules go out the window when they visit.  It's mean that we don't make the kids their favorite food every day.  Why can't the kids watch tv with them before they do their chores and homework.  Why do the kids have to be in bed so early.  It drives me crazy that I'm the bad guy because my husband won't put his foot down so I have to do it.  They came last week.  On Monday ss soon as dinner was over they wanted the kids to pay attention to them. They wanted to take the kids to see Avatar.  On a school night.  My husband allowed it.  Last straw.  I told him that he knew that throwing the kids off there schedule screwed me over.  So I gave him the choice of either enforcing our rules or I would.  He said he would take care of it.  Second night there was a hockey game on.  He wanted to watch it with our son who loves hockey.  I reminded my husband that our son had chores to do and homework.  He said it was just a hockey game.  I told the kids to get their stuff.  I took them and a change of clothes and their homework to my parents house.  My mom and dad will watch them and then take them to school in the morning.  I went back home and they were waiting for me.  I'm being a controlling and abusive person by denying them time with the kids. I'm not the only person allowed to make decisions regarding the kids.  They came all this way to see them and I'm being a jerk by keeping them on a schedule.  Fine.  They are visiting for a couple of weeks.  Wednesday after I picked up the kids from school and dropped them off at home with my in-laws. Then I went out for the first time in ages.  I told my husband I would be out late and didn't want to wake anyone so I would be at my parents house.  Did the same thing Thursday through tonight.  My husband has been calling and texting and coming over to tell me I need to come home because the house is a disaster because his parents won't do anything.  They are in vacation and they are there to see the kids not clean up.  The kids are having a fun time with no rules and he has been contacted by the school because no homework was turned in on Thursday or Friday.  I didn't answer those texts.  I said I would be back after his parents left or he enforced the rules.  He said I was taking it too far and that it was affecting his work.  Honestly tough shit.   \n",
       "4  My daughter (16) and I have gotten into a massive fight. My daughter has always been a picky eater and we have always done our best to accommodate her (Feeding her before parties weddings etc ). The problem lies with my husband's upcoming birthday ( turning 50).The restaurant he has picked is very special to us. That is where we first met as children for a business deal our parents had and then we became best friends when he asked me out in that very restaurant and our first date was there. When he proposed to me and who catered our wedding, I told him I was pregnant and we held my daughter's 1st birthday there. Unfortunately, we couldn’t go there a lot as we had to move for his job but basically, all the major events of our lives were held there. So for my husband's birthday to celebrate him turning half a century old, we want to go there.We once took our daughter there when she was 10 and she hated it. But now since she is 16 I thought she would have matured enough and it is not like I'm forcing her to eat. She has the option of eating at home and I've told her so many times that the restaurant does have food she likes to eat, but she claims that it smells bad. It is a seafood restaurant but we always sit outside at our usual table so I don’t understand that.She says that we are being selfish but I told her it's not about her it's not her day. In anger, she has refused to talk to us and not doing her usual chores and is refusing to eat. My husband is heartbroken and thinks it is all his fault and wants to cancel but I think it will just fuel her brattiness. Today my husband had to work late so it was only my daughter and me. When I called for my daughter to come to eat she looked at the food and then took the plate and dumped it in the bin.I was shocked, food is valuable and she didn’t have to do that. I snapped at her calling her a selfish insecure little brat. That she is not only hurting her father but ruining his birthday and it's not as if we are asking her to give up a kidney. That if she continues this behavior we will never fund her birthday parties ever again. She said that I am a terrible mother for saying that.I feel like I went overboard but that she is acting like a brat. AITA?Edit: I am sorry for the late reply I posted this and went to sleep, No my daughter does not have anything like autism or any food allergies, we tested her when she was 10.We can’t leave her at home because this restaurant is across the country from where we a going to meet our family and according to our country's laws she is still not allowed to be alone for more than a day without parental supervision.We have never had a fight like this and she usually is a chill kid i have no idea what has gotten into her.Edit: The reason we are not too strict with our daughter's eating habits is that we grew up in houses that were verbally and physically abusive, and it affected my husband the most. We never had the chance to go to therapy because at first, it was not a thing then it was too expensive and well we figured we didn’t have to.We did not want our daughter to be like us and we thought if she didn’t cause tantrums who is it really affecting? But my daughter has always gotten good grades and has had a lot of friends so this behave is really unique    \n",
       "\n",
       "                                                                                                                   post_title  \n",
       "0                                                          AITA for telling my boyfriend I'll shave my legs if he shaves his?  \n",
       "1           AITA for pulling my daughter from a waterpark trip because her teacher made her stay with a kid she doesn't like?  \n",
       "2                                                        AITA for not letting an elderly woman have my son’s seat on the bus?  \n",
       "3  AITA for taking my kids to my parents house to sleep because my husband will not enforce the rules when his parents visit?  \n",
       "4                                                                 AITA for calling my daughter a selfish insecure little brat  "
      ]
     },
     "execution_count": 112,
     "metadata": {},
     "output_type": "execute_result"
    }
   ],
   "source": [
    "posts.head()"
   ]
  },
  {
   "cell_type": "code",
   "execution_count": 7,
   "id": "64389e80",
   "metadata": {},
   "outputs": [],
   "source": [
    "comments  = comments[[#'comment_id',\n",
    "                      'post_id',\n",
    "                      'comment_score',\n",
    "                      'comment_content',\n",
    "                      #'comment_permalink'\n",
    "                     ]].copy()\n"
   ]
  },
  {
   "cell_type": "code",
   "execution_count": 115,
   "id": "74540291",
   "metadata": {},
   "outputs": [
    {
     "data": {
      "text/html": [
       "<div>\n",
       "<style scoped>\n",
       "    .dataframe tbody tr th:only-of-type {\n",
       "        vertical-align: middle;\n",
       "    }\n",
       "\n",
       "    .dataframe tbody tr th {\n",
       "        vertical-align: top;\n",
       "    }\n",
       "\n",
       "    .dataframe thead th {\n",
       "        text-align: right;\n",
       "    }\n",
       "</style>\n",
       "<table border=\"1\" class=\"dataframe\">\n",
       "  <thead>\n",
       "    <tr style=\"text-align: right;\">\n",
       "      <th></th>\n",
       "      <th>post_id</th>\n",
       "      <th>comment_score</th>\n",
       "      <th>comment_content</th>\n",
       "    </tr>\n",
       "  </thead>\n",
       "  <tbody>\n",
       "    <tr>\n",
       "      <th>0</th>\n",
       "      <td>10qxvu1</td>\n",
       "      <td>7</td>\n",
       "      <td>The post about the bratty daughter and the seafood restaurant is rife with commenters creating mental disorders for the daughter to scrub accountability for her behaviour. Honestly kinda dangerous</td>\n",
       "    </tr>\n",
       "    <tr>\n",
       "      <th>1</th>\n",
       "      <td>10qxvu1</td>\n",
       "      <td>7</td>\n",
       "      <td>My subconscious chose the wrong option for a report I feel so embarrassed even though I don’t think it’s a big deal 🥲  Just wanted to say that somewhere</td>\n",
       "    </tr>\n",
       "    <tr>\n",
       "      <th>2</th>\n",
       "      <td>10qxvu1</td>\n",
       "      <td>2</td>\n",
       "      <td>Unpopular opinion: I think contest mode is bad, mainly because of the fact that I can't see my own score. I never liked the whole closing your eyes when people vote thing (which I assume this is based on). Worse, if a post gets removed, you won't ever be able to see your score, even after 1.5 hours, so you're stuck seeing \"score hidden\" forever. I think you should add the feature in which after a post is deleted or removed that contest mode gets disabled.</td>\n",
       "    </tr>\n",
       "    <tr>\n",
       "      <th>3</th>\n",
       "      <td>10qxvu1</td>\n",
       "      <td>0</td>\n",
       "      <td>can we talk about the ableism on this sub. example the post about op not bringing his kids to his sisters wedding because his sister didn't allow his youngest daughter to come to the wedding. that is the the worst and most toxic comment section i have seen in this sub.  the comments acted like op was the devil and ops daughter will always be mad at  him and his youngest daughter.  people also called the ops youngest daughter golden child and ops oldest daughters life will be hell because of op caring about the youngest daughter who has autism  people also said that op taught his oldest daughter that she will be punished because of the youngest sisters autism  . there were  so many abelist things said in that comment section.  like tf fuck was op yta.  the real asshole was ops sister who purposely excluded ops daughter.  op was nta.</td>\n",
       "    </tr>\n",
       "    <tr>\n",
       "      <th>4</th>\n",
       "      <td>10qxvu1</td>\n",
       "      <td>25</td>\n",
       "      <td>I hate when commenters just make stuff up about the post and then move forward acting as if it's true.  Like the post on the front page about the grandmother giving her granddaughter braids.  People saying the mom was a racist and not taking care of her daughter's hair and ruining it etc.  The OP clearly stated the granddaughter had beautiful, well maintained curls.  It's like they have to make up something to be mad at.</td>\n",
       "    </tr>\n",
       "  </tbody>\n",
       "</table>\n",
       "</div>"
      ],
      "text/plain": [
       "   post_id  comment_score  \\\n",
       "0  10qxvu1              7   \n",
       "1  10qxvu1              7   \n",
       "2  10qxvu1              2   \n",
       "3  10qxvu1              0   \n",
       "4  10qxvu1             25   \n",
       "\n",
       "                                                                                                                                                                                                                                                                                                                                                                                                                                                                                                                                                                                                                                                                                                                                                                                                                                                               comment_content  \n",
       "0                                                                                                                                                                                                                                                                                                                                                                                                                                                                                                                                                                                                                                                                         The post about the bratty daughter and the seafood restaurant is rife with commenters creating mental disorders for the daughter to scrub accountability for her behaviour. Honestly kinda dangerous  \n",
       "1                                                                                                                                                                                                                                                                                                                                                                                                                                                                                                                                                                                                                                                                                                                     My subconscious chose the wrong option for a report I feel so embarrassed even though I don’t think it’s a big deal 🥲  Just wanted to say that somewhere  \n",
       "2                                                                                                                                                                                                                                                                                                                                                                                                  Unpopular opinion: I think contest mode is bad, mainly because of the fact that I can't see my own score. I never liked the whole closing your eyes when people vote thing (which I assume this is based on). Worse, if a post gets removed, you won't ever be able to see your score, even after 1.5 hours, so you're stuck seeing \"score hidden\" forever. I think you should add the feature in which after a post is deleted or removed that contest mode gets disabled.  \n",
       "3  can we talk about the ableism on this sub. example the post about op not bringing his kids to his sisters wedding because his sister didn't allow his youngest daughter to come to the wedding. that is the the worst and most toxic comment section i have seen in this sub.  the comments acted like op was the devil and ops daughter will always be mad at  him and his youngest daughter.  people also called the ops youngest daughter golden child and ops oldest daughters life will be hell because of op caring about the youngest daughter who has autism  people also said that op taught his oldest daughter that she will be punished because of the youngest sisters autism  . there were  so many abelist things said in that comment section.  like tf fuck was op yta.  the real asshole was ops sister who purposely excluded ops daughter.  op was nta.  \n",
       "4                                                                                                                                                                                                                                                                                                                                                                                                                                     I hate when commenters just make stuff up about the post and then move forward acting as if it's true.  Like the post on the front page about the grandmother giving her granddaughter braids.  People saying the mom was a racist and not taking care of her daughter's hair and ruining it etc.  The OP clearly stated the granddaughter had beautiful, well maintained curls.  It's like they have to make up something to be mad at.  "
      ]
     },
     "execution_count": 115,
     "metadata": {},
     "output_type": "execute_result"
    }
   ],
   "source": [
    "comments.head()"
   ]
  },
  {
   "cell_type": "markdown",
   "id": "2742e49a",
   "metadata": {},
   "source": [
    "### 4. Joining our dataframes together and see what get\n"
   ]
  },
  {
   "cell_type": "code",
   "execution_count": 8,
   "id": "58e5f1e7",
   "metadata": {},
   "outputs": [],
   "source": [
    "df = posts.merge(comments, on=\"post_id\", how=\"inner\")"
   ]
  },
  {
   "cell_type": "code",
   "execution_count": 120,
   "id": "cd19a50d",
   "metadata": {},
   "outputs": [
    {
     "data": {
      "text/html": [
       "<div>\n",
       "<style scoped>\n",
       "    .dataframe tbody tr th:only-of-type {\n",
       "        vertical-align: middle;\n",
       "    }\n",
       "\n",
       "    .dataframe tbody tr th {\n",
       "        vertical-align: top;\n",
       "    }\n",
       "\n",
       "    .dataframe thead th {\n",
       "        text-align: right;\n",
       "    }\n",
       "</style>\n",
       "<table border=\"1\" class=\"dataframe\">\n",
       "  <thead>\n",
       "    <tr style=\"text-align: right;\">\n",
       "      <th></th>\n",
       "      <th>post_id</th>\n",
       "      <th>post_content</th>\n",
       "      <th>post_title</th>\n",
       "      <th>comment_score</th>\n",
       "      <th>comment_content</th>\n",
       "    </tr>\n",
       "  </thead>\n",
       "  <tbody>\n",
       "    <tr>\n",
       "      <th>0</th>\n",
       "      <td>10uxee0</td>\n",
       "      <td>I know this post sounds super petty, but this is the most ridiculous fight I've had with my boyfriend, and unfortunately it's where we're at.I \\[F28\\] have never shaved in my life. I think it's up to the person regardless, but I've also just never really had a lot of hair. My boyfriend recently stayed over and asked to borrow a razor. Since I don't shave, I didn't have one on hand, and apparently that grossed him out. He told me that it was unhygienic to not shave and we argued back and forth about the issue when I finally told him that I'd only start shaving my legs if he shaved his first. He called me immature and petty, whereas I think he's being super fixated on this weird thing. It honestly wouldn't really bother me to shave, but I'm just more irked at his statements where he basically called me dirty. I was serious though: I'll shave whenever he shaves too.We're at an impasse but I wonder if I *am* being a little too petty about the whole thing.</td>\n",
       "      <td>AITA for telling my boyfriend I'll shave my legs if he shaves his?</td>\n",
       "      <td>10540</td>\n",
       "      <td>You are the petty the world needs. You don’t shave your legs … *and he just noticed*?  My, he is observant. NTA</td>\n",
       "    </tr>\n",
       "    <tr>\n",
       "      <th>1</th>\n",
       "      <td>10uxee0</td>\n",
       "      <td>I know this post sounds super petty, but this is the most ridiculous fight I've had with my boyfriend, and unfortunately it's where we're at.I \\[F28\\] have never shaved in my life. I think it's up to the person regardless, but I've also just never really had a lot of hair. My boyfriend recently stayed over and asked to borrow a razor. Since I don't shave, I didn't have one on hand, and apparently that grossed him out. He told me that it was unhygienic to not shave and we argued back and forth about the issue when I finally told him that I'd only start shaving my legs if he shaved his first. He called me immature and petty, whereas I think he's being super fixated on this weird thing. It honestly wouldn't really bother me to shave, but I'm just more irked at his statements where he basically called me dirty. I was serious though: I'll shave whenever he shaves too.We're at an impasse but I wonder if I *am* being a little too petty about the whole thing.</td>\n",
       "      <td>AITA for telling my boyfriend I'll shave my legs if he shaves his?</td>\n",
       "      <td>3264</td>\n",
       "      <td>NTA  &amp;gt; He told me that it was unhygienic to not shave   Well if that's not the pot calling the kettle black, I don't know what is.</td>\n",
       "    </tr>\n",
       "    <tr>\n",
       "      <th>2</th>\n",
       "      <td>10uxee0</td>\n",
       "      <td>I know this post sounds super petty, but this is the most ridiculous fight I've had with my boyfriend, and unfortunately it's where we're at.I \\[F28\\] have never shaved in my life. I think it's up to the person regardless, but I've also just never really had a lot of hair. My boyfriend recently stayed over and asked to borrow a razor. Since I don't shave, I didn't have one on hand, and apparently that grossed him out. He told me that it was unhygienic to not shave and we argued back and forth about the issue when I finally told him that I'd only start shaving my legs if he shaved his first. He called me immature and petty, whereas I think he's being super fixated on this weird thing. It honestly wouldn't really bother me to shave, but I'm just more irked at his statements where he basically called me dirty. I was serious though: I'll shave whenever he shaves too.We're at an impasse but I wonder if I *am* being a little too petty about the whole thing.</td>\n",
       "      <td>AITA for telling my boyfriend I'll shave my legs if he shaves his?</td>\n",
       "      <td>2439</td>\n",
       "      <td>NTA. Do male leg hairs not collect the exact same amount of ‘dirt’? The hygiene argument has always struck me as utterly weird.</td>\n",
       "    </tr>\n",
       "    <tr>\n",
       "      <th>3</th>\n",
       "      <td>10uxee0</td>\n",
       "      <td>I know this post sounds super petty, but this is the most ridiculous fight I've had with my boyfriend, and unfortunately it's where we're at.I \\[F28\\] have never shaved in my life. I think it's up to the person regardless, but I've also just never really had a lot of hair. My boyfriend recently stayed over and asked to borrow a razor. Since I don't shave, I didn't have one on hand, and apparently that grossed him out. He told me that it was unhygienic to not shave and we argued back and forth about the issue when I finally told him that I'd only start shaving my legs if he shaved his first. He called me immature and petty, whereas I think he's being super fixated on this weird thing. It honestly wouldn't really bother me to shave, but I'm just more irked at his statements where he basically called me dirty. I was serious though: I'll shave whenever he shaves too.We're at an impasse but I wonder if I *am* being a little too petty about the whole thing.</td>\n",
       "      <td>AITA for telling my boyfriend I'll shave my legs if he shaves his?</td>\n",
       "      <td>1563</td>\n",
       "      <td>I also like how borrowing your razor wasn’t gross but you not having one WAS</td>\n",
       "    </tr>\n",
       "    <tr>\n",
       "      <th>4</th>\n",
       "      <td>10uxee0</td>\n",
       "      <td>I know this post sounds super petty, but this is the most ridiculous fight I've had with my boyfriend, and unfortunately it's where we're at.I \\[F28\\] have never shaved in my life. I think it's up to the person regardless, but I've also just never really had a lot of hair. My boyfriend recently stayed over and asked to borrow a razor. Since I don't shave, I didn't have one on hand, and apparently that grossed him out. He told me that it was unhygienic to not shave and we argued back and forth about the issue when I finally told him that I'd only start shaving my legs if he shaved his first. He called me immature and petty, whereas I think he's being super fixated on this weird thing. It honestly wouldn't really bother me to shave, but I'm just more irked at his statements where he basically called me dirty. I was serious though: I'll shave whenever he shaves too.We're at an impasse but I wonder if I *am* being a little too petty about the whole thing.</td>\n",
       "      <td>AITA for telling my boyfriend I'll shave my legs if he shaves his?</td>\n",
       "      <td>706</td>\n",
       "      <td>Lmao this is amazing. Have you asked him why he isn't unhygienic?   NTA</td>\n",
       "    </tr>\n",
       "  </tbody>\n",
       "</table>\n",
       "</div>"
      ],
      "text/plain": [
       "   post_id  \\\n",
       "0  10uxee0   \n",
       "1  10uxee0   \n",
       "2  10uxee0   \n",
       "3  10uxee0   \n",
       "4  10uxee0   \n",
       "\n",
       "                                                                                                                                                                                                                                                                                                                                                                                                                                                                                                                                                                                                                                                                                                                                                                                                                                                                                                                                                                                            post_content  \\\n",
       "0  I know this post sounds super petty, but this is the most ridiculous fight I've had with my boyfriend, and unfortunately it's where we're at.I \\[F28\\] have never shaved in my life. I think it's up to the person regardless, but I've also just never really had a lot of hair. My boyfriend recently stayed over and asked to borrow a razor. Since I don't shave, I didn't have one on hand, and apparently that grossed him out. He told me that it was unhygienic to not shave and we argued back and forth about the issue when I finally told him that I'd only start shaving my legs if he shaved his first. He called me immature and petty, whereas I think he's being super fixated on this weird thing. It honestly wouldn't really bother me to shave, but I'm just more irked at his statements where he basically called me dirty. I was serious though: I'll shave whenever he shaves too.We're at an impasse but I wonder if I *am* being a little too petty about the whole thing.   \n",
       "1  I know this post sounds super petty, but this is the most ridiculous fight I've had with my boyfriend, and unfortunately it's where we're at.I \\[F28\\] have never shaved in my life. I think it's up to the person regardless, but I've also just never really had a lot of hair. My boyfriend recently stayed over and asked to borrow a razor. Since I don't shave, I didn't have one on hand, and apparently that grossed him out. He told me that it was unhygienic to not shave and we argued back and forth about the issue when I finally told him that I'd only start shaving my legs if he shaved his first. He called me immature and petty, whereas I think he's being super fixated on this weird thing. It honestly wouldn't really bother me to shave, but I'm just more irked at his statements where he basically called me dirty. I was serious though: I'll shave whenever he shaves too.We're at an impasse but I wonder if I *am* being a little too petty about the whole thing.   \n",
       "2  I know this post sounds super petty, but this is the most ridiculous fight I've had with my boyfriend, and unfortunately it's where we're at.I \\[F28\\] have never shaved in my life. I think it's up to the person regardless, but I've also just never really had a lot of hair. My boyfriend recently stayed over and asked to borrow a razor. Since I don't shave, I didn't have one on hand, and apparently that grossed him out. He told me that it was unhygienic to not shave and we argued back and forth about the issue when I finally told him that I'd only start shaving my legs if he shaved his first. He called me immature and petty, whereas I think he's being super fixated on this weird thing. It honestly wouldn't really bother me to shave, but I'm just more irked at his statements where he basically called me dirty. I was serious though: I'll shave whenever he shaves too.We're at an impasse but I wonder if I *am* being a little too petty about the whole thing.   \n",
       "3  I know this post sounds super petty, but this is the most ridiculous fight I've had with my boyfriend, and unfortunately it's where we're at.I \\[F28\\] have never shaved in my life. I think it's up to the person regardless, but I've also just never really had a lot of hair. My boyfriend recently stayed over and asked to borrow a razor. Since I don't shave, I didn't have one on hand, and apparently that grossed him out. He told me that it was unhygienic to not shave and we argued back and forth about the issue when I finally told him that I'd only start shaving my legs if he shaved his first. He called me immature and petty, whereas I think he's being super fixated on this weird thing. It honestly wouldn't really bother me to shave, but I'm just more irked at his statements where he basically called me dirty. I was serious though: I'll shave whenever he shaves too.We're at an impasse but I wonder if I *am* being a little too petty about the whole thing.   \n",
       "4  I know this post sounds super petty, but this is the most ridiculous fight I've had with my boyfriend, and unfortunately it's where we're at.I \\[F28\\] have never shaved in my life. I think it's up to the person regardless, but I've also just never really had a lot of hair. My boyfriend recently stayed over and asked to borrow a razor. Since I don't shave, I didn't have one on hand, and apparently that grossed him out. He told me that it was unhygienic to not shave and we argued back and forth about the issue when I finally told him that I'd only start shaving my legs if he shaved his first. He called me immature and petty, whereas I think he's being super fixated on this weird thing. It honestly wouldn't really bother me to shave, but I'm just more irked at his statements where he basically called me dirty. I was serious though: I'll shave whenever he shaves too.We're at an impasse but I wonder if I *am* being a little too petty about the whole thing.   \n",
       "\n",
       "                                                           post_title  \\\n",
       "0  AITA for telling my boyfriend I'll shave my legs if he shaves his?   \n",
       "1  AITA for telling my boyfriend I'll shave my legs if he shaves his?   \n",
       "2  AITA for telling my boyfriend I'll shave my legs if he shaves his?   \n",
       "3  AITA for telling my boyfriend I'll shave my legs if he shaves his?   \n",
       "4  AITA for telling my boyfriend I'll shave my legs if he shaves his?   \n",
       "\n",
       "   comment_score  \\\n",
       "0          10540   \n",
       "1           3264   \n",
       "2           2439   \n",
       "3           1563   \n",
       "4            706   \n",
       "\n",
       "                                                                                                                         comment_content  \n",
       "0                        You are the petty the world needs. You don’t shave your legs … *and he just noticed*?  My, he is observant. NTA  \n",
       "1  NTA  &gt; He told me that it was unhygienic to not shave   Well if that's not the pot calling the kettle black, I don't know what is.  \n",
       "2        NTA. Do male leg hairs not collect the exact same amount of ‘dirt’? The hygiene argument has always struck me as utterly weird.  \n",
       "3                                                           I also like how borrowing your razor wasn’t gross but you not having one WAS  \n",
       "4                                                                Lmao this is amazing. Have you asked him why he isn't unhygienic?   NTA  "
      ]
     },
     "execution_count": 120,
     "metadata": {},
     "output_type": "execute_result"
    }
   ],
   "source": [
    "df.head()"
   ]
  },
  {
   "cell_type": "code",
   "execution_count": 9,
   "id": "a8675662",
   "metadata": {},
   "outputs": [
    {
     "data": {
      "text/plain": [
       "10v3fh8    93\n",
       "10v25e9    92\n",
       "10tnrz7    89\n",
       "10ul5b9    89\n",
       "10toc16    84\n",
       "           ..\n",
       "10vbbwq     1\n",
       "10vwul2     1\n",
       "10vbd4c     1\n",
       "10ty6ca     1\n",
       "10vwgje     1\n",
       "Name: post_id, Length: 1071, dtype: int64"
      ]
     },
     "execution_count": 9,
     "metadata": {},
     "output_type": "execute_result"
    }
   ],
   "source": [
    "df[\"post_id\"].value_counts()"
   ]
  },
  {
   "cell_type": "code",
   "execution_count": 183,
   "id": "d9703f4f",
   "metadata": {
    "scrolled": true
   },
   "outputs": [
    {
     "data": {
      "image/png": "[encoded data removed]",
      "text/plain": [
       "<Figure size 640x480 with 1 Axes>"
      ]
     },
     "metadata": {},
     "output_type": "display_data"
    }
   ],
   "source": [
    "ax = df[\"post_id\"].value_counts().plot(kind = \"hist\", \n",
    "                                       title = \"Top posts in number of comments collected\",\n",
    "                                       bins = 100,\n",
    "                                       density = True\n",
    "                                               )\n",
    "mean = df[\"post_id\"].value_counts().mean()\n",
    "plt.pyplot.axvline(mean, color = \"red\")\n",
    "plt.pyplot.text(25, 0.03, \"means=\" + str(round(mean)), color = \"red\")\n",
    "ax = df[\"post_id\"].value_counts().plot(kind = 'kde')"
   ]
  },
  {
   "cell_type": "markdown",
   "id": "0dd02cf7",
   "metadata": {},
   "source": [
    "We've got on average 22 comments per post we fetched. That's actually pretty good since we set a 100 comment limit on our scrapping, which means we have all comments of most posts. Let's see quantile range."
   ]
  },
  {
   "cell_type": "code",
   "execution_count": 12,
   "id": "f56e5f6e",
   "metadata": {},
   "outputs": [
    {
     "data": {
      "text/plain": [
       "0.10     5.0\n",
       "0.25     9.0\n",
       "0.50    16.0\n",
       "0.75    29.0\n",
       "0.90    50.0\n",
       "Name: post_id, dtype: float64"
      ]
     },
     "execution_count": 12,
     "metadata": {},
     "output_type": "execute_result"
    }
   ],
   "source": [
    "df[\"post_id\"].value_counts().quantile([.1, .25, .5, .75, .9])"
   ]
  },
  {
   "cell_type": "code",
   "execution_count": 166,
   "id": "b6f26a98",
   "metadata": {},
   "outputs": [
    {
     "data": {
      "text/plain": [
       "Text(100, 60, 'mean=82')"
      ]
     },
     "execution_count": 166,
     "metadata": {},
     "output_type": "execute_result"
    },
    {
     "data": {
      "image/png": "[encoded data removed]",
      "text/plain": [
       "<Figure size 640x480 with 1 Axes>"
      ]
     },
     "metadata": {},
     "output_type": "display_data"
    }
   ],
   "source": [
    "ax = df[\"comment_score\"].plot(kind = \"hist\",\n",
    "                         title = \"Comment score distribution\",\n",
    "                         range = [-50, 500],\n",
    "                         bins = 300,\n",
    "                         ylim = [0, 100]\n",
    "                        )\n",
    "mean = df[\"comment_score\"].mean()\n",
    "plt.pyplot.axvline(mean, color = \"red\")\n",
    "plt.pyplot.text(100, 60, \"mean=\" + str(round(mean)), color = \"red\")"
   ]
  },
  {
   "cell_type": "markdown",
   "id": "bc878029",
   "metadata": {},
   "source": [
    "High mean of comment score can be explained because we're getting posts from /top and then we sort comments by /top in addition to that. Which mean we should have quality comments to work with"
   ]
  },
  {
   "cell_type": "markdown",
   "id": "faeeede0",
   "metadata": {},
   "source": [
    "### 5. Let's start checking out what's inside the comments and figure out what people think"
   ]
  },
  {
   "cell_type": "code",
   "execution_count": 187,
   "id": "f7defc6d",
   "metadata": {},
   "outputs": [
    {
     "name": "stdout",
     "output_type": "stream",
     "text": [
      "NTA 31\n",
      "YTA 0\n",
      "YWBTA 0\n",
      "YWNBTA 0\n",
      "ESH 0\n",
      "NAH 0\n",
      "INFO 0\n"
     ]
    }
   ],
   "source": [
    "df_sample = df[df['post_id'] == \"10uxee0\"]\n",
    "\n",
    "d = dict({\"YTA\": len(df_sample[df_sample['comment_content'].str.contains(r'YTA')]),\n",
    "          \"YWBTA\": len(df_sample[df_sample['comment_content'].str.contains(r'YWBTA')]), \n",
    "          \"NTA\": len(df_sample[df_sample['comment_content'].str.contains(r'NTA')]), \n",
    "          \"YWNBTA\": len(df_sample[df_sample['comment_content'].str.contains(r'YWNBTA')]), \n",
    "          \"ESH\": len(df_sample[df_sample['comment_content'].str.contains(r'ESH')]), \n",
    "          \"NAH\": len(df_sample[df_sample['comment_content'].str.contains(r'NAH')]), \n",
    "          \"INFO\":len(df_sample[df_sample['comment_content'].str.contains(r'INFO')]) })\n",
    "\n",
    "for verdict in sorted(d, key=d.get, reverse=True):\n",
    "    print(verdict, d[verdict])"
   ]
  },
  {
   "cell_type": "markdown",
   "id": "8478c716",
   "metadata": {},
   "source": [
    "Let's do this for all our posts"
   ]
  },
  {
   "cell_type": "code",
   "execution_count": 21,
   "id": "f7d2a221",
   "metadata": {},
   "outputs": [],
   "source": [
    "categories = [\"NTA\", \"YWBTA\", \"YWNBTA\", \"ESH\", \"NAH\", \"INFO\"]\n",
    "result = count_occurrences(df, categories)"
   ]
  },
  {
   "cell_type": "code",
   "execution_count": 22,
   "id": "bdb855f8",
   "metadata": {},
   "outputs": [
    {
     "name": "stdout",
     "output_type": "stream",
     "text": [
      "{'10uxee0': {'NTA': 31, 'YWBTA': 0, 'YWNBTA': 0, 'ESH': 0, 'NAH': 0, 'INFO': 0}, '10ur722': {'NTA': 14, 'YWBTA': 0, 'YWNBTA': 0, 'ESH': 0, 'NAH': 0, 'INFO': 0}, '10upxdd': {'NTA': 27, 'YWBTA': 0, 'YWNBTA': 0, 'ESH': 0, 'NAH': 0, 'INFO': 0}, '10v2vra': {'NTA': 63, 'INFO': 1, 'YWBTA': 0, 'YWNBTA': 0, 'ESH': 0, 'NAH': 0}, '10ung90': {'NTA': 17, 'ESH': 3, 'YWBTA': 0, 'YWNBTA': 0, 'NAH': 0, 'INFO': 0}, '10uj4d9': {'NTA': 12, 'INFO': 1, 'YWBTA': 0, 'YWNBTA': 0, 'ESH': 0, 'NAH': 0}, '10ura66': {'NTA': 21, 'INFO': 3, 'ESH': 1, 'YWBTA': 0, 'YWNBTA': 0, 'NAH': 0}, '10ux79o': {'ESH': 3, 'NAH': 1, 'NTA': 0, 'YWBTA': 0, 'YWNBTA': 0, 'INFO': 0}, '10uhg3s': {'NTA': 19, 'YWBTA': 0, 'YWNBTA': 0, 'ESH': 0, 'NAH': 0, 'INFO': 0}, '10v0goc': {'INFO': 4, 'ESH': 1, 'NTA': 0, 'YWBTA': 0, 'YWNBTA': 0, 'NAH': 0}, '10utyes': {'NTA': 2, 'INFO': 1, 'YWNBTA': 1, 'YWBTA': 0, 'ESH': 0, 'NAH': 0}, '10ulsrp': {'NTA': 0, 'YWBTA': 0, 'YWNBTA': 0, 'ESH': 0, 'NAH': 0, 'INFO': 0}, '10up4gf': {'NTA': 39, 'ESH': 1, 'YWBTA': 0, 'YWNBTA': 0, 'NAH': 0, 'INFO': 0}, '10uj07i': {'NTA': 6, 'YWBTA': 0, 'YWNBTA': 0, 'ESH': 0, 'NAH': 0, 'INFO': 0}, '10ukzpr': {'NTA': 38, 'YWBTA': 0, 'YWNBTA': 0, 'ESH': 0, 'NAH': 0, 'INFO': 0}, '10un17c': {'NTA': 49, 'INFO': 1, 'ESH': 1, 'YWBTA': 0, 'YWNBTA': 0, 'NAH': 0}, '10ubcp5': {'NTA': 13, 'YWBTA': 0, 'YWNBTA': 0, 'ESH': 0, 'NAH': 0, 'INFO': 0}, '10uczru': {'ESH': 1, 'NTA': 0, 'YWBTA': 0, 'YWNBTA': 0, 'NAH': 0, 'INFO': 0}, '10uqw4f': {'NTA': 58, 'INFO': 2, 'YWBTA': 0, 'YWNBTA': 0, 'ESH': 0, 'NAH': 0}, '10uolan': {'NTA': 29, 'INFO': 1, 'YWBTA': 0, 'YWNBTA': 0, 'ESH': 0, 'NAH': 0}, '10unudp': {'NTA': 49, 'YWBTA': 0, 'YWNBTA': 0, 'ESH': 0, 'NAH': 0, 'INFO': 0}, '10u8muo': {'YWBTA': 4, 'NTA': 3, 'ESH': 2, 'YWNBTA': 0, 'NAH': 0, 'INFO': 0}, '10ul5b9': {'NTA': 75, 'INFO': 3, 'YWBTA': 0, 'YWNBTA': 0, 'ESH': 0, 'NAH': 0}, '10un335': {'NTA': 50, 'NAH': 8, 'INFO': 1, 'YWBTA': 0, 'YWNBTA': 0, 'ESH': 0}, '10ufsch': {'NTA': 2, 'YWBTA': 0, 'YWNBTA': 0, 'ESH': 0, 'NAH': 0, 'INFO': 0}, '10uugoi': {'NTA': 41, 'ESH': 2, 'NAH': 1, 'YWBTA': 0, 'YWNBTA': 0, 'INFO': 0}, '10uj3o1': {'NTA': 28, 'ESH': 5, 'YWBTA': 0, 'YWNBTA': 0, 'NAH': 0, 'INFO': 0}, '10uiqc7': {'NTA': 65, 'YWBTA': 0, 'YWNBTA': 0, 'ESH': 0, 'NAH': 0, 'INFO': 0}, '10uco3c': {'NTA': 23, 'YWBTA': 0, 'YWNBTA': 0, 'ESH': 0, 'NAH': 0, 'INFO': 0}, '10v3fh8': {'ESH': 2, 'INFO': 2, 'NTA': 1, 'YWBTA': 0, 'YWNBTA': 0, 'NAH': 0}, '10usuqe': {'NTA': 30, 'INFO': 2, 'ESH': 1, 'NAH': 1, 'YWBTA': 0, 'YWNBTA': 0}, '10uu2i8': {'NTA': 63, 'YWBTA': 0, 'YWNBTA': 0, 'ESH': 0, 'NAH': 0, 'INFO': 0}, '10urxf5': {'NTA': 8, 'ESH': 6, 'INFO': 2, 'YWBTA': 0, 'YWNBTA': 0, 'NAH': 0}, '10uwunk': {'NTA': 59, 'INFO': 1, 'YWBTA': 0, 'YWNBTA': 0, 'ESH': 0, 'NAH': 0}, '10v41jx': {'NTA': 28, 'INFO': 1, 'YWBTA': 0, 'YWNBTA': 0, 'ESH': 0, 'NAH': 0}, '10ubvgp': {'NTA': 14, 'ESH': 3, 'INFO': 1, 'YWBTA': 0, 'YWNBTA': 0, 'NAH': 0}, '10v15sq': {'NTA': 41, 'NAH': 1, 'YWNBTA': 1, 'YWBTA': 0, 'ESH': 0, 'INFO': 0}, '10v1l3c': {'NTA': 42, 'ESH': 5, 'YWBTA': 0, 'YWNBTA': 0, 'NAH': 0, 'INFO': 0}, '10ujnk8': {'NTA': 23, 'YWBTA': 0, 'YWNBTA': 0, 'ESH': 0, 'NAH': 0, 'INFO': 0}, '10ui2ji': {'YWBTA': 10, 'NTA': 7, 'INFO': 3, 'YWNBTA': 0, 'ESH': 0, 'NAH': 0}, '10u91vb': {'NTA': 19, 'INFO': 1, 'YWBTA': 0, 'YWNBTA': 0, 'ESH': 0, 'NAH': 0}, '10uag1t': {'NTA': 62, 'YWBTA': 0, 'YWNBTA': 0, 'ESH': 0, 'NAH': 0, 'INFO': 0}, '10uqfvz': {'NTA': 43, 'NAH': 1, 'YWBTA': 0, 'YWNBTA': 0, 'ESH': 0, 'INFO': 0}, '10un8lv': {'NTA': 29, 'ESH': 5, 'INFO': 1, 'YWBTA': 0, 'YWNBTA': 0, 'NAH': 0}, '10ukdih': {'NTA': 65, 'YWBTA': 0, 'YWNBTA': 0, 'ESH': 0, 'NAH': 0, 'INFO': 0}, '10up25i': {'NTA': 15, 'ESH': 1, 'YWBTA': 0, 'YWNBTA': 0, 'NAH': 0, 'INFO': 0}, '10v3w62': {'NTA': 10, 'YWBTA': 0, 'YWNBTA': 0, 'ESH': 0, 'NAH': 0, 'INFO': 0}, '10uugdm': {'NTA': 34, 'YWBTA': 0, 'YWNBTA': 0, 'ESH': 0, 'NAH': 0, 'INFO': 0}, '10ux1bx': {'NTA': 30, 'NAH': 2, 'ESH': 1, 'YWBTA': 0, 'YWNBTA': 0, 'INFO': 0}, '10usgbf': {'NTA': 18, 'NAH': 10, 'INFO': 2, 'ESH': 2, 'YWBTA': 0, 'YWNBTA': 0}, '10ud2g9': {'NTA': 43, 'INFO': 1, 'NAH': 1, 'YWBTA': 0, 'YWNBTA': 0, 'ESH': 0}, '10v4xcm': {'NTA': 32, 'NAH': 3, 'INFO': 2, 'ESH': 1, 'YWBTA': 0, 'YWNBTA': 0}, '10umy8f': {'NTA': 44, 'YWBTA': 0, 'YWNBTA': 0, 'ESH': 0, 'NAH': 0, 'INFO': 0}, '10unmja': {'NTA': 61, 'INFO': 3, 'YWBTA': 1, 'YWNBTA': 0, 'ESH': 0, 'NAH': 0}, '10v4ioa': {'NTA': 53, 'ESH': 1, 'INFO': 1, 'YWBTA': 0, 'YWNBTA': 0, 'NAH': 0}, '10uq9jx': {'NTA': 21, 'ESH': 17, 'INFO': 2, 'YWBTA': 0, 'YWNBTA': 0, 'NAH': 0}, '10ufqnv': {'NTA': 26, 'INFO': 1, 'YWBTA': 0, 'YWNBTA': 0, 'ESH': 0, 'NAH': 0}, '10v03fp': {'NTA': 18, 'ESH': 1, 'YWBTA': 0, 'YWNBTA': 0, 'NAH': 0, 'INFO': 0}, '10uv0pc': {'NTA': 29, 'ESH': 2, 'INFO': 1, 'YWBTA': 0, 'YWNBTA': 0, 'NAH': 0}, '10v2gv2': {'NTA': 17, 'YWBTA': 0, 'YWNBTA': 0, 'ESH': 0, 'NAH': 0, 'INFO': 0}, '10uib2d': {'NTA': 50, 'YWBTA': 0, 'YWNBTA': 0, 'ESH': 0, 'NAH': 0, 'INFO': 0}, '10uwuj5': {'NTA': 21, 'NAH': 6, 'YWBTA': 0, 'YWNBTA': 0, 'ESH': 0, 'INFO': 0}, '10uzaip': {'NTA': 11, 'NAH': 1, 'YWBTA': 0, 'YWNBTA': 0, 'ESH': 0, 'INFO': 0}, '10uqbli': {'NTA': 21, 'YWBTA': 0, 'YWNBTA': 0, 'ESH': 0, 'NAH': 0, 'INFO': 0}, '10v12yx': {'NTA': 15, 'YWBTA': 0, 'YWNBTA': 0, 'ESH': 0, 'NAH': 0, 'INFO': 0}, '10ul5g5': {'NTA': 12, 'INFO': 1, 'YWBTA': 0, 'YWNBTA': 0, 'ESH': 0, 'NAH': 0}, '10v3rhq': {'NTA': 19, 'INFO': 1, 'YWBTA': 0, 'YWNBTA': 0, 'ESH': 0, 'NAH': 0}, '10usl9x': {'NTA': 12, 'YWBTA': 0, 'YWNBTA': 0, 'ESH': 0, 'NAH': 0, 'INFO': 0}, '10v15wo': {'NTA': 15, 'ESH': 1, 'YWBTA': 0, 'YWNBTA': 0, 'NAH': 0, 'INFO': 0}, '10uyods': {'NTA': 9, 'ESH': 8, 'INFO': 2, 'YWBTA': 0, 'YWNBTA': 0, 'NAH': 0}, '10uii5n': {'ESH': 5, 'NTA': 4, 'INFO': 1, 'YWBTA': 0, 'YWNBTA': 0, 'NAH': 0}, '10v25e9': {'NTA': 5, 'INFO': 2, 'ESH': 2, 'YWBTA': 0, 'YWNBTA': 0, 'NAH': 0}, '10urqde': {'NTA': 17, 'YWNBTA': 1, 'YWBTA': 0, 'ESH': 0, 'NAH': 0, 'INFO': 0}, '10v0t9g': {'NTA': 11, 'YWBTA': 0, 'YWNBTA': 0, 'ESH': 0, 'NAH': 0, 'INFO': 0}, '10v3456': {'NTA': 7, 'NAH': 1, 'YWBTA': 0, 'YWNBTA': 0, 'ESH': 0, 'INFO': 0}, '10utqei': {'NTA': 7, 'YWBTA': 0, 'YWNBTA': 0, 'ESH': 0, 'NAH': 0, 'INFO': 0}, '10ux0zi': {'NTA': 9, 'ESH': 3, 'NAH': 2, 'YWBTA': 0, 'YWNBTA': 0, 'INFO': 0}, '10v2sdc': {'NTA': 20, 'YWBTA': 0, 'YWNBTA': 0, 'ESH': 0, 'NAH': 0, 'INFO': 0}, '10u6sml': {'NTA': 19, 'ESH': 1, 'NAH': 1, 'YWBTA': 0, 'YWNBTA': 0, 'INFO': 0}, '10v2mtt': {'NTA': 9, 'YWBTA': 0, 'YWNBTA': 0, 'ESH': 0, 'NAH': 0, 'INFO': 0}, '10uin13': {'NTA': 12, 'INFO': 1, 'YWBTA': 0, 'YWNBTA': 0, 'ESH': 0, 'NAH': 0}, '10uzo2m': {'NTA': 24, 'YWBTA': 0, 'YWNBTA': 0, 'ESH': 0, 'NAH': 0, 'INFO': 0}, '10v2ieh': {'NTA': 2, 'INFO': 1, 'YWBTA': 0, 'YWNBTA': 0, 'ESH': 0, 'NAH': 0}, '10up0zs': {'NTA': 12, 'YWBTA': 0, 'YWNBTA': 0, 'ESH': 0, 'NAH': 0, 'INFO': 0}, '10uyhoc': {'NTA': 14, 'YWNBTA': 1, 'YWBTA': 0, 'ESH': 0, 'NAH': 0, 'INFO': 0}, '10uue3r': {'INFO': 4, 'NTA': 3, 'NAH': 1, 'YWBTA': 0, 'YWNBTA': 0, 'ESH': 0}, '10us93w': {'NTA': 8, 'ESH': 3, 'NAH': 1, 'YWBTA': 0, 'YWNBTA': 0, 'INFO': 0}, '10ulrkq': {'NTA': 26, 'YWBTA': 0, 'YWNBTA': 0, 'ESH': 0, 'NAH': 0, 'INFO': 0}, '10uuh19': {'NTA': 25, 'NAH': 2, 'INFO': 1, 'YWBTA': 0, 'YWNBTA': 0, 'ESH': 0}, '10v0khp': {'NTA': 4, 'ESH': 2, 'YWBTA': 0, 'YWNBTA': 0, 'NAH': 0, 'INFO': 0}, '10uy1xp': {'NTA': 8, 'INFO': 1, 'YWBTA': 0, 'YWNBTA': 0, 'ESH': 0, 'NAH': 0}, '10utmde': {'NTA': 31, 'YWBTA': 0, 'YWNBTA': 0, 'ESH': 0, 'NAH': 0, 'INFO': 0}, '10u491u': {'NTA': 1, 'YWBTA': 0, 'YWNBTA': 0, 'ESH': 0, 'NAH': 0, 'INFO': 0}, '10u1ai6': {'NTA': 0, 'YWBTA': 0, 'YWNBTA': 0, 'ESH': 0, 'NAH': 0, 'INFO': 0}, '10uj9jx': {'NTA': 19, 'NAH': 1, 'YWBTA': 0, 'YWNBTA': 0, 'ESH': 0, 'INFO': 0}, '10ur7bo': {'NTA': 11, 'YWBTA': 2, 'YWNBTA': 0, 'ESH': 0, 'NAH': 0, 'INFO': 0}, '10v3gku': {'NTA': 19, 'ESH': 3, 'NAH': 1, 'YWBTA': 0, 'YWNBTA': 0, 'INFO': 0}, '10v1i0c': {'NTA': 4, 'ESH': 4, 'YWBTA': 0, 'YWNBTA': 0, 'NAH': 0, 'INFO': 0}, '10uexjv': {'NTA': 6, 'ESH': 5, 'INFO': 1, 'YWBTA': 0, 'YWNBTA': 0, 'NAH': 0}, '10v5j9r': {'NTA': 46, 'ESH': 1, 'YWBTA': 0, 'YWNBTA': 0, 'NAH': 0, 'INFO': 0}, '10ugp04': {'NTA': 25, 'YWNBTA': 2, 'YWBTA': 1, 'ESH': 0, 'NAH': 0, 'INFO': 0}, '10v5h9s': {'NTA': 7, 'YWBTA': 0, 'YWNBTA': 0, 'ESH': 0, 'NAH': 0, 'INFO': 0}, '10ukyod': {'NTA': 19, 'YWBTA': 0, 'YWNBTA': 0, 'ESH': 0, 'NAH': 0, 'INFO': 0}, '10u788e': {'NTA': 47, 'INFO': 1, 'YWBTA': 0, 'YWNBTA': 0, 'ESH': 0, 'NAH': 0}, '10uxrz5': {'NTA': 14, 'INFO': 1, 'ESH': 1, 'YWBTA': 0, 'YWNBTA': 0, 'NAH': 0}, '10uuah5': {'NTA': 19, 'ESH': 1, 'YWBTA': 0, 'YWNBTA': 0, 'NAH': 0, 'INFO': 0}, '10v2vun': {'NTA': 3, 'NAH': 2, 'YWBTA': 0, 'YWNBTA': 0, 'ESH': 0, 'INFO': 0}, '10v4yiu': {'NTA': 5, 'INFO': 1, 'YWBTA': 0, 'YWNBTA': 0, 'ESH': 0, 'NAH': 0}, '10v22qs': {'ESH': 9, 'NTA': 7, 'YWBTA': 0, 'YWNBTA': 0, 'NAH': 0, 'INFO': 0}, '10u5pre': {'NTA': 8, 'NAH': 4, 'YWBTA': 0, 'YWNBTA': 0, 'ESH': 0, 'INFO': 0}, '10u95zt': {'NTA': 21, 'NAH': 4, 'INFO': 3, 'ESH': 3, 'YWBTA': 2, 'YWNBTA': 0}, '10v3j67': {'NTA': 2, 'NAH': 2, 'YWBTA': 0, 'YWNBTA': 0, 'ESH': 0, 'INFO': 0}, '10uxsfw': {'NTA': 9, 'INFO': 1, 'YWBTA': 0, 'YWNBTA': 0, 'ESH': 0, 'NAH': 0}, '10v3ixm': {'NTA': 10, 'YWBTA': 0, 'YWNBTA': 0, 'ESH': 0, 'NAH': 0, 'INFO': 0}, '10uwl8m': {'NTA': 8, 'INFO': 1, 'YWBTA': 0, 'YWNBTA': 0, 'ESH': 0, 'NAH': 0}, '10v17sd': {'INFO': 3, 'NTA': 3, 'YWBTA': 0, 'YWNBTA': 0, 'ESH': 0, 'NAH': 0}, '10uzgh3': {'NTA': 13, 'INFO': 3, 'YWBTA': 0, 'YWNBTA': 0, 'ESH': 0, 'NAH': 0}, '10uokhg': {'NTA': 9, 'YWBTA': 0, 'YWNBTA': 0, 'ESH': 0, 'NAH': 0, 'INFO': 0}, '10uyde4': {'NTA': 9, 'NAH': 3, 'YWBTA': 0, 'YWNBTA': 0, 'ESH': 0, 'INFO': 0}, '10ujb68': {'NTA': 26, 'YWBTA': 0, 'YWNBTA': 0, 'ESH': 0, 'NAH': 0, 'INFO': 0}, '10v64h7': {'NTA': 50, 'NAH': 2, 'INFO': 2, 'YWBTA': 0, 'YWNBTA': 0, 'ESH': 0}, '10uz6aw': {'NTA': 12, 'INFO': 1, 'YWBTA': 0, 'YWNBTA': 0, 'ESH': 0, 'NAH': 0}, '10v4ahl': {'NTA': 1, 'YWBTA': 0, 'YWNBTA': 0, 'ESH': 0, 'NAH': 0, 'INFO': 0}, '10v48w0': {'NTA': 19, 'NAH': 4, 'YWBTA': 0, 'YWNBTA': 0, 'ESH': 0, 'INFO': 0}, '10v25jh': {'NAH': 4, 'NTA': 3, 'YWBTA': 1, 'YWNBTA': 0, 'ESH': 0, 'INFO': 0}, '10uygx6': {'NTA': 9, 'INFO': 1, 'YWBTA': 0, 'YWNBTA': 0, 'ESH': 0, 'NAH': 0}, '10ullpm': {'NTA': 9, 'NAH': 5, 'INFO': 2, 'YWBTA': 0, 'YWNBTA': 0, 'ESH': 0}, '10uv3qk': {'NTA': 8, 'ESH': 1, 'NAH': 1, 'YWBTA': 0, 'YWNBTA': 0, 'INFO': 0}, '10uripa': {'NTA': 12, 'NAH': 9, 'YWBTA': 0, 'YWNBTA': 0, 'ESH': 0, 'INFO': 0}, '10v3yma': {'YWBTA': 13, 'NTA': 1, 'INFO': 1, 'NAH': 1, 'YWNBTA': 0, 'ESH': 0}, '10usju5': {'NTA': 16, 'YWBTA': 0, 'YWNBTA': 0, 'ESH': 0, 'NAH': 0, 'INFO': 0}, '10uyqww': {'NTA': 8, 'YWBTA': 0, 'YWNBTA': 0, 'ESH': 0, 'NAH': 0, 'INFO': 0}, '10uqerq': {'NTA': 10, 'YWBTA': 0, 'YWNBTA': 0, 'ESH': 0, 'NAH': 0, 'INFO': 0}, '10uu4u9': {'NTA': 5, 'NAH': 1, 'YWBTA': 0, 'YWNBTA': 0, 'ESH': 0, 'INFO': 0}, '10trw4e': {'NTA': 14, 'YWBTA': 0, 'YWNBTA': 0, 'ESH': 0, 'NAH': 0, 'INFO': 0}, '10v550k': {'NAH': 6, 'NTA': 4, 'YWBTA': 0, 'YWNBTA': 0, 'ESH': 0, 'INFO': 0}, '10tzkvs': {'NTA': 27, 'INFO': 1, 'YWBTA': 0, 'YWNBTA': 0, 'ESH': 0, 'NAH': 0}, '10v3bwh': {'NTA': 13, 'YWBTA': 0, 'YWNBTA': 0, 'ESH': 0, 'NAH': 0, 'INFO': 0}, '10tohfu': {'NTA': 0, 'YWBTA': 0, 'YWNBTA': 0, 'ESH': 0, 'NAH': 0, 'INFO': 0}, '10v4oav': {'NTA': 6, 'NAH': 2, 'ESH': 1, 'YWBTA': 0, 'YWNBTA': 0, 'INFO': 0}, '10v1ubv': {'NTA': 4, 'YWBTA': 1, 'YWNBTA': 0, 'ESH': 0, 'NAH': 0, 'INFO': 0}, '10uy4bs': {'NTA': 8, 'NAH': 1, 'YWBTA': 0, 'YWNBTA': 0, 'ESH': 0, 'INFO': 0}, '10uy28w': {'NTA': 8, 'YWNBTA': 2, 'NAH': 1, 'YWBTA': 1, 'ESH': 0, 'INFO': 0}, '10uzdjy': {'NTA': 12, 'INFO': 1, 'YWBTA': 0, 'YWNBTA': 0, 'ESH': 0, 'NAH': 0}, '10uqu8l': {'NTA': 8, 'YWBTA': 1, 'ESH': 1, 'YWNBTA': 0, 'NAH': 0, 'INFO': 0}, '10tugna': {'ESH': 7, 'NTA': 4, 'INFO': 1, 'YWBTA': 0, 'YWNBTA': 0, 'NAH': 0}, '10uz1xd': {'NTA': 8, 'ESH': 1, 'NAH': 1, 'YWBTA': 0, 'YWNBTA': 0, 'INFO': 0}, '10trtrq': {'NTA': 13, 'YWBTA': 0, 'YWNBTA': 0, 'ESH': 0, 'NAH': 0, 'INFO': 0}, '10v3s2i': {'NTA': 5, 'INFO': 1, 'YWBTA': 0, 'YWNBTA': 0, 'ESH': 0, 'NAH': 0}, '10ug3m8': {'NTA': 34, 'YWBTA': 0, 'YWNBTA': 0, 'ESH': 0, 'NAH': 0, 'INFO': 0}, '10tmj7r': {'NTA': 21, 'YWBTA': 0, 'YWNBTA': 0, 'ESH': 0, 'NAH': 0, 'INFO': 0}, '10uzjoh': {'ESH': 4, 'NTA': 2, 'INFO': 1, 'YWBTA': 0, 'YWNBTA': 0, 'NAH': 0}, '10uri4j': {'NTA': 18, 'INFO': 1, 'YWBTA': 0, 'YWNBTA': 0, 'ESH': 0, 'NAH': 0}, '10v14bm': {'NTA': 5, 'NAH': 1, 'YWBTA': 0, 'YWNBTA': 0, 'ESH': 0, 'INFO': 0}, '10v3kqe': {'NTA': 12, 'YWBTA': 0, 'YWNBTA': 0, 'ESH': 0, 'NAH': 0, 'INFO': 0}, '10tmag5': {'NTA': 14, 'NAH': 2, 'ESH': 1, 'YWBTA': 0, 'YWNBTA': 0, 'INFO': 0}, '10v3je8': {'NTA': 7, 'NAH': 2, 'YWBTA': 2, 'YWNBTA': 1, 'ESH': 0, 'INFO': 0}, '10v25be': {'NTA': 0, 'YWBTA': 0, 'YWNBTA': 0, 'ESH': 0, 'NAH': 0, 'INFO': 0}, '10v253f': {'NTA': 6, 'YWBTA': 0, 'YWNBTA': 0, 'ESH': 0, 'NAH': 0, 'INFO': 0}, '10uyfjw': {'NTA': 6, 'NAH': 1, 'YWBTA': 0, 'YWNBTA': 0, 'ESH': 0, 'INFO': 0}, '10uutc5': {'NTA': 6, 'ESH': 2, 'YWBTA': 2, 'YWNBTA': 1, 'INFO': 1, 'NAH': 0}, '10v5osb': {'NTA': 4, 'YWNBTA': 2, 'ESH': 1, 'INFO': 1, 'YWBTA': 0, 'NAH': 0}, '10uwwv5': {'NTA': 17, 'YWBTA': 0, 'YWNBTA': 0, 'ESH': 0, 'NAH': 0, 'INFO': 0}, '10ufl16': {'NTA': 18, 'NAH': 5, 'INFO': 1, 'YWBTA': 0, 'YWNBTA': 0, 'ESH': 0}, '10uwvmc': {'NTA': 5, 'ESH': 1, 'YWBTA': 0, 'YWNBTA': 0, 'NAH': 0, 'INFO': 0}, '10uximh': {'NTA': 2, 'YWBTA': 0, 'YWNBTA': 0, 'ESH': 0, 'NAH': 0, 'INFO': 0}, '10ur5x6': {'NTA': 12, 'YWBTA': 0, 'YWNBTA': 0, 'ESH': 0, 'NAH': 0, 'INFO': 0}, '10usap6': {'NTA': 14, 'ESH': 2, 'INFO': 1, 'YWBTA': 0, 'YWNBTA': 0, 'NAH': 0}, '10v1t1h': {'NTA': 3, 'ESH': 3, 'NAH': 1, 'YWBTA': 0, 'YWNBTA': 0, 'INFO': 0}, '10umjcg': {'NTA': 13, 'ESH': 4, 'INFO': 1, 'NAH': 1, 'YWBTA': 0, 'YWNBTA': 0}, '10u14xq': {'NTA': 65, 'YWBTA': 0, 'YWNBTA': 0, 'ESH': 0, 'NAH': 0, 'INFO': 0}, '10v5b0w': {'NTA': 1, 'YWBTA': 0, 'YWNBTA': 0, 'ESH': 0, 'NAH': 0, 'INFO': 0}, '10v5826': {'NTA': 12, 'YWBTA': 0, 'YWNBTA': 0, 'ESH': 0, 'NAH': 0, 'INFO': 0}, '10uohwi': {'NTA': 17, 'ESH': 4, 'INFO': 2, 'YWBTA': 0, 'YWNBTA': 0, 'NAH': 0}, '10v0gkv': {'NTA': 15, 'INFO': 1, 'YWBTA': 0, 'YWNBTA': 0, 'ESH': 0, 'NAH': 0}, '10ug3zo': {'NTA': 25, 'YWNBTA': 3, 'YWBTA': 0, 'ESH': 0, 'NAH': 0, 'INFO': 0}, '10uqf1c': {'NTA': 19, 'YWBTA': 0, 'YWNBTA': 0, 'ESH': 0, 'NAH': 0, 'INFO': 0}, '10v2pwq': {'NTA': 3, 'YWBTA': 0, 'YWNBTA': 0, 'ESH': 0, 'NAH': 0, 'INFO': 0}, '10u6yej': {'NTA': 53, 'YWNBTA': 6, 'YWBTA': 0, 'ESH': 0, 'NAH': 0, 'INFO': 0}, '10u84rm': {'NTA': 54, 'NAH': 1, 'YWBTA': 0, 'YWNBTA': 0, 'ESH': 0, 'INFO': 0}, '10ul90d': {'NTA': 26, 'NAH': 3, 'YWBTA': 0, 'YWNBTA': 0, 'ESH': 0, 'INFO': 0}, '10uskuk': {'INFO': 1, 'NTA': 0, 'YWBTA': 0, 'YWNBTA': 0, 'ESH': 0, 'NAH': 0}, '10uwkdl': {'NTA': 2, 'YWBTA': 0, 'YWNBTA': 0, 'ESH': 0, 'NAH': 0, 'INFO': 0}, '10v2l6h': {'INFO': 2, 'NTA': 1, 'ESH': 1, 'YWBTA': 0, 'YWNBTA': 0, 'NAH': 0}, '10v4jwk': {'NTA': 15, 'INFO': 1, 'YWBTA': 0, 'YWNBTA': 0, 'ESH': 0, 'NAH': 0}, '10uttjr': {'NTA': 8, 'ESH': 1, 'YWBTA': 0, 'YWNBTA': 0, 'NAH': 0, 'INFO': 0}, '10uwxts': {'NTA': 4, 'YWBTA': 0, 'YWNBTA': 0, 'ESH': 0, 'NAH': 0, 'INFO': 0}, '10ur395': {'NTA': 25, 'YWBTA': 0, 'YWNBTA': 0, 'ESH': 0, 'NAH': 0, 'INFO': 0}, '10uu4hk': {'NTA': 18, 'YWBTA': 0, 'YWNBTA': 0, 'ESH': 0, 'NAH': 0, 'INFO': 0}, '10v49w9': {'NTA': 2, 'YWBTA': 0, 'YWNBTA': 0, 'ESH': 0, 'NAH': 0, 'INFO': 0}, '10usyr9': {'NTA': 4, 'YWBTA': 0, 'YWNBTA': 0, 'ESH': 0, 'NAH': 0, 'INFO': 0}, '10uzn1f': {'NTA': 11, 'YWBTA': 0, 'YWNBTA': 0, 'ESH': 0, 'NAH': 0, 'INFO': 0}, '10uqi8d': {'NTA': 10, 'YWBTA': 0, 'YWNBTA': 0, 'ESH': 0, 'NAH': 0, 'INFO': 0}, '10ust7y': {'NTA': 15, 'INFO': 1, 'YWBTA': 0, 'YWNBTA': 0, 'ESH': 0, 'NAH': 0}, '10uovga': {'NTA': 41, 'INFO': 1, 'YWBTA': 0, 'YWNBTA': 0, 'ESH': 0, 'NAH': 0}, '10uwojn': {'NTA': 2, 'YWBTA': 0, 'YWNBTA': 0, 'ESH': 0, 'NAH': 0, 'INFO': 0}, '10uwo4w': {'NTA': 3, 'NAH': 1, 'YWBTA': 0, 'YWNBTA': 0, 'ESH': 0, 'INFO': 0}, '10uzhfs': {'NTA': 3, 'ESH': 1, 'YWBTA': 0, 'YWNBTA': 0, 'NAH': 0, 'INFO': 0}, '10utp6p': {'NTA': 6, 'YWBTA': 0, 'YWNBTA': 0, 'ESH': 0, 'NAH': 0, 'INFO': 0}, '10tibnm': {'INFO': 2, 'NTA': 0, 'YWBTA': 0, 'YWNBTA': 0, 'ESH': 0, 'NAH': 0}, '10ufuer': {'NTA': 16, 'NAH': 1, 'INFO': 1, 'YWBTA': 0, 'YWNBTA': 0, 'ESH': 0}, '10utlbz': {'NTA': 12, 'NAH': 1, 'YWBTA': 0, 'YWNBTA': 0, 'ESH': 0, 'INFO': 0}, '10uszet': {'NTA': 7, 'NAH': 2, 'ESH': 1, 'YWBTA': 0, 'YWNBTA': 0, 'INFO': 0}, '10uh689': {'ESH': 7, 'INFO': 2, 'NTA': 2, 'YWBTA': 0, 'YWNBTA': 0, 'NAH': 0}, '10uy6al': {'NTA': 11, 'ESH': 2, 'YWBTA': 0, 'YWNBTA': 0, 'NAH': 0, 'INFO': 0}, '10v3t9r': {'NTA': 4, 'YWNBTA': 1, 'YWBTA': 0, 'ESH': 0, 'NAH': 0, 'INFO': 0}, '10usc8g': {'ESH': 3, 'NAH': 1, 'NTA': 1, 'INFO': 1, 'YWBTA': 0, 'YWNBTA': 0}, '10uu0ad': {'NTA': 5, 'YWBTA': 0, 'YWNBTA': 0, 'ESH': 0, 'NAH': 0, 'INFO': 0}, '10ukjor': {'NTA': 5, 'INFO': 1, 'YWBTA': 0, 'YWNBTA': 0, 'ESH': 0, 'NAH': 0}, '10u5n2c': {'NTA': 50, 'YWBTA': 0, 'YWNBTA': 0, 'ESH': 0, 'NAH': 0, 'INFO': 0}, '10uz109': {'NTA': 5, 'NAH': 1, 'YWBTA': 0, 'YWNBTA': 0, 'ESH': 0, 'INFO': 0}, '10uim7b': {'NTA': 6, 'ESH': 1, 'YWBTA': 0, 'YWNBTA': 0, 'NAH': 0, 'INFO': 0}, '10uv922': {'NTA': 5, 'NAH': 2, 'ESH': 1, 'YWBTA': 0, 'YWNBTA': 0, 'INFO': 0}, '10v3ld9': {'NTA': 4, 'YWNBTA': 1, 'YWBTA': 1, 'NAH': 1, 'ESH': 0, 'INFO': 0}, '10uiir4': {'NTA': 5, 'ESH': 1, 'NAH': 1, 'YWBTA': 0, 'YWNBTA': 0, 'INFO': 0}, '10v01e9': {'NTA': 3, 'ESH': 1, 'YWBTA': 0, 'YWNBTA': 0, 'NAH': 0, 'INFO': 0}, '10v1h6a': {'ESH': 4, 'NTA': 3, 'NAH': 2, 'INFO': 1, 'YWBTA': 0, 'YWNBTA': 0}, '10uj5xb': {'NTA': 28, 'NAH': 1, 'YWBTA': 0, 'YWNBTA': 0, 'ESH': 0, 'INFO': 0}, '10us893': {'NTA': 5, 'YWBTA': 0, 'YWNBTA': 0, 'ESH': 0, 'NAH': 0, 'INFO': 0}, '10uth2n': {'NTA': 14, 'ESH': 1, 'YWBTA': 0, 'YWNBTA': 0, 'NAH': 0, 'INFO': 0}, '10uinvc': {'NTA': 12, 'YWBTA': 0, 'YWNBTA': 0, 'ESH': 0, 'NAH': 0, 'INFO': 0}, '10u9k0y': {'NTA': 49, 'YWBTA': 0, 'YWNBTA': 0, 'ESH': 0, 'NAH': 0, 'INFO': 0}, '10urwol': {'NTA': 7, 'NAH': 3, 'YWBTA': 0, 'YWNBTA': 0, 'ESH': 0, 'INFO': 0}, '10uvfq6': {'NTA': 9, 'INFO': 1, 'YWBTA': 0, 'YWNBTA': 0, 'ESH': 0, 'NAH': 0}, '10usefe': {'NTA': 1, 'YWBTA': 0, 'YWNBTA': 0, 'ESH': 0, 'NAH': 0, 'INFO': 0}, '10ulsv4': {'NTA': 5, 'ESH': 4, 'INFO': 1, 'YWBTA': 0, 'YWNBTA': 0, 'NAH': 0}, '10ujx7b': {'ESH': 9, 'NTA': 4, 'YWBTA': 0, 'YWNBTA': 0, 'NAH': 0, 'INFO': 0}, '10tm226': {'NTA': 8, 'NAH': 2, 'YWBTA': 0, 'YWNBTA': 0, 'ESH': 0, 'INFO': 0}, '10uwwmh': {'NTA': 5, 'NAH': 1, 'YWBTA': 0, 'YWNBTA': 0, 'ESH': 0, 'INFO': 0}, '10tnmts': {'NTA': 22, 'YWBTA': 0, 'YWNBTA': 0, 'ESH': 0, 'NAH': 0, 'INFO': 0}, '10v0mxt': {'ESH': 2, 'NTA': 2, 'YWBTA': 0, 'YWNBTA': 0, 'NAH': 0, 'INFO': 0}, '10up9u7': {'NTA': 9, 'INFO': 2, 'YWBTA': 0, 'YWNBTA': 0, 'ESH': 0, 'NAH': 0}, '10uwc38': {'NTA': 5, 'YWBTA': 0, 'YWNBTA': 0, 'ESH': 0, 'NAH': 0, 'INFO': 0}, '10v2ewi': {'NTA': 8, 'YWBTA': 0, 'YWNBTA': 0, 'ESH': 0, 'NAH': 0, 'INFO': 0}, '10v67g7': {'NTA': 6, 'YWBTA': 0, 'YWNBTA': 0, 'ESH': 0, 'NAH': 0, 'INFO': 0}, '10v645e': {'NTA': 18, 'ESH': 2, 'YWBTA': 0, 'YWNBTA': 0, 'NAH': 0, 'INFO': 0}, '10uov9c': {'NTA': 32, 'ESH': 1, 'YWBTA': 0, 'YWNBTA': 0, 'NAH': 0, 'INFO': 0}, '10v0bkw': {'NTA': 4, 'NAH': 1, 'YWBTA': 0, 'YWNBTA': 0, 'ESH': 0, 'INFO': 0}, '10ubnfs': {'NTA': 9, 'NAH': 4, 'YWBTA': 0, 'YWNBTA': 0, 'ESH': 0, 'INFO': 0}, '10v2a29': {'NTA': 10, 'YWBTA': 0, 'YWNBTA': 0, 'ESH': 0, 'NAH': 0, 'INFO': 0}, '10ugvb6': {'NTA': 6, 'NAH': 3, 'INFO': 2, 'YWBTA': 0, 'YWNBTA': 0, 'ESH': 0}, '10v5zkl': {'NTA': 10, 'NAH': 7, 'INFO': 1, 'YWBTA': 0, 'YWNBTA': 0, 'ESH': 0}, '10v5yys': {'NTA': 4, 'YWBTA': 0, 'YWNBTA': 0, 'ESH': 0, 'NAH': 0, 'INFO': 0}, '10v5yl8': {'NTA': 7, 'YWBTA': 0, 'YWNBTA': 0, 'ESH': 0, 'NAH': 0, 'INFO': 0}, '10uyloz': {'NTA': 8, 'YWBTA': 0, 'YWNBTA': 0, 'ESH': 0, 'NAH': 0, 'INFO': 0}, '10tz7yh': {'NTA': 56, 'YWNBTA': 4, 'NAH': 1, 'YWBTA': 0, 'ESH': 0, 'INFO': 0}, '10v5w5v': {'NTA': 16, 'INFO': 2, 'ESH': 2, 'YWBTA': 0, 'YWNBTA': 0, 'NAH': 0}, '10v5vuf': {'NTA': 6, 'YWBTA': 0, 'YWNBTA': 0, 'ESH': 0, 'NAH': 0, 'INFO': 0}, '10v266g': {'NTA': 3, 'YWBTA': 0, 'YWNBTA': 0, 'ESH': 0, 'NAH': 0, 'INFO': 0}, '10v0099': {'NTA': 5, 'YWBTA': 0, 'YWNBTA': 0, 'ESH': 0, 'NAH': 0, 'INFO': 0}, '10v1zjy': {'NTA': 2, 'YWBTA': 0, 'YWNBTA': 0, 'ESH': 0, 'NAH': 0, 'INFO': 0}, '10uwv5h': {'NTA': 3, 'YWBTA': 0, 'YWNBTA': 0, 'ESH': 0, 'NAH': 0, 'INFO': 0}, '10v5huy': {'NTA': 5, 'INFO': 2, 'NAH': 1, 'YWBTA': 0, 'YWNBTA': 0, 'ESH': 0}, '10v5hhe': {'NTA': 10, 'INFO': 2, 'YWBTA': 0, 'YWNBTA': 0, 'ESH': 0, 'NAH': 0}, '10usklp': {'NTA': 3, 'NAH': 2, 'INFO': 1, 'ESH': 1, 'YWBTA': 0, 'YWNBTA': 0}, '10v1s2f': {'NTA': 2, 'YWBTA': 0, 'YWNBTA': 0, 'ESH': 0, 'NAH': 0, 'INFO': 0}, '10uuac4': {'NTA': 6, 'YWBTA': 0, 'YWNBTA': 0, 'ESH': 0, 'NAH': 0, 'INFO': 0}, '10uwkf3': {'NTA': 5, 'NAH': 1, 'YWBTA': 1, 'YWNBTA': 0, 'ESH': 0, 'INFO': 0}, '10uqtoq': {'NTA': 13, 'NAH': 1, 'YWBTA': 0, 'YWNBTA': 0, 'ESH': 0, 'INFO': 0}, '10v56px': {'YWBTA': 1, 'NAH': 1, 'NTA': 0, 'YWNBTA': 0, 'ESH': 0, 'INFO': 0}, '10v55x4': {'NTA': 3, 'NAH': 2, 'ESH': 1, 'YWBTA': 0, 'YWNBTA': 0, 'INFO': 0}, '10uqlxh': {'NTA': 11, 'INFO': 1, 'ESH': 1, 'NAH': 1, 'YWBTA': 0, 'YWNBTA': 0}, '10uhw8h': {'NTA': 24, 'YWBTA': 0, 'YWNBTA': 0, 'ESH': 0, 'NAH': 0, 'INFO': 0}, '10v52im': {'NTA': 9, 'YWBTA': 0, 'YWNBTA': 0, 'ESH': 0, 'NAH': 0, 'INFO': 0}, '10uv30i': {'NTA': 3, 'YWBTA': 0, 'YWNBTA': 0, 'ESH': 0, 'NAH': 0, 'INFO': 0}, '10uv02c': {'NTA': 9, 'YWBTA': 0, 'YWNBTA': 0, 'ESH': 0, 'NAH': 0, 'INFO': 0}, '10v1fhp': {'NTA': 5, 'YWBTA': 0, 'YWNBTA': 0, 'ESH': 0, 'NAH': 0, 'INFO': 0}, '10uasfe': {'NTA': 11, 'YWBTA': 0, 'YWNBTA': 0, 'ESH': 0, 'NAH': 0, 'INFO': 0}, '10uoe74': {'NTA': 9, 'YWBTA': 0, 'YWNBTA': 0, 'ESH': 0, 'NAH': 0, 'INFO': 0}, '10uuu6c': {'NTA': 4, 'ESH': 1, 'YWBTA': 0, 'YWNBTA': 0, 'NAH': 0, 'INFO': 0}, '10togpu': {'NTA': 10, 'YWBTA': 0, 'YWNBTA': 0, 'ESH': 0, 'NAH': 0, 'INFO': 0}, '10urpsw': {'INFO': 1, 'NAH': 1, 'NTA': 1, 'YWBTA': 0, 'YWNBTA': 0, 'ESH': 0}, '10th549': {'INFO': 1, 'NTA': 0, 'YWBTA': 0, 'YWNBTA': 0, 'ESH': 0, 'NAH': 0}, '10v4q7h': {'ESH': 7, 'NTA': 2, 'INFO': 2, 'YWBTA': 0, 'YWNBTA': 0, 'NAH': 0}, '10v4pki': {'NTA': 0, 'YWBTA': 0, 'YWNBTA': 0, 'ESH': 0, 'NAH': 0, 'INFO': 0}, '10v4ms2': {'INFO': 1, 'NAH': 1, 'NTA': 1, 'YWBTA': 0, 'YWNBTA': 0, 'ESH': 0}, '10v4kvq': {'NTA': 3, 'YWBTA': 0, 'YWNBTA': 0, 'ESH': 0, 'NAH': 0, 'INFO': 0}, '10umbti': {'NTA': 5, 'ESH': 1, 'YWBTA': 0, 'YWNBTA': 0, 'NAH': 0, 'INFO': 0}, '10tgni8': {'NTA': 15, 'YWBTA': 0, 'YWNBTA': 0, 'ESH': 0, 'NAH': 0, 'INFO': 0}, '10uwvpx': {'NTA': 2, 'ESH': 1, 'YWBTA': 0, 'YWNBTA': 0, 'NAH': 0, 'INFO': 0}, '10uwu50': {'NTA': 5, 'YWBTA': 0, 'YWNBTA': 0, 'ESH': 0, 'NAH': 0, 'INFO': 0}, '10uwtct': {'NTA': 12, 'ESH': 1, 'YWBTA': 0, 'YWNBTA': 0, 'NAH': 0, 'INFO': 0}, '10ul8dv': {'NTA': 24, 'YWBTA': 0, 'YWNBTA': 0, 'ESH': 0, 'NAH': 0, 'INFO': 0}, '10uv6wq': {'NTA': 8, 'ESH': 1, 'YWBTA': 0, 'YWNBTA': 0, 'NAH': 0, 'INFO': 0}, '10tyql0': {'NTA': 42, 'INFO': 1, 'ESH': 1, 'YWBTA': 0, 'YWNBTA': 0, 'NAH': 0}, '10v3wy6': {'NTA': 8, 'YWBTA': 0, 'YWNBTA': 0, 'ESH': 0, 'NAH': 0, 'INFO': 0}, '10uuvpd': {'NTA': 7, 'YWBTA': 0, 'YWNBTA': 0, 'ESH': 0, 'NAH': 0, 'INFO': 0}, '10uusbu': {'NTA': 2, 'INFO': 1, 'YWBTA': 0, 'YWNBTA': 0, 'ESH': 0, 'NAH': 0}, '10trbib': {'NTA': 31, 'YWBTA': 0, 'YWNBTA': 0, 'ESH': 0, 'NAH': 0, 'INFO': 0}, '10uw9ek': {'NTA': 4, 'YWBTA': 0, 'YWNBTA': 0, 'ESH': 0, 'NAH': 0, 'INFO': 0}, '10ub0yx': {'NTA': 8, 'NAH': 3, 'ESH': 2, 'YWBTA': 0, 'YWNBTA': 0, 'INFO': 0}, '10ub4w2': {'NTA': 15, 'NAH': 2, 'ESH': 1, 'YWBTA': 0, 'YWNBTA': 0, 'INFO': 0}, '10v3map': {'NTA': 15, 'YWBTA': 0, 'YWNBTA': 0, 'ESH': 0, 'NAH': 0, 'INFO': 0}, '10uqxxi': {'NTA': 10, 'YWBTA': 0, 'YWNBTA': 0, 'ESH': 0, 'NAH': 0, 'INFO': 0}, '10v0702': {'NTA': 9, 'INFO': 2, 'NAH': 1, 'YWBTA': 0, 'YWNBTA': 0, 'ESH': 0}, '10ti9gg': {'NTA': 17, 'INFO': 1, 'YWBTA': 0, 'YWNBTA': 0, 'ESH': 0, 'NAH': 0}, '10umyhz': {'NTA': 6, 'INFO': 2, 'NAH': 1, 'YWBTA': 0, 'YWNBTA': 0, 'ESH': 0}, '10uuc5k': {'NTA': 6, 'YWBTA': 0, 'YWNBTA': 0, 'ESH': 0, 'NAH': 0, 'INFO': 0}, '10u8wp0': {'NTA': 14, 'NAH': 1, 'YWBTA': 0, 'YWNBTA': 0, 'ESH': 0, 'INFO': 0}, '10tooib': {'NTA': 5, 'ESH': 3, 'INFO': 3, 'YWBTA': 0, 'YWNBTA': 0, 'NAH': 0}, '10usv6v': {'NAH': 3, 'INFO': 1, 'NTA': 0, 'YWBTA': 0, 'YWNBTA': 0, 'ESH': 0}, '10uzyrv': {'NTA': 2, 'YWBTA': 0, 'YWNBTA': 0, 'ESH': 0, 'NAH': 0, 'INFO': 0}, '10uvmid': {'ESH': 2, 'INFO': 1, 'NAH': 1, 'NTA': 1, 'YWBTA': 0, 'YWNBTA': 0}, '10tssg7': {'NTA': 51, 'NAH': 3, 'INFO': 1, 'YWNBTA': 1, 'YWBTA': 0, 'ESH': 0}, '10tkhvq': {'NTA': 0, 'YWBTA': 0, 'YWNBTA': 0, 'ESH': 0, 'NAH': 0, 'INFO': 0}, '10v38tw': {'NTA': 1, 'YWBTA': 0, 'YWNBTA': 0, 'ESH': 0, 'NAH': 0, 'INFO': 0}, '10v381r': {'ESH': 2, 'NTA': 0, 'YWBTA': 0, 'YWNBTA': 0, 'NAH': 0, 'INFO': 0}, '10uzt3t': {'NTA': 9, 'YWBTA': 0, 'YWNBTA': 0, 'ESH': 0, 'NAH': 0, 'INFO': 0}, '10uskv3': {'NTA': 10, 'ESH': 1, 'YWBTA': 0, 'YWNBTA': 0, 'NAH': 0, 'INFO': 0}, '10umdca': {'NTA': 7, 'INFO': 1, 'YWBTA': 0, 'YWNBTA': 0, 'ESH': 0, 'NAH': 0}, '10v35d5': {'NTA': 7, 'ESH': 7, 'INFO': 2, 'YWBTA': 0, 'YWNBTA': 0, 'NAH': 0}, '10um8q8': {'NAH': 7, 'NTA': 6, 'YWBTA': 0, 'YWNBTA': 0, 'ESH': 0, 'INFO': 0}, '10uo7xh': {'NTA': 15, 'YWBTA': 0, 'YWNBTA': 0, 'ESH': 0, 'NAH': 0, 'INFO': 0}, '10tfn48': {'NAH': 1, 'INFO': 1, 'NTA': 0, 'YWBTA': 0, 'YWNBTA': 0, 'ESH': 0}, '10ukpo7': {'NTA': 14, 'ESH': 4, 'YWBTA': 0, 'YWNBTA': 0, 'NAH': 0, 'INFO': 0}, '10uth1c': {'NTA': 2, 'NAH': 1, 'YWBTA': 0, 'YWNBTA': 0, 'ESH': 0, 'INFO': 0}, '10uwxvv': {'NTA': 8, 'YWBTA': 0, 'YWNBTA': 0, 'ESH': 0, 'NAH': 0, 'INFO': 0}, '10umdrd': {'ESH': 5, 'NTA': 2, 'INFO': 1, 'YWBTA': 0, 'YWNBTA': 0, 'NAH': 0}, '10uuwcl': {'NTA': 8, 'YWBTA': 0, 'YWNBTA': 0, 'ESH': 0, 'NAH': 0, 'INFO': 0}, '10uz9x7': {'NTA': 3, 'INFO': 1, 'YWBTA': 0, 'YWNBTA': 0, 'ESH': 0, 'NAH': 0}, '10ut9p7': {'NTA': 0, 'YWBTA': 0, 'YWNBTA': 0, 'ESH': 0, 'NAH': 0, 'INFO': 0}, '10trzyi': {'NTA': 42, 'INFO': 2, 'YWBTA': 0, 'YWNBTA': 0, 'ESH': 0, 'NAH': 0}, '10uqjhe': {'NTA': 12, 'YWBTA': 0, 'YWNBTA': 0, 'ESH': 0, 'NAH': 0, 'INFO': 0}, '10uea95': {'NTA': 12, 'YWBTA': 0, 'YWNBTA': 0, 'ESH': 0, 'NAH': 0, 'INFO': 0}, '10uwiue': {'NTA': 0, 'YWBTA': 0, 'YWNBTA': 0, 'ESH': 0, 'NAH': 0, 'INFO': 0}, '10tddte': {'NTA': 12, 'INFO': 1, 'YWBTA': 0, 'YWNBTA': 0, 'ESH': 0, 'NAH': 0}, '10un8xc': {'NTA': 4, 'YWBTA': 0, 'YWNBTA': 0, 'ESH': 0, 'NAH': 0, 'INFO': 0}, '10uo2le': {'NTA': 2, 'YWBTA': 0, 'YWNBTA': 0, 'ESH': 0, 'NAH': 0, 'INFO': 0}, '10uq1j0': {'NTA': 4, 'YWBTA': 0, 'YWNBTA': 0, 'ESH': 0, 'NAH': 0, 'INFO': 0}, '10unyq3': {'NTA': 0, 'YWBTA': 0, 'YWNBTA': 0, 'ESH': 0, 'NAH': 0, 'INFO': 0}, '10uscl3': {'NTA': 6, 'YWBTA': 0, 'YWNBTA': 0, 'ESH': 0, 'NAH': 0, 'INFO': 0}, '10uyil1': {'NTA': 5, 'YWBTA': 0, 'YWNBTA': 0, 'ESH': 0, 'NAH': 0, 'INFO': 0}, '10v22iw': {'NAH': 2, 'NTA': 0, 'YWBTA': 0, 'YWNBTA': 0, 'ESH': 0, 'INFO': 0}, '10ujp7e': {'NTA': 11, 'YWBTA': 0, 'YWNBTA': 0, 'ESH': 0, 'NAH': 0, 'INFO': 0}, '10v1y1u': {'NTA': 6, 'YWBTA': 0, 'YWNBTA': 0, 'ESH': 0, 'NAH': 0, 'INFO': 0}, '10v1vqv': {'NTA': 11, 'YWBTA': 2, 'ESH': 1, 'YWNBTA': 0, 'NAH': 0, 'INFO': 0}, '10uvkqu': {'NTA': 7, 'YWBTA': 0, 'YWNBTA': 0, 'ESH': 0, 'NAH': 0, 'INFO': 0}, '10v1v5h': {'INFO': 1, 'NTA': 0, 'YWBTA': 0, 'YWNBTA': 0, 'ESH': 0, 'NAH': 0}, '10urpsj': {'NTA': 5, 'ESH': 1, 'YWBTA': 0, 'YWNBTA': 0, 'NAH': 0, 'INFO': 0}, '10uy20u': {'NTA': 8, 'YWBTA': 0, 'YWNBTA': 0, 'ESH': 0, 'NAH': 0, 'INFO': 0}, '10uxx9f': {'NTA': 5, 'YWBTA': 1, 'YWNBTA': 0, 'ESH': 0, 'NAH': 0, 'INFO': 0}, '10tts53': {'NTA': 63, 'YWBTA': 0, 'YWNBTA': 0, 'ESH': 0, 'NAH': 0, 'INFO': 0}, '10ugnv9': {'NTA': 9, 'INFO': 1, 'YWBTA': 0, 'YWNBTA': 0, 'ESH': 0, 'NAH': 0}, '10v1n9v': {'ESH': 1, 'NAH': 1, 'NTA': 0, 'YWBTA': 0, 'YWNBTA': 0, 'INFO': 0}, '10uoqqr': {'NTA': 14, 'YWBTA': 0, 'YWNBTA': 0, 'ESH': 0, 'NAH': 0, 'INFO': 0}, '10v1ldj': {'NTA': 0, 'YWBTA': 0, 'YWNBTA': 0, 'ESH': 0, 'NAH': 0, 'INFO': 0}, '10uopnk': {'NTA': 8, 'NAH': 2, 'ESH': 1, 'YWBTA': 0, 'YWNBTA': 0, 'INFO': 0}, '10upnqc': {'NTA': 25, 'YWBTA': 2, 'ESH': 1, 'NAH': 1, 'YWNBTA': 0, 'INFO': 0}, '10v1eiy': {'NAH': 1, 'NTA': 0, 'YWBTA': 0, 'YWNBTA': 0, 'ESH': 0, 'INFO': 0}, '10tsspl': {'NTA': 47, 'INFO': 1, 'YWBTA': 0, 'YWNBTA': 0, 'ESH': 0, 'NAH': 0}, '10upb26': {'NTA': 13, 'YWBTA': 0, 'YWNBTA': 0, 'ESH': 0, 'NAH': 0, 'INFO': 0}, '10ufnji': {'NTA': 3, 'YWBTA': 0, 'YWNBTA': 0, 'ESH': 0, 'NAH': 0, 'INFO': 0}, '10uqels': {'INFO': 1, 'NTA': 1, 'YWBTA': 0, 'YWNBTA': 0, 'ESH': 0, 'NAH': 0}, '10ukpup': {'NTA': 6, 'YWBTA': 0, 'YWNBTA': 0, 'ESH': 0, 'NAH': 0, 'INFO': 0}, '10tl1zz': {'NTA': 35, 'YWBTA': 0, 'YWNBTA': 0, 'ESH': 0, 'NAH': 0, 'INFO': 0}, '10v4797': {'NTA': 1, 'YWBTA': 0, 'YWNBTA': 0, 'ESH': 0, 'NAH': 0, 'INFO': 0}, '10um9gf': {'YWBTA': 4, 'NAH': 2, 'INFO': 1, 'NTA': 0, 'YWNBTA': 0, 'ESH': 0}, '10v0qkj': {'NTA': 18, 'YWBTA': 0, 'YWNBTA': 0, 'ESH': 0, 'NAH': 0, 'INFO': 0}, '10u5m8k': {'NTA': 31, 'NAH': 6, 'ESH': 2, 'YWBTA': 0, 'YWNBTA': 0, 'INFO': 0}, '10ulz0d': {'NTA': 10, 'YWBTA': 0, 'YWNBTA': 0, 'ESH': 0, 'NAH': 0, 'INFO': 0}, '10ultxh': {'NTA': 3, 'YWNBTA': 1, 'YWBTA': 1, 'ESH': 0, 'NAH': 0, 'INFO': 0}, '10ub1yo': {'NTA': 9, 'NAH': 2, 'INFO': 1, 'YWBTA': 0, 'YWNBTA': 0, 'ESH': 0}, '10ur8rp': {'NTA': 6, 'ESH': 2, 'NAH': 1, 'YWBTA': 0, 'YWNBTA': 0, 'INFO': 0}, '10uknoe': {'NTA': 8, 'NAH': 3, 'YWBTA': 0, 'YWNBTA': 0, 'ESH': 0, 'INFO': 0}, '10tvob4': {'NTA': 21, 'INFO': 2, 'NAH': 2, 'ESH': 2, 'YWBTA': 0, 'YWNBTA': 0}, '10v3puk': {'ESH': 1, 'NTA': 0, 'YWBTA': 0, 'YWNBTA': 0, 'NAH': 0, 'INFO': 0}, '10v0aqb': {'NTA': 1, 'YWBTA': 0, 'YWNBTA': 0, 'ESH': 0, 'NAH': 0, 'INFO': 0}, '10t709m': {'NTA': 9, 'NAH': 2, 'YWBTA': 0, 'YWNBTA': 0, 'ESH': 0, 'INFO': 0}, '10v5vea': {'NTA': 0, 'YWBTA': 0, 'YWNBTA': 0, 'ESH': 0, 'NAH': 0, 'INFO': 0}, '10tjehi': {'NTA': 1, 'YWBTA': 0, 'YWNBTA': 0, 'ESH': 0, 'NAH': 0, 'INFO': 0}, '10ugip1': {'NTA': 5, 'NAH': 1, 'ESH': 1, 'YWBTA': 0, 'YWNBTA': 0, 'INFO': 0}, '10tgvfa': {'INFO': 4, 'NTA': 0, 'YWBTA': 0, 'YWNBTA': 0, 'ESH': 0, 'NAH': 0}, '10v3emd': {'NTA': 6, 'ESH': 1, 'YWBTA': 0, 'YWNBTA': 0, 'NAH': 0, 'INFO': 0}, '10ufez1': {'NTA': 8, 'YWBTA': 0, 'YWNBTA': 0, 'ESH': 0, 'NAH': 0, 'INFO': 0}, '10uj5yl': {'NTA': 8, 'INFO': 1, 'NAH': 1, 'YWBTA': 0, 'YWNBTA': 0, 'ESH': 0}, '10ukzuh': {'NTA': 14, 'ESH': 1, 'YWBTA': 0, 'YWNBTA': 0, 'NAH': 0, 'INFO': 0}, '10u4lfm': {'NTA': 17, 'ESH': 3, 'YWBTA': 0, 'YWNBTA': 0, 'NAH': 0, 'INFO': 0}, '10uzqxx': {'NTA': 3, 'NAH': 1, 'ESH': 1, 'YWBTA': 0, 'YWNBTA': 0, 'INFO': 0}, '10tx1aw': {'NTA': 50, 'YWBTA': 0, 'YWNBTA': 0, 'ESH': 0, 'NAH': 0, 'INFO': 0}, '10u0dsx': {'NTA': 18, 'NAH': 4, 'ESH': 1, 'YWBTA': 0, 'YWNBTA': 0, 'INFO': 0}, '10ub0vw': {'NTA': 11, 'YWBTA': 1, 'YWNBTA': 0, 'ESH': 0, 'NAH': 0, 'INFO': 0}, '10ug8v2': {'NTA': 12, 'NAH': 1, 'YWBTA': 0, 'YWNBTA': 0, 'ESH': 0, 'INFO': 0}, '10tp9ps': {'NTA': 14, 'INFO': 1, 'NAH': 1, 'YWBTA': 0, 'YWNBTA': 0, 'ESH': 0}, '10uhi30': {'NTA': 4, 'YWBTA': 2, 'INFO': 1, 'YWNBTA': 0, 'ESH': 0, 'NAH': 0}, '10tjdwf': {'NTA': 17, 'NAH': 6, 'INFO': 2, 'YWBTA': 0, 'YWNBTA': 0, 'ESH': 0}, '10uk0w5': {'ESH': 1, 'NTA': 1, 'YWBTA': 0, 'YWNBTA': 0, 'NAH': 0, 'INFO': 0}, '10uuwyn': {'NTA': 8, 'YWBTA': 0, 'YWNBTA': 0, 'ESH': 0, 'NAH': 0, 'INFO': 0}, '10urul9': {'NTA': 11, 'ESH': 5, 'INFO': 1, 'YWBTA': 0, 'YWNBTA': 0, 'NAH': 0}, '10timnr': {'NTA': 58, 'YWNBTA': 4, 'YWBTA': 0, 'ESH': 0, 'NAH': 0, 'INFO': 0}, '10uiqsa': {'NTA': 7, 'INFO': 2, 'YWBTA': 0, 'YWNBTA': 0, 'ESH': 0, 'NAH': 0}, '10urk0y': {'INFO': 1, 'NTA': 1, 'YWBTA': 0, 'YWNBTA': 0, 'ESH': 0, 'NAH': 0}, '10ufov1': {'NTA': 12, 'NAH': 2, 'INFO': 1, 'YWBTA': 0, 'YWNBTA': 0, 'ESH': 0}, '10taopr': {'NTA': 17, 'ESH': 1, 'YWNBTA': 1, 'INFO': 1, 'YWBTA': 0, 'NAH': 0}, '10tlmql': {'NTA': 61, 'NAH': 1, 'YWBTA': 0, 'YWNBTA': 0, 'ESH': 0, 'INFO': 0}, '10uyxbn': {'NTA': 2, 'NAH': 1, 'YWBTA': 0, 'YWNBTA': 0, 'ESH': 0, 'INFO': 0}, '10uhlzm': {'NTA': 5, 'ESH': 4, 'INFO': 1, 'YWBTA': 0, 'YWNBTA': 0, 'NAH': 0}, '10uywc0': {'NTA': 2, 'YWBTA': 0, 'YWNBTA': 0, 'ESH': 0, 'NAH': 0, 'INFO': 0}, '10uyuz3': {'NTA': 3, 'YWBTA': 0, 'YWNBTA': 0, 'ESH': 0, 'NAH': 0, 'INFO': 0}, '10tuukg': {'NTA': 1, 'YWBTA': 0, 'YWNBTA': 0, 'ESH': 0, 'NAH': 0, 'INFO': 0}, '10tkccg': {'NTA': 35, 'YWBTA': 0, 'YWNBTA': 0, 'ESH': 0, 'NAH': 0, 'INFO': 0}, '10uj9t2': {'NTA': 3, 'NAH': 2, 'YWBTA': 0, 'YWNBTA': 0, 'ESH': 0, 'INFO': 0}, '10uovm6': {'NTA': 9, 'ESH': 1, 'YWBTA': 0, 'YWNBTA': 0, 'NAH': 0, 'INFO': 0}, '10uyo30': {'NTA': 5, 'NAH': 2, 'INFO': 1, 'YWBTA': 0, 'YWNBTA': 0, 'ESH': 0}, '10umx0s': {'NTA': 0, 'YWBTA': 0, 'YWNBTA': 0, 'ESH': 0, 'NAH': 0, 'INFO': 0}, '10uc3u4': {'NTA': 11, 'ESH': 1, 'YWBTA': 0, 'YWNBTA': 0, 'NAH': 0, 'INFO': 0}, '10ums2j': {'NTA': 0, 'YWBTA': 0, 'YWNBTA': 0, 'ESH': 0, 'NAH': 0, 'INFO': 0}, '10tnrz7': {'NTA': 80, 'NAH': 1, 'YWBTA': 0, 'YWNBTA': 0, 'ESH': 0, 'INFO': 0}, '10ug2wh': {'NTA': 3, 'ESH': 1, 'YWBTA': 0, 'YWNBTA': 0, 'NAH': 0, 'INFO': 0}, '10twne2': {'NTA': 24, 'YWBTA': 0, 'YWNBTA': 0, 'ESH': 0, 'NAH': 0, 'INFO': 0}, '10ukq8z': {'ESH': 2, 'NTA': 0, 'YWBTA': 0, 'YWNBTA': 0, 'NAH': 0, 'INFO': 0}, '10u04bs': {'NTA': 20, 'YWBTA': 0, 'YWNBTA': 0, 'ESH': 0, 'NAH': 0, 'INFO': 0}, '10uqafu': {'NTA': 3, 'INFO': 2, 'YWBTA': 0, 'YWNBTA': 0, 'ESH': 0, 'NAH': 0}, '10uy1dm': {'NTA': 5, 'ESH': 1, 'YWBTA': 0, 'YWNBTA': 0, 'NAH': 0, 'INFO': 0}, '10uxp1w': {'NTA': 4, 'INFO': 1, 'YWBTA': 0, 'YWNBTA': 0, 'ESH': 0, 'NAH': 0}, '10uegy5': {'NTA': 13, 'YWBTA': 0, 'YWNBTA': 0, 'ESH': 0, 'NAH': 0, 'INFO': 0}, '10uif3x': {'NTA': 7, 'INFO': 1, 'YWBTA': 0, 'YWNBTA': 0, 'ESH': 0, 'NAH': 0}, '10ujjd2': {'ESH': 2, 'NTA': 0, 'YWBTA': 0, 'YWNBTA': 0, 'NAH': 0, 'INFO': 0}, '10ux796': {'ESH': 6, 'NTA': 5, 'YWBTA': 0, 'YWNBTA': 0, 'NAH': 0, 'INFO': 0}, '10uedj8': {'NTA': 16, 'YWBTA': 0, 'YWNBTA': 0, 'ESH': 0, 'NAH': 0, 'INFO': 0}, '10uornk': {'NTA': 3, 'YWBTA': 0, 'YWNBTA': 0, 'ESH': 0, 'NAH': 0, 'INFO': 0}, '10toc16': {'NTA': 71, 'YWNBTA': 3, 'YWBTA': 0, 'ESH': 0, 'NAH': 0, 'INFO': 0}, '10u8q9f': {'NTA': 17, 'YWBTA': 0, 'YWNBTA': 0, 'ESH': 0, 'NAH': 0, 'INFO': 0}, '10uisl0': {'NTA': 17, 'YWBTA': 0, 'YWNBTA': 0, 'ESH': 0, 'NAH': 0, 'INFO': 0}, '10u8xff': {'NTA': 21, 'ESH': 1, 'YWBTA': 0, 'YWNBTA': 0, 'NAH': 0, 'INFO': 0}, '10uo1mz': {'NAH': 3, 'ESH': 2, 'NTA': 2, 'YWBTA': 0, 'YWNBTA': 0, 'INFO': 0}, '10teltn': {'NTA': 58, 'YWBTA': 0, 'YWNBTA': 0, 'ESH': 0, 'NAH': 0, 'INFO': 0}, '10ujd61': {'NTA': 2, 'YWBTA': 0, 'YWNBTA': 0, 'ESH': 0, 'NAH': 0, 'INFO': 0}, '10tsykb': {'NTA': 25, 'NAH': 2, 'INFO': 1, 'YWBTA': 0, 'YWNBTA': 0, 'ESH': 0}, '10ucklm': {'NTA': 6, 'INFO': 1, 'YWBTA': 0, 'YWNBTA': 0, 'ESH': 0, 'NAH': 0}, '10tf7z6': {'NTA': 51, 'YWBTA': 0, 'YWNBTA': 0, 'ESH': 0, 'NAH': 0, 'INFO': 0}, '10uvokz': {'NTA': 1, 'YWBTA': 0, 'YWNBTA': 0, 'ESH': 0, 'NAH': 0, 'INFO': 0}, '10uvnif': {'NTA': 7, 'YWBTA': 0, 'YWNBTA': 0, 'ESH': 0, 'NAH': 0, 'INFO': 0}, '10ty316': {'NTA': 25, 'NAH': 7, 'YWBTA': 0, 'YWNBTA': 0, 'ESH': 0, 'INFO': 0}, '10uf9e9': {'NTA': 9, 'YWBTA': 0, 'YWNBTA': 0, 'ESH': 0, 'NAH': 0, 'INFO': 0}, '10ue58m': {'NTA': 6, 'NAH': 2, 'INFO': 1, 'YWBTA': 0, 'YWNBTA': 0, 'ESH': 0}, '10uiokg': {'NTA': 4, 'YWBTA': 0, 'YWNBTA': 0, 'ESH': 0, 'NAH': 0, 'INFO': 0}, '10uh5wu': {'NTA': 8, 'YWBTA': 0, 'YWNBTA': 0, 'ESH': 0, 'NAH': 0, 'INFO': 0}, '10ujwj3': {'NTA': 15, 'YWBTA': 0, 'YWNBTA': 0, 'ESH': 0, 'NAH': 0, 'INFO': 0}, '10u8ueu': {'NTA': 12, 'YWBTA': 0, 'YWNBTA': 0, 'ESH': 0, 'NAH': 0, 'INFO': 0}, '10uglhu': {'NTA': 2, 'YWBTA': 0, 'YWNBTA': 0, 'ESH': 0, 'NAH': 0, 'INFO': 0}, '10ua3po': {'NTA': 4, 'NAH': 3, 'YWBTA': 0, 'YWNBTA': 0, 'ESH': 0, 'INFO': 0}, '10ue8qk': {'NTA': 4, 'ESH': 2, 'YWBTA': 0, 'YWNBTA': 0, 'NAH': 0, 'INFO': 0}, '10upd86': {'NTA': 8, 'YWBTA': 0, 'YWNBTA': 0, 'ESH': 0, 'NAH': 0, 'INFO': 0}, '10uhl1z': {'NTA': 9, 'YWBTA': 2, 'YWNBTA': 1, 'ESH': 0, 'NAH': 0, 'INFO': 0}, '10uoxq7': {'NTA': 9, 'ESH': 2, 'NAH': 1, 'YWBTA': 0, 'YWNBTA': 0, 'INFO': 0}, '10u6g32': {'NTA': 16, 'NAH': 1, 'YWBTA': 0, 'YWNBTA': 0, 'ESH': 0, 'INFO': 0}, '10uabwy': {'INFO': 2, 'ESH': 2, 'NTA': 1, 'YWBTA': 0, 'YWNBTA': 0, 'NAH': 0}, '10uoox3': {'YWBTA': 1, 'NTA': 0, 'YWNBTA': 0, 'ESH': 0, 'NAH': 0, 'INFO': 0}, '10tfrjw': {'NTA': 52, 'YWNBTA': 1, 'YWBTA': 0, 'ESH': 0, 'NAH': 0, 'INFO': 0}, '10utu73': {'NTA': 9, 'YWBTA': 0, 'YWNBTA': 0, 'ESH': 0, 'NAH': 0, 'INFO': 0}, '10uec3f': {'NTA': 8, 'YWBTA': 0, 'YWNBTA': 0, 'ESH': 0, 'NAH': 0, 'INFO': 0}, '10ufc1g': {'NTA': 9, 'ESH': 1, 'YWBTA': 0, 'YWNBTA': 0, 'NAH': 0, 'INFO': 0}, '10ufaei': {'ESH': 2, 'NTA': 0, 'YWBTA': 0, 'YWNBTA': 0, 'NAH': 0, 'INFO': 0}, '10u626d': {'NTA': 11, 'YWBTA': 1, 'YWNBTA': 0, 'ESH': 0, 'NAH': 0, 'INFO': 0}, '10th440': {'NTA': 33, 'ESH': 1, 'YWBTA': 0, 'YWNBTA': 0, 'NAH': 0, 'INFO': 0}, '10tx9dz': {'NTA': 29, 'INFO': 1, 'NAH': 1, 'YWBTA': 0, 'YWNBTA': 0, 'ESH': 0}, '10u2b2v': {'NTA': 18, 'NAH': 1, 'YWBTA': 0, 'YWNBTA': 0, 'ESH': 0, 'INFO': 0}, '10trbtd': {'NTA': 21, 'ESH': 7, 'YWBTA': 0, 'YWNBTA': 0, 'NAH': 0, 'INFO': 0}, '10udpk1': {'ESH': 2, 'INFO': 1, 'NTA': 1, 'YWBTA': 0, 'YWNBTA': 0, 'NAH': 0}, '10u7yap': {'NTA': 9, 'NAH': 1, 'YWBTA': 0, 'YWNBTA': 0, 'ESH': 0, 'INFO': 0}, '10u7o4d': {'NTA': 14, 'YWBTA': 0, 'YWNBTA': 0, 'ESH': 0, 'NAH': 0, 'INFO': 0}, '10ucj3m': {'NTA': 12, 'YWBTA': 0, 'YWNBTA': 0, 'ESH': 0, 'NAH': 0, 'INFO': 0}, '10uk0vj': {'ESH': 2, 'NTA': 0, 'YWBTA': 0, 'YWNBTA': 0, 'NAH': 0, 'INFO': 0}, '10ujvko': {'NTA': 16, 'INFO': 1, 'YWBTA': 0, 'YWNBTA': 0, 'ESH': 0, 'NAH': 0}, '10uecpj': {'NTA': 2, 'ESH': 1, 'YWBTA': 0, 'YWNBTA': 0, 'NAH': 0, 'INFO': 0}, '10u6vcs': {'YWBTA': 9, 'NTA': 0, 'YWNBTA': 0, 'ESH': 0, 'NAH': 0, 'INFO': 0}, '10ts63f': {'NTA': 31, 'NAH': 2, 'INFO': 1, 'YWBTA': 0, 'YWNBTA': 0, 'ESH': 0}, '10umsqx': {'ESH': 3, 'NTA': 0, 'YWBTA': 0, 'YWNBTA': 0, 'NAH': 0, 'INFO': 0}, '10umldn': {'NTA': 8, 'NAH': 2, 'ESH': 1, 'YWBTA': 0, 'YWNBTA': 0, 'INFO': 0}, '10uj62x': {'NTA': 4, 'INFO': 3, 'ESH': 1, 'YWBTA': 0, 'YWNBTA': 0, 'NAH': 0}, '10tvhja': {'NTA': 16, 'YWBTA': 0, 'YWNBTA': 0, 'ESH': 0, 'NAH': 0, 'INFO': 0}, '10um8c0': {'NTA': 1, 'YWBTA': 0, 'YWNBTA': 0, 'ESH': 0, 'NAH': 0, 'INFO': 0}, '10u6uax': {'NTA': 5, 'INFO': 1, 'YWBTA': 0, 'YWNBTA': 0, 'ESH': 0, 'NAH': 0}, '10tmzs9': {'NTA': 35, 'ESH': 2, 'YWBTA': 0, 'YWNBTA': 0, 'NAH': 0, 'INFO': 0}, '10tsbiq': {'NTA': 26, 'NAH': 4, 'YWBTA': 0, 'YWNBTA': 0, 'ESH': 0, 'INFO': 0}, '10ud9q9': {'NTA': 7, 'ESH': 1, 'YWBTA': 0, 'YWNBTA': 0, 'NAH': 0, 'INFO': 0}, '10u3cvf': {'NTA': 17, 'YWBTA': 0, 'YWNBTA': 0, 'ESH': 0, 'NAH': 0, 'INFO': 0}, '10ug2i8': {'NTA': 2, 'YWBTA': 0, 'YWNBTA': 0, 'ESH': 0, 'NAH': 0, 'INFO': 0}, '10u5hy0': {'NTA': 2, 'ESH': 1, 'YWBTA': 0, 'YWNBTA': 0, 'NAH': 0, 'INFO': 0}, '10udv2r': {'NTA': 11, 'YWBTA': 1, 'YWNBTA': 0, 'ESH': 0, 'NAH': 0, 'INFO': 0}, '10tnre5': {'NTA': 36, 'INFO': 2, 'NAH': 1, 'YWBTA': 0, 'YWNBTA': 0, 'ESH': 0}, '10u78vp': {'NTA': 4, 'NAH': 1, 'YWBTA': 0, 'YWNBTA': 0, 'ESH': 0, 'INFO': 0}, '10uesif': {'ESH': 3, 'NAH': 2, 'NTA': 2, 'YWBTA': 0, 'YWNBTA': 0, 'INFO': 0}, '10u38jb': {'NTA': 15, 'YWBTA': 0, 'YWNBTA': 0, 'ESH': 0, 'NAH': 0, 'INFO': 0}, '10ubnd4': {'NTA': 4, 'ESH': 1, 'YWBTA': 0, 'YWNBTA': 0, 'NAH': 0, 'INFO': 0}, '10u6d33': {'NTA': 24, 'YWBTA': 0, 'YWNBTA': 0, 'ESH': 0, 'NAH': 0, 'INFO': 0}, '10t9d4d': {'NTA': 14, 'INFO': 2, 'YWBTA': 0, 'YWNBTA': 0, 'ESH': 0, 'NAH': 0}, '10uajps': {'ESH': 9, 'NTA': 6, 'YWBTA': 0, 'YWNBTA': 0, 'NAH': 0, 'INFO': 0}, '10u8rjs': {'NTA': 1, 'YWBTA': 0, 'YWNBTA': 0, 'ESH': 0, 'NAH': 0, 'INFO': 0}, '10uo9p1': {'ESH': 1, 'NTA': 1, 'YWBTA': 0, 'YWNBTA': 0, 'NAH': 0, 'INFO': 0}, '10uo7ec': {'NTA': 5, 'INFO': 1, 'YWBTA': 0, 'YWNBTA': 0, 'ESH': 0, 'NAH': 0}, '10svtv3': {'NTA': 6, 'NAH': 5, 'YWBTA': 0, 'YWNBTA': 0, 'ESH': 0, 'INFO': 0}, '10tzklr': {'NTA': 21, 'INFO': 2, 'YWBTA': 0, 'YWNBTA': 0, 'ESH': 0, 'NAH': 0}, '10tx197': {'NTA': 5, 'INFO': 2, 'ESH': 1, 'NAH': 1, 'YWBTA': 0, 'YWNBTA': 0}, '10tgsnn': {'NTA': 28, 'NAH': 2, 'YWBTA': 0, 'YWNBTA': 0, 'ESH': 0, 'INFO': 0}, '10sr0wi': {'NTA': 12, 'YWBTA': 0, 'YWNBTA': 0, 'ESH': 0, 'NAH': 0, 'INFO': 0}, '10tsk1q': {'NTA': 14, 'YWBTA': 1, 'YWNBTA': 0, 'ESH': 0, 'NAH': 0, 'INFO': 0}, '10ttqxs': {'NTA': 21, 'NAH': 3, 'YWBTA': 0, 'YWNBTA': 0, 'ESH': 0, 'INFO': 0}, '10um0ff': {'NTA': 2, 'INFO': 1, 'YWBTA': 0, 'YWNBTA': 0, 'ESH': 0, 'NAH': 0}, '10ubb9g': {'NTA': 7, 'NAH': 1, 'YWBTA': 0, 'YWNBTA': 0, 'ESH': 0, 'INFO': 0}, '10u8kp2': {'NTA': 8, 'INFO': 1, 'YWBTA': 0, 'YWNBTA': 0, 'ESH': 0, 'NAH': 0}, '10ud01a': {'NTA': 5, 'YWBTA': 0, 'YWNBTA': 0, 'ESH': 0, 'NAH': 0, 'INFO': 0}, '10u9867': {'NTA': 5, 'YWBTA': 0, 'YWNBTA': 0, 'ESH': 0, 'NAH': 0, 'INFO': 0}, '10txxns': {'NTA': 15, 'YWBTA': 0, 'YWNBTA': 0, 'ESH': 0, 'NAH': 0, 'INFO': 0}, '10tmeie': {'NTA': 22, 'INFO': 2, 'ESH': 2, 'YWBTA': 0, 'YWNBTA': 0, 'NAH': 0}, '10t8gj6': {'NTA': 0, 'YWBTA': 0, 'YWNBTA': 0, 'ESH': 0, 'NAH': 0, 'INFO': 0}, '10tznyq': {'NTA': 25, 'YWBTA': 0, 'YWNBTA': 0, 'ESH': 0, 'NAH': 0, 'INFO': 0}, '10u2628': {'NTA': 5, 'NAH': 2, 'YWBTA': 0, 'YWNBTA': 0, 'ESH': 0, 'INFO': 0}, '10u5tw8': {'NTA': 4, 'YWBTA': 0, 'YWNBTA': 0, 'ESH': 0, 'NAH': 0, 'INFO': 0}, '10ts9i5': {'NTA': 55, 'YWBTA': 0, 'YWNBTA': 0, 'ESH': 0, 'NAH': 0, 'INFO': 0}, '10tqyyc': {'NTA': 17, 'NAH': 2, 'ESH': 1, 'YWBTA': 0, 'YWNBTA': 0, 'INFO': 0}, '10ty2bu': {'NTA': 10, 'NAH': 5, 'YWBTA': 0, 'YWNBTA': 0, 'ESH': 0, 'INFO': 0}, '10u5a79': {'NTA': 2, 'ESH': 1, 'YWBTA': 0, 'YWNBTA': 0, 'NAH': 0, 'INFO': 0}, '10tw7xp': {'NTA': 5, 'YWBTA': 2, 'NAH': 1, 'YWNBTA': 0, 'ESH': 0, 'INFO': 0}, '10txq37': {'NTA': 21, 'YWBTA': 0, 'YWNBTA': 0, 'ESH': 0, 'NAH': 0, 'INFO': 0}, '10t6rpf': {'NTA': 71, 'YWBTA': 0, 'YWNBTA': 0, 'ESH': 0, 'NAH': 0, 'INFO': 0}, '10ua5w8': {'NTA': 4, 'NAH': 1, 'YWBTA': 0, 'YWNBTA': 0, 'ESH': 0, 'INFO': 0}, '10ujlau': {'NTA': 2, 'YWBTA': 0, 'YWNBTA': 0, 'ESH': 0, 'NAH': 0, 'INFO': 0}, '10tewd4': {'NTA': 30, 'INFO': 1, 'YWBTA': 0, 'YWNBTA': 0, 'ESH': 0, 'NAH': 0}, '10twnhu': {'NTA': 13, 'NAH': 9, 'YWBTA': 0, 'YWNBTA': 0, 'ESH': 0, 'INFO': 0}, '10tlmzz': {'NTA': 15, 'ESH': 2, 'NAH': 1, 'YWBTA': 0, 'YWNBTA': 0, 'INFO': 0}, '10tkkns': {'NTA': 20, 'NAH': 4, 'YWBTA': 0, 'YWNBTA': 0, 'ESH': 0, 'INFO': 0}, '10tyshw': {'NTA': 11, 'YWBTA': 0, 'YWNBTA': 0, 'ESH': 0, 'NAH': 0, 'INFO': 0}, '10tvo8q': {'NTA': 12, 'ESH': 4, 'YWBTA': 0, 'YWNBTA': 0, 'NAH': 0, 'INFO': 0}, '10t7qas': {'NTA': 35, 'YWBTA': 0, 'YWNBTA': 0, 'ESH': 0, 'NAH': 0, 'INFO': 0}, '10tscf5': {'NTA': 34, 'NAH': 2, 'ESH': 1, 'YWBTA': 0, 'YWNBTA': 0, 'INFO': 0}, '10tvlr9': {'NTA': 8, 'NAH': 2, 'ESH': 1, 'INFO': 1, 'YWBTA': 0, 'YWNBTA': 0}, '10t0b7o': {'NTA': 19, 'INFO': 4, 'NAH': 1, 'YWBTA': 0, 'YWNBTA': 0, 'ESH': 0}, '10tgctx': {'NTA': 31, 'ESH': 2, 'INFO': 1, 'YWBTA': 0, 'YWNBTA': 0, 'NAH': 0}, '10ttgkc': {'NTA': 27, 'YWBTA': 0, 'YWNBTA': 0, 'ESH': 0, 'NAH': 0, 'INFO': 0}, '10uued9': {'ESH': 6, 'NTA': 4, 'YWBTA': 0, 'YWNBTA': 0, 'NAH': 0, 'INFO': 0}, '10u3bov': {'NTA': 7, 'YWBTA': 0, 'YWNBTA': 0, 'ESH': 0, 'NAH': 0, 'INFO': 0}, '10ua4br': {'NTA': 3, 'INFO': 2, 'YWBTA': 0, 'YWNBTA': 0, 'ESH': 0, 'NAH': 0}, '10u4ttg': {'INFO': 4, 'NTA': 0, 'YWBTA': 0, 'YWNBTA': 0, 'ESH': 0, 'NAH': 0}, '10sud8l': {'NTA': 15, 'INFO': 3, 'YWBTA': 0, 'YWNBTA': 0, 'ESH': 0, 'NAH': 0}, '10tz7rn': {'NTA': 5, 'YWBTA': 0, 'YWNBTA': 0, 'ESH': 0, 'NAH': 0, 'INFO': 0}, '10tvt7u': {'NTA': 12, 'INFO': 1, 'YWBTA': 0, 'YWNBTA': 0, 'ESH': 0, 'NAH': 0}, '10u8ez0': {'NTA': 1, 'YWBTA': 0, 'YWNBTA': 0, 'ESH': 0, 'NAH': 0, 'INFO': 0}, '10trzhf': {'NTA': 12, 'NAH': 2, 'INFO': 1, 'YWBTA': 0, 'YWNBTA': 0, 'ESH': 0}, '10twlyr': {'NTA': 10, 'YWBTA': 0, 'YWNBTA': 0, 'ESH': 0, 'NAH': 0, 'INFO': 0}, '10t1ria': {'NTA': 28, 'YWBTA': 0, 'YWNBTA': 0, 'ESH': 0, 'NAH': 0, 'INFO': 0}, '10twsi9': {'ESH': 3, 'NTA': 2, 'INFO': 1, 'YWBTA': 0, 'YWNBTA': 0, 'NAH': 0}, '10tux5h': {'NTA': 5, 'ESH': 1, 'YWBTA': 0, 'YWNBTA': 0, 'NAH': 0, 'INFO': 0}, '10u56yg': {'NAH': 6, 'YWBTA': 1, 'NTA': 1, 'INFO': 1, 'YWNBTA': 0, 'ESH': 0}, '10tnd5u': {'NTA': 25, 'YWBTA': 0, 'YWNBTA': 0, 'ESH': 0, 'NAH': 0, 'INFO': 0}, '10tv3kh': {'NTA': 8, 'INFO': 1, 'ESH': 1, 'YWBTA': 0, 'YWNBTA': 0, 'NAH': 0}, '10ts9ag': {'NTA': 32, 'NAH': 1, 'YWBTA': 0, 'YWNBTA': 0, 'ESH': 0, 'INFO': 0}, '10tqbur': {'NTA': 4, 'YWBTA': 0, 'YWNBTA': 0, 'ESH': 0, 'NAH': 0, 'INFO': 0}, '10u1qql': {'NTA': 6, 'YWNBTA': 1, 'NAH': 1, 'YWBTA': 0, 'ESH': 0, 'INFO': 0}, '10tlavf': {'NTA': 15, 'ESH': 4, 'INFO': 3, 'NAH': 1, 'YWBTA': 0, 'YWNBTA': 0}, '10u9351': {'NTA': 2, 'YWBTA': 0, 'YWNBTA': 0, 'ESH': 0, 'NAH': 0, 'INFO': 0}, '10snxco': {'NTA': 25, 'INFO': 1, 'YWBTA': 0, 'YWNBTA': 0, 'ESH': 0, 'NAH': 0}, '10u8ykq': {'NTA': 8, 'YWBTA': 0, 'YWNBTA': 0, 'ESH': 0, 'NAH': 0, 'INFO': 0}, '10u04ve': {'NTA': 13, 'YWBTA': 0, 'YWNBTA': 0, 'ESH': 0, 'NAH': 0, 'INFO': 0}, '10u66kv': {'NTA': 6, 'YWBTA': 0, 'YWNBTA': 0, 'ESH': 0, 'NAH': 0, 'INFO': 0}, '10u0pl7': {'NTA': 2, 'YWBTA': 0, 'YWNBTA': 0, 'ESH': 0, 'NAH': 0, 'INFO': 0}, '10u4wbv': {'NTA': 6, 'YWBTA': 0, 'YWNBTA': 0, 'ESH': 0, 'NAH': 0, 'INFO': 0}, '10tygrn': {'NTA': 12, 'INFO': 1, 'YWBTA': 0, 'YWNBTA': 0, 'ESH': 0, 'NAH': 0}, '10tzq6m': {'NTA': 8, 'YWBTA': 0, 'YWNBTA': 0, 'ESH': 0, 'NAH': 0, 'INFO': 0}, '10tvrha': {'NTA': 11, 'NAH': 1, 'YWBTA': 0, 'YWNBTA': 0, 'ESH': 0, 'INFO': 0}, '10tlc38': {'NTA': 20, 'YWBTA': 0, 'YWNBTA': 0, 'ESH': 0, 'NAH': 0, 'INFO': 0}, '10u1rux': {'NTA': 11, 'YWBTA': 0, 'YWNBTA': 0, 'ESH': 0, 'NAH': 0, 'INFO': 0}, '10u065f': {'NTA': 4, 'INFO': 1, 'YWBTA': 0, 'YWNBTA': 0, 'ESH': 0, 'NAH': 0}, '10twy98': {'NTA': 28, 'YWBTA': 0, 'YWNBTA': 0, 'ESH': 0, 'NAH': 0, 'INFO': 0}, '10ty0ho': {'NTA': 10, 'YWNBTA': 1, 'YWBTA': 0, 'ESH': 0, 'NAH': 0, 'INFO': 0}, '10tq3wc': {'NTA': 19, 'INFO': 2, 'YWBTA': 0, 'YWNBTA': 0, 'ESH': 0, 'NAH': 0}, '10tz24y': {'NTA': 8, 'ESH': 3, 'INFO': 2, 'YWBTA': 0, 'YWNBTA': 0, 'NAH': 0}, '10txljy': {'NTA': 7, 'YWBTA': 0, 'YWNBTA': 0, 'ESH': 0, 'NAH': 0, 'INFO': 0}, '10u5b0t': {'NTA': 1, 'YWBTA': 0, 'YWNBTA': 0, 'ESH': 0, 'NAH': 0, 'INFO': 0}, '10tvth9': {'NTA': 15, 'YWBTA': 0, 'YWNBTA': 0, 'ESH': 0, 'NAH': 0, 'INFO': 0}, '10u20s1': {'NTA': 5, 'NAH': 1, 'YWBTA': 0, 'YWNBTA': 0, 'ESH': 0, 'INFO': 0}, '10u4ztr': {'NAH': 2, 'NTA': 1, 'YWBTA': 0, 'YWNBTA': 0, 'ESH': 0, 'INFO': 0}, '10t7lxj': {'NTA': 22, 'YWBTA': 5, 'ESH': 2, 'YWNBTA': 1, 'NAH': 1, 'INFO': 0}, '10u9pj6': {'NTA': 18, 'INFO': 3, 'NAH': 3, 'YWBTA': 0, 'YWNBTA': 0, 'ESH': 0}, '10tqr25': {'NTA': 5, 'INFO': 3, 'YWBTA': 0, 'YWNBTA': 0, 'ESH': 0, 'NAH': 0}, '10tyke2': {'NTA': 8, 'YWBTA': 0, 'YWNBTA': 0, 'ESH': 0, 'NAH': 0, 'INFO': 0}, '10stskr': {'NTA': 49, 'YWBTA': 0, 'YWNBTA': 0, 'ESH': 0, 'NAH': 0, 'INFO': 0}, '10tlwii': {'NTA': 41, 'INFO': 3, 'YWBTA': 0, 'YWNBTA': 0, 'ESH': 0, 'NAH': 0}, '10sorq8': {'ESH': 3, 'NTA': 1, 'INFO': 1, 'YWBTA': 0, 'YWNBTA': 0, 'NAH': 0}, '10u63ns': {'ESH': 1, 'NTA': 0, 'YWBTA': 0, 'YWNBTA': 0, 'NAH': 0, 'INFO': 0}, '10t123n': {'NTA': 24, 'INFO': 2, 'YWBTA': 0, 'YWNBTA': 0, 'ESH': 0, 'NAH': 0}, '10tk05x': {'NTA': 10, 'ESH': 2, 'YWBTA': 0, 'YWNBTA': 0, 'NAH': 0, 'INFO': 0}, '10tvjmo': {'NTA': 9, 'INFO': 1, 'YWBTA': 0, 'YWNBTA': 0, 'ESH': 0, 'NAH': 0}, '10ud1cv': {'NTA': 3, 'NAH': 2, 'YWBTA': 0, 'YWNBTA': 0, 'ESH': 0, 'INFO': 0}, '10tltli': {'NTA': 14, 'NAH': 3, 'INFO': 1, 'YWBTA': 0, 'YWNBTA': 0, 'ESH': 0}, '10ucq2x': {'NTA': 8, 'NAH': 1, 'YWBTA': 0, 'YWNBTA': 0, 'ESH': 0, 'INFO': 0}, '10tv1wn': {'NTA': 9, 'YWBTA': 1, 'YWNBTA': 0, 'ESH': 0, 'NAH': 0, 'INFO': 0}, '10txjai': {'NTA': 8, 'YWBTA': 0, 'YWNBTA': 0, 'ESH': 0, 'NAH': 0, 'INFO': 0}, '10swrqr': {'NTA': 39, 'YWBTA': 0, 'YWNBTA': 0, 'ESH': 0, 'NAH': 0, 'INFO': 0}, '10tz678': {'NTA': 8, 'YWBTA': 0, 'YWNBTA': 0, 'ESH': 0, 'NAH': 0, 'INFO': 0}, '10u042f': {'NTA': 2, 'INFO': 1, 'YWBTA': 0, 'YWNBTA': 0, 'ESH': 0, 'NAH': 0}, '10tt7mx': {'NTA': 5, 'NAH': 3, 'INFO': 1, 'YWBTA': 0, 'YWNBTA': 0, 'ESH': 0}, '10tplsk': {'NTA': 10, 'ESH': 2, 'INFO': 1, 'YWBTA': 0, 'YWNBTA': 0, 'NAH': 0}, '10u6i1l': {'NTA': 4, 'YWBTA': 0, 'YWNBTA': 0, 'ESH': 0, 'NAH': 0, 'INFO': 0}, '10txq0i': {'NTA': 10, 'INFO': 1, 'NAH': 1, 'ESH': 1, 'YWBTA': 0, 'YWNBTA': 0}, '10tw4c6': {'NTA': 4, 'INFO': 1, 'YWBTA': 0, 'YWNBTA': 0, 'ESH': 0, 'NAH': 0}, '10tzk5y': {'NTA': 1, 'YWBTA': 0, 'YWNBTA': 0, 'ESH': 0, 'NAH': 0, 'INFO': 0}, '10tuib4': {'NTA': 6, 'NAH': 3, 'ESH': 1, 'YWBTA': 0, 'YWNBTA': 0, 'INFO': 0}, '10tlsz8': {'NTA': 19, 'YWBTA': 0, 'YWNBTA': 0, 'ESH': 0, 'NAH': 0, 'INFO': 0}, '10tnb9s': {'NTA': 9, 'NAH': 1, 'YWBTA': 0, 'YWNBTA': 0, 'ESH': 0, 'INFO': 0}, '10tjsqr': {'NTA': 12, 'ESH': 2, 'YWBTA': 0, 'YWNBTA': 0, 'NAH': 0, 'INFO': 0}, '10skz7u': {'NTA': 9, 'YWBTA': 0, 'YWNBTA': 0, 'ESH': 0, 'NAH': 0, 'INFO': 0}, '10u003t': {'NTA': 5, 'YWBTA': 0, 'YWNBTA': 0, 'ESH': 0, 'NAH': 0, 'INFO': 0}, '10tllh3': {'NTA': 4, 'ESH': 2, 'YWBTA': 0, 'YWNBTA': 0, 'NAH': 0, 'INFO': 0}, '10ttuos': {'NTA': 20, 'INFO': 1, 'ESH': 1, 'NAH': 1, 'YWBTA': 0, 'YWNBTA': 0}, '10tngnd': {'NTA': 2, 'ESH': 1, 'YWBTA': 0, 'YWNBTA': 0, 'NAH': 0, 'INFO': 0}, '10tt489': {'NTA': 11, 'YWBTA': 0, 'YWNBTA': 0, 'ESH': 0, 'NAH': 0, 'INFO': 0}, '10trglx': {'NTA': 17, 'YWBTA': 1, 'YWNBTA': 0, 'ESH': 0, 'NAH': 0, 'INFO': 0}, '10ub4aj': {'NTA': 16, 'YWBTA': 0, 'YWNBTA': 0, 'ESH': 0, 'NAH': 0, 'INFO': 0}, '10tgcqg': {'NTA': 33, 'YWBTA': 0, 'YWNBTA': 0, 'ESH': 0, 'NAH': 0, 'INFO': 0}, '10tpnc7': {'NTA': 13, 'INFO': 1, 'YWBTA': 0, 'YWNBTA': 0, 'ESH': 0, 'NAH': 0}, '10txi73': {'NTA': 13, 'YWBTA': 0, 'YWNBTA': 0, 'ESH': 0, 'NAH': 0, 'INFO': 0}, '10tffrb': {'NTA': 20, 'YWBTA': 0, 'YWNBTA': 0, 'ESH': 0, 'NAH': 0, 'INFO': 0}, '10tyffo': {'NTA': 8, 'NAH': 2, 'YWBTA': 0, 'YWNBTA': 0, 'ESH': 0, 'INFO': 0}, '10tqnng': {'NTA': 3, 'YWBTA': 0, 'YWNBTA': 0, 'ESH': 0, 'NAH': 0, 'INFO': 0}, '10tw8uz': {'ESH': 4, 'NTA': 3, 'YWBTA': 0, 'YWNBTA': 0, 'NAH': 0, 'INFO': 0}, '10trg2y': {'NTA': 9, 'ESH': 2, 'YWBTA': 0, 'YWNBTA': 0, 'NAH': 0, 'INFO': 0}, '10tex56': {'NTA': 21, 'YWBTA': 0, 'YWNBTA': 0, 'ESH': 0, 'NAH': 0, 'INFO': 0}, '10t6427': {'NTA': 57, 'YWBTA': 0, 'YWNBTA': 0, 'ESH': 0, 'NAH': 0, 'INFO': 0}, '10tqbdt': {'NTA': 19, 'INFO': 1, 'YWBTA': 0, 'YWNBTA': 0, 'ESH': 0, 'NAH': 0}, '10sqh1a': {'NTA': 0, 'YWBTA': 0, 'YWNBTA': 0, 'ESH': 0, 'NAH': 0, 'INFO': 0}, '10tnaq4': {'NTA': 2, 'ESH': 2, 'INFO': 1, 'YWBTA': 0, 'YWNBTA': 0, 'NAH': 0}, '10txpde': {'NTA': 4, 'INFO': 1, 'YWBTA': 0, 'YWNBTA': 0, 'ESH': 0, 'NAH': 0}, '10tox0t': {'NTA': 8, 'ESH': 5, 'NAH': 1, 'INFO': 1, 'YWBTA': 0, 'YWNBTA': 0}, '10sk3qg': {'NTA': 4, 'NAH': 1, 'YWBTA': 0, 'YWNBTA': 0, 'ESH': 0, 'INFO': 0}, '10tyofy': {'NTA': 6, 'ESH': 2, 'NAH': 1, 'YWBTA': 0, 'YWNBTA': 0, 'INFO': 0}, '10tmcj1': {'NTA': 10, 'INFO': 2, 'YWBTA': 0, 'YWNBTA': 0, 'ESH': 0, 'NAH': 0}, '10tllux': {'NTA': 8, 'YWBTA': 0, 'YWNBTA': 0, 'ESH': 0, 'NAH': 0, 'INFO': 0}, '10tx6iz': {'NTA': 5, 'YWBTA': 0, 'YWNBTA': 0, 'ESH': 0, 'NAH': 0, 'INFO': 0}, '10tzuus': {'NTA': 6, 'NAH': 1, 'YWBTA': 0, 'YWNBTA': 0, 'ESH': 0, 'INFO': 0}, '10t75c0': {'NTA': 25, 'NAH': 1, 'ESH': 1, 'YWBTA': 0, 'YWNBTA': 0, 'INFO': 0}, '10tq69f': {'NTA': 7, 'YWBTA': 0, 'YWNBTA': 0, 'ESH': 0, 'NAH': 0, 'INFO': 0}, '10ua017': {'NTA': 3, 'YWBTA': 0, 'YWNBTA': 0, 'ESH': 0, 'NAH': 0, 'INFO': 0}, '10sguco': {'NTA': 14, 'YWBTA': 0, 'YWNBTA': 0, 'ESH': 0, 'NAH': 0, 'INFO': 0}, '10sthgk': {'NTA': 31, 'YWBTA': 0, 'YWNBTA': 0, 'ESH': 0, 'NAH': 0, 'INFO': 0}, '10twp1n': {'INFO': 1, 'ESH': 1, 'NTA': 1, 'YWBTA': 0, 'YWNBTA': 0, 'NAH': 0}, '10txta5': {'NTA': 1, 'ESH': 1, 'NAH': 1, 'YWBTA': 0, 'YWNBTA': 0, 'INFO': 0}, '10txt85': {'NTA': 3, 'INFO': 1, 'YWBTA': 0, 'YWNBTA': 0, 'ESH': 0, 'NAH': 0}, '10sftbg': {'NTA': 11, 'NAH': 1, 'YWBTA': 0, 'YWNBTA': 0, 'ESH': 0, 'INFO': 0}, '10tr5aq': {'NTA': 5, 'YWBTA': 0, 'YWNBTA': 0, 'ESH': 0, 'NAH': 0, 'INFO': 0}, '10tr2vp': {'NTA': 5, 'ESH': 4, 'YWBTA': 0, 'YWNBTA': 0, 'NAH': 0, 'INFO': 0}, '10tm7g2': {'NTA': 18, 'ESH': 1, 'YWBTA': 0, 'YWNBTA': 0, 'NAH': 0, 'INFO': 0}, '10u935t': {'NAH': 4, 'NTA': 1, 'YWBTA': 0, 'YWNBTA': 0, 'ESH': 0, 'INFO': 0}, '10tqfpx': {'NTA': 7, 'YWBTA': 0, 'YWNBTA': 0, 'ESH': 0, 'NAH': 0, 'INFO': 0}, '10tjgct': {'NTA': 18, 'YWBTA': 2, 'NAH': 2, 'YWNBTA': 0, 'ESH': 0, 'INFO': 0}, '10t1ufw': {'NTA': 42, 'YWBTA': 0, 'YWNBTA': 0, 'ESH': 0, 'NAH': 0, 'INFO': 0}, '10u01k1': {'NTA': 4, 'INFO': 2, 'NAH': 1, 'YWBTA': 0, 'YWNBTA': 0, 'ESH': 0}, '10th0g6': {'NTA': 15, 'INFO': 2, 'ESH': 1, 'YWBTA': 0, 'YWNBTA': 0, 'NAH': 0}, '10tzwpx': {'NTA': 3, 'YWBTA': 0, 'YWNBTA': 0, 'ESH': 0, 'NAH': 0, 'INFO': 0}, '10szj4n': {'NTA': 20, 'ESH': 1, 'INFO': 1, 'YWBTA': 0, 'YWNBTA': 0, 'NAH': 0}, '10tifr9': {'NTA': 6, 'NAH': 1, 'YWBTA': 0, 'YWNBTA': 0, 'ESH': 0, 'INFO': 0}, '10t3bci': {'NTA': 49, 'YWBTA': 0, 'YWNBTA': 0, 'ESH': 0, 'NAH': 0, 'INFO': 0}, '10t43an': {'NTA': 53, 'INFO': 1, 'YWBTA': 0, 'YWNBTA': 0, 'ESH': 0, 'NAH': 0}, '10tx8yb': {'NTA': 2, 'INFO': 1, 'YWBTA': 0, 'YWNBTA': 0, 'ESH': 0, 'NAH': 0}, '10to87k': {'NTA': 5, 'ESH': 1, 'YWBTA': 0, 'YWNBTA': 0, 'NAH': 0, 'INFO': 0}, '10tua0y': {'NTA': 6, 'ESH': 2, 'NAH': 1, 'YWBTA': 0, 'YWNBTA': 0, 'INFO': 0}, '10tvmjn': {'YWBTA': 2, 'NTA': 2, 'YWNBTA': 0, 'ESH': 0, 'NAH': 0, 'INFO': 0}, '10tq9tp': {'NTA': 6, 'YWBTA': 0, 'YWNBTA': 0, 'ESH': 0, 'NAH': 0, 'INFO': 0}, '10tphcn': {'NTA': 14, 'YWBTA': 0, 'YWNBTA': 0, 'ESH': 0, 'NAH': 0, 'INFO': 0}, '10snd3t': {'NTA': 9, 'NAH': 2, 'ESH': 1, 'INFO': 1, 'YWBTA': 0, 'YWNBTA': 0}, '10sj8v8': {'NTA': 25, 'YWBTA': 0, 'YWNBTA': 0, 'ESH': 0, 'NAH': 0, 'INFO': 0}, '10tkeyb': {'NAH': 3, 'NTA': 3, 'INFO': 1, 'YWBTA': 0, 'YWNBTA': 0, 'ESH': 0}, '10slcdf': {'NTA': 19, 'NAH': 8, 'INFO': 1, 'YWBTA': 0, 'YWNBTA': 0, 'ESH': 0}, '10tro2f': {'NTA': 2, 'NAH': 1, 'YWNBTA': 1, 'YWBTA': 0, 'ESH': 0, 'INFO': 0}, '10ssnau': {'NTA': 41, 'ESH': 1, 'YWBTA': 0, 'YWNBTA': 0, 'NAH': 0, 'INFO': 0}, '10tsgck': {'NTA': 0, 'YWBTA': 0, 'YWNBTA': 0, 'ESH': 0, 'NAH': 0, 'INFO': 0}, '10u1q7c': {'NTA': 3, 'INFO': 1, 'NAH': 1, 'YWBTA': 0, 'YWNBTA': 0, 'ESH': 0}, '10tg8ig': {'NTA': 6, 'ESH': 5, 'INFO': 2, 'YWBTA': 0, 'YWNBTA': 0, 'NAH': 0}, '10twlsz': {'NTA': 1, 'YWBTA': 0, 'YWNBTA': 0, 'ESH': 0, 'NAH': 0, 'INFO': 0}, '10to1vz': {'NTA': 5, 'NAH': 1, 'YWBTA': 0, 'YWNBTA': 0, 'ESH': 0, 'INFO': 0}, '10tq3up': {'NTA': 4, 'YWBTA': 0, 'YWNBTA': 0, 'ESH': 0, 'NAH': 0, 'INFO': 0}, '10ty6ca': {'NTA': 0, 'YWBTA': 0, 'YWNBTA': 0, 'ESH': 0, 'NAH': 0, 'INFO': 0}, '10tuhjz': {'NTA': 2, 'YWBTA': 1, 'YWNBTA': 1, 'NAH': 1, 'ESH': 0, 'INFO': 0}, '10t8k0r': {'NTA': 29, 'YWBTA': 0, 'YWNBTA': 0, 'ESH': 0, 'NAH': 0, 'INFO': 0}, '10se02s': {'NTA': 2, 'INFO': 1, 'YWBTA': 0, 'YWNBTA': 0, 'ESH': 0, 'NAH': 0}, '10tdglh': {'NTA': 8, 'YWBTA': 0, 'YWNBTA': 0, 'ESH': 0, 'NAH': 0, 'INFO': 0}, '10tea0v': {'NTA': 13, 'INFO': 1, 'YWBTA': 0, 'YWNBTA': 0, 'ESH': 0, 'NAH': 0}, '10tfzqd': {'NTA': 11, 'YWBTA': 0, 'YWNBTA': 0, 'ESH': 0, 'NAH': 0, 'INFO': 0}, '10tohcp': {'NTA': 0, 'YWBTA': 0, 'YWNBTA': 0, 'ESH': 0, 'NAH': 0, 'INFO': 0}, '10tl5ba': {'NTA': 3, 'YWBTA': 0, 'YWNBTA': 0, 'ESH': 0, 'NAH': 0, 'INFO': 0}, '10thueo': {'NTA': 11, 'INFO': 2, 'ESH': 1, 'YWBTA': 0, 'YWNBTA': 0, 'NAH': 0}, '10tp6vg': {'NTA': 8, 'ESH': 2, 'INFO': 2, 'YWBTA': 0, 'YWNBTA': 0, 'NAH': 0}, '10to4cv': {'NTA': 1, 'ESH': 1, 'INFO': 1, 'YWBTA': 0, 'YWNBTA': 0, 'NAH': 0}, '10tqr9z': {'NTA': 0, 'YWBTA': 0, 'YWNBTA': 0, 'ESH': 0, 'NAH': 0, 'INFO': 0}, '10tv08v': {'NTA': 3, 'ESH': 1, 'YWBTA': 0, 'YWNBTA': 0, 'NAH': 0, 'INFO': 0}, '10tdlxt': {'NTA': 12, 'YWBTA': 0, 'YWNBTA': 0, 'ESH': 0, 'NAH': 0, 'INFO': 0}, '10tt6ug': {'NTA': 5, 'ESH': 1, 'YWBTA': 0, 'YWNBTA': 0, 'NAH': 0, 'INFO': 0}, '10tpg8b': {'NTA': 4, 'YWBTA': 0, 'YWNBTA': 0, 'ESH': 0, 'NAH': 0, 'INFO': 0}, '10td7v6': {'NTA': 26, 'NAH': 2, 'YWBTA': 0, 'YWNBTA': 0, 'ESH': 0, 'INFO': 0}, '10tq4ck': {'NTA': 4, 'NAH': 1, 'YWBTA': 0, 'YWNBTA': 0, 'ESH': 0, 'INFO': 0}, '10towj6': {'NTA': 6, 'NAH': 2, 'YWBTA': 0, 'YWNBTA': 0, 'ESH': 0, 'INFO': 0}, '10tr633': {'ESH': 1, 'NTA': 0, 'YWBTA': 0, 'YWNBTA': 0, 'NAH': 0, 'INFO': 0}, '10uipyr': {'NTA': 3, 'INFO': 1, 'ESH': 1, 'YWBTA': 0, 'YWNBTA': 0, 'NAH': 0}, '10tr021': {'NTA': 5, 'YWBTA': 0, 'YWNBTA': 0, 'ESH': 0, 'NAH': 0, 'INFO': 0}, '10tmwze': {'NTA': 3, 'NAH': 1, 'ESH': 1, 'INFO': 1, 'YWBTA': 0, 'YWNBTA': 0}, '10tyyp4': {'INFO': 1, 'NAH': 1, 'NTA': 1, 'YWBTA': 0, 'YWNBTA': 0, 'ESH': 0}, '10tjt4h': {'NTA': 4, 'NAH': 2, 'ESH': 1, 'YWBTA': 0, 'YWNBTA': 0, 'INFO': 0}, '10smvaa': {'NTA': 3, 'INFO': 2, 'NAH': 1, 'YWBTA': 0, 'YWNBTA': 0, 'ESH': 0}, '10to29a': {'NTA': 3, 'INFO': 1, 'YWBTA': 0, 'YWNBTA': 0, 'ESH': 0, 'NAH': 0}, '10tmvwx': {'NTA': 5, 'NAH': 2, 'YWBTA': 0, 'YWNBTA': 0, 'ESH': 0, 'INFO': 0}, '10tpznk': {'NTA': 14, 'INFO': 1, 'YWBTA': 0, 'YWNBTA': 0, 'ESH': 0, 'NAH': 0}, '10tops3': {'NTA': 5, 'YWNBTA': 1, 'YWBTA': 0, 'ESH': 0, 'NAH': 0, 'INFO': 0}, '10tpuvf': {'NTA': 7, 'INFO': 2, 'YWBTA': 0, 'YWNBTA': 0, 'ESH': 0, 'NAH': 0}, '10tneci': {'NTA': 4, 'NAH': 1, 'YWBTA': 0, 'YWNBTA': 0, 'ESH': 0, 'INFO': 0}, '10svd3d': {'NTA': 25, 'ESH': 1, 'INFO': 1, 'NAH': 1, 'YWBTA': 0, 'YWNBTA': 0}, '10udfmv': {'ESH': 1, 'NTA': 0, 'YWBTA': 0, 'YWNBTA': 0, 'NAH': 0, 'INFO': 0}, '10sr5xw': {'NTA': 70, 'ESH': 1, 'INFO': 1, 'YWBTA': 0, 'YWNBTA': 0, 'NAH': 0}, '10teo5i': {'NTA': 14, 'YWBTA': 0, 'YWNBTA': 0, 'ESH': 0, 'NAH': 0, 'INFO': 0}, '10topa0': {'NTA': 4, 'YWBTA': 0, 'YWNBTA': 0, 'ESH': 0, 'NAH': 0, 'INFO': 0}, '10tm6sy': {'NTA': 4, 'YWBTA': 0, 'YWNBTA': 0, 'ESH': 0, 'NAH': 0, 'INFO': 0}, '10tn3d0': {'NTA': 4, 'YWBTA': 0, 'YWNBTA': 0, 'ESH': 0, 'NAH': 0, 'INFO': 0}, '10trg8w': {'NTA': 7, 'YWBTA': 0, 'YWNBTA': 0, 'ESH': 0, 'NAH': 0, 'INFO': 0}, '10sy5qz': {'NTA': 54, 'ESH': 1, 'YWBTA': 0, 'YWNBTA': 0, 'NAH': 0, 'INFO': 0}, '10t8ip7': {'NTA': 15, 'YWBTA': 0, 'YWNBTA': 0, 'ESH': 0, 'NAH': 0, 'INFO': 0}, '10suiyn': {'NTA': 36, 'ESH': 1, 'YWBTA': 0, 'YWNBTA': 0, 'NAH': 0, 'INFO': 0}, '10tni3l': {'NTA': 9, 'YWBTA': 0, 'YWNBTA': 0, 'ESH': 0, 'NAH': 0, 'INFO': 0}, '10tnbdh': {'NTA': 4, 'YWBTA': 0, 'YWNBTA': 0, 'ESH': 0, 'NAH': 0, 'INFO': 0}, '10st683': {'NTA': 48, 'NAH': 3, 'INFO': 1, 'ESH': 1, 'YWBTA': 0, 'YWNBTA': 0}, '10tn9t5': {'NTA': 4, 'ESH': 1, 'YWBTA': 0, 'YWNBTA': 0, 'NAH': 0, 'INFO': 0}, '10tgku7': {'NTA': 16, 'YWBTA': 0, 'YWNBTA': 0, 'ESH': 0, 'NAH': 0, 'INFO': 0}, '10toeuj': {'NTA': 4, 'NAH': 1, 'YWBTA': 0, 'YWNBTA': 0, 'ESH': 0, 'INFO': 0}, '10tmpiv': {'NTA': 6, 'NAH': 2, 'INFO': 1, 'YWBTA': 0, 'YWNBTA': 0, 'ESH': 0}, '10trzeq': {'ESH': 8, 'YWBTA': 5, 'NTA': 3, 'YWNBTA': 0, 'NAH': 0, 'INFO': 0}, '10skypn': {'NTA': 21, 'YWBTA': 0, 'YWNBTA': 0, 'ESH': 0, 'NAH': 0, 'INFO': 0}, '10se2cp': {'INFO': 4, 'NTA': 0, 'YWBTA': 0, 'YWNBTA': 0, 'ESH': 0, 'NAH': 0}, '10re8db': {'NTA': 13, 'YWBTA': 0, 'YWNBTA': 0, 'ESH': 0, 'NAH': 0, 'INFO': 0}, '10qxv7b': {'NTA': 17, 'NAH': 1, 'YWBTA': 0, 'YWNBTA': 0, 'ESH': 0, 'INFO': 0}, '10v5jrh': {'NTA': 0, 'YWBTA': 0, 'YWNBTA': 0, 'ESH': 0, 'NAH': 0, 'INFO': 0}, '10v6dbd': {'NTA': 39, 'ESH': 7, 'NAH': 1, 'YWBTA': 0, 'YWNBTA': 0, 'INFO': 0}, '10v6rmr': {'NTA': 50, 'ESH': 7, 'NAH': 1, 'INFO': 1, 'YWBTA': 0, 'YWNBTA': 0}, '10v61ub': {'INFO': 7, 'NTA': 4, 'NAH': 3, 'YWBTA': 0, 'YWNBTA': 0, 'ESH': 0}, '10v6o8a': {'NAH': 18, 'NTA': 14, 'INFO': 1, 'YWBTA': 0, 'YWNBTA': 0, 'ESH': 0}, '10v6aol': {'NTA': 29, 'YWBTA': 0, 'YWNBTA': 0, 'ESH': 0, 'NAH': 0, 'INFO': 0}, '10v6msw': {'NTA': 8, 'NAH': 2, 'YWBTA': 0, 'YWNBTA': 0, 'ESH': 0, 'INFO': 0}, '10v6x78': {'NTA': 8, 'YWBTA': 0, 'YWNBTA': 0, 'ESH': 0, 'NAH': 0, 'INFO': 0}, '10v6k3f': {'NTA': 3, 'INFO': 1, 'YWBTA': 0, 'YWNBTA': 0, 'ESH': 0, 'NAH': 0}, '10v7uh6': {'NTA': 63, 'ESH': 2, 'INFO': 1, 'NAH': 1, 'YWBTA': 0, 'YWNBTA': 0}, '10v7ktk': {'NTA': 34, 'ESH': 1, 'YWBTA': 0, 'YWNBTA': 0, 'NAH': 0, 'INFO': 0}, '10v6rj7': {'INFO': 1, 'NTA': 0, 'YWBTA': 0, 'YWNBTA': 0, 'ESH': 0, 'NAH': 0}, '10v9q3s': {'NTA': 46, 'INFO': 8, 'NAH': 4, 'YWNBTA': 2, 'YWBTA': 1, 'ESH': 0}, '10v84t1': {'NTA': 35, 'ESH': 13, 'YWBTA': 0, 'YWNBTA': 0, 'NAH': 0, 'INFO': 0}, '10v8lgs': {'NTA': 28, 'ESH': 1, 'YWBTA': 0, 'YWNBTA': 0, 'NAH': 0, 'INFO': 0}, '10vaeu8': {'ESH': 4, 'INFO': 3, 'NAH': 3, 'NTA': 1, 'YWBTA': 0, 'YWNBTA': 0}, '10v9bup': {'NTA': 11, 'YWBTA': 8, 'YWNBTA': 0, 'ESH': 0, 'NAH': 0, 'INFO': 0}, '10v8gqv': {'NTA': 15, 'YWBTA': 8, 'INFO': 4, 'ESH': 4, 'YWNBTA': 0, 'NAH': 0}, '10v82lq': {'NTA': 38, 'ESH': 1, 'YWBTA': 0, 'YWNBTA': 0, 'NAH': 0, 'INFO': 0}, '10v87vt': {'NTA': 64, 'INFO': 1, 'YWBTA': 0, 'YWNBTA': 0, 'ESH': 0, 'NAH': 0}, '10v9ucm': {'NAH': 1, 'NTA': 1, 'ESH': 1, 'YWBTA': 0, 'YWNBTA': 0, 'INFO': 0}, '10v8ok1': {'NTA': 1, 'NAH': 1, 'YWBTA': 0, 'YWNBTA': 0, 'ESH': 0, 'INFO': 0}, '10v8n12': {'NTA': 8, 'INFO': 1, 'ESH': 1, 'YWBTA': 0, 'YWNBTA': 0, 'NAH': 0}, '10vab0t': {'NTA': 47, 'INFO': 2, 'YWBTA': 0, 'YWNBTA': 0, 'ESH': 0, 'NAH': 0}, '10v97vh': {'NTA': 0, 'YWBTA': 0, 'YWNBTA': 0, 'ESH': 0, 'NAH': 0, 'INFO': 0}, '10v78qr': {'NTA': 43, 'ESH': 3, 'INFO': 1, 'NAH': 1, 'YWBTA': 0, 'YWNBTA': 0}, '10va10v': {'NTA': 17, 'NAH': 3, 'INFO': 1, 'YWBTA': 0, 'YWNBTA': 0, 'ESH': 0}, '10v9u4i': {'NAH': 1, 'NTA': 1, 'ESH': 1, 'YWBTA': 0, 'YWNBTA': 0, 'INFO': 0}, '10v75wo': {'NTA': 5, 'ESH': 1, 'YWBTA': 0, 'YWNBTA': 0, 'NAH': 0, 'INFO': 0}, '10v817g': {'NTA': 20, 'ESH': 2, 'YWBTA': 0, 'YWNBTA': 0, 'NAH': 0, 'INFO': 0}, '10v8q9d': {'NTA': 0, 'YWBTA': 0, 'YWNBTA': 0, 'ESH': 0, 'NAH': 0, 'INFO': 0}, '10v8yd0': {'NTA': 4, 'YWBTA': 0, 'YWNBTA': 0, 'ESH': 0, 'NAH': 0, 'INFO': 0}, '10v8sxs': {'NTA': 10, 'INFO': 2, 'NAH': 1, 'YWBTA': 0, 'YWNBTA': 0, 'ESH': 0}, '10va38v': {'NTA': 5, 'YWBTA': 4, 'INFO': 1, 'NAH': 1, 'YWNBTA': 0, 'ESH': 0}, '10v9fs8': {'NTA': 3, 'YWBTA': 1, 'INFO': 1, 'YWNBTA': 0, 'ESH': 0, 'NAH': 0}, '10vaylu': {'NAH': 3, 'NTA': 0, 'YWBTA': 0, 'YWNBTA': 0, 'ESH': 0, 'INFO': 0}, '10vax7a': {'NTA': 9, 'YWBTA': 0, 'YWNBTA': 0, 'ESH': 0, 'NAH': 0, 'INFO': 0}, '10v9vc1': {'NTA': 7, 'YWBTA': 0, 'YWNBTA': 0, 'ESH': 0, 'NAH': 0, 'INFO': 0}, '10v9sc7': {'NTA': 7, 'INFO': 2, 'NAH': 1, 'ESH': 1, 'YWBTA': 0, 'YWNBTA': 0}, '10v9prq': {'NTA': 0, 'YWBTA': 0, 'YWNBTA': 0, 'ESH': 0, 'NAH': 0, 'INFO': 0}, '10v9jpt': {'NTA': 5, 'ESH': 3, 'INFO': 1, 'YWBTA': 0, 'YWNBTA': 0, 'NAH': 0}, '10v99ha': {'NTA': 25, 'YWBTA': 0, 'YWNBTA': 0, 'ESH': 0, 'NAH': 0, 'INFO': 0}, '10v96yj': {'NTA': 3, 'YWBTA': 0, 'YWNBTA': 0, 'ESH': 0, 'NAH': 0, 'INFO': 0}, '10v8crh': {'ESH': 4, 'NTA': 3, 'YWBTA': 0, 'YWNBTA': 0, 'NAH': 0, 'INFO': 0}, '10v892v': {'NTA': 15, 'ESH': 3, 'INFO': 2, 'YWBTA': 0, 'YWNBTA': 0, 'NAH': 0}, '10v84u1': {'NTA': 2, 'YWNBTA': 2, 'NAH': 1, 'YWBTA': 0, 'ESH': 0, 'INFO': 0}, '10vavyd': {'NTA': 2, 'NAH': 2, 'ESH': 1, 'YWBTA': 1, 'YWNBTA': 0, 'INFO': 0}, '10vavpn': {'ESH': 3, 'YWBTA': 2, 'NTA': 2, 'YWNBTA': 0, 'NAH': 0, 'INFO': 0}, '10vatlf': {'ESH': 3, 'INFO': 1, 'NTA': 1, 'NAH': 1, 'YWBTA': 0, 'YWNBTA': 0}, '10v7hm2': {'NTA': 6, 'YWNBTA': 3, 'INFO': 2, 'YWBTA': 2, 'ESH': 1, 'NAH': 0}, '10va8ip': {'NTA': 5, 'INFO': 1, 'YWBTA': 0, 'YWNBTA': 0, 'ESH': 0, 'NAH': 0}, '10v9vqz': {'NTA': 4, 'YWBTA': 0, 'YWNBTA': 0, 'ESH': 0, 'NAH': 0, 'INFO': 0}, '10v6ize': {'NTA': 4, 'ESH': 1, 'YWBTA': 0, 'YWNBTA': 0, 'NAH': 0, 'INFO': 0}, '10vbd4c': {'NTA': 0, 'YWBTA': 0, 'YWNBTA': 0, 'ESH': 0, 'NAH': 0, 'INFO': 0}, '10vbcxl': {'NTA': 1, 'YWBTA': 0, 'YWNBTA': 0, 'ESH': 0, 'NAH': 0, 'INFO': 0}, '10vbcik': {'NTA': 24, 'YWNBTA': 3, 'INFO': 1, 'NAH': 1, 'YWBTA': 0, 'ESH': 0}, '10vbbwq': {'NTA': 0, 'YWBTA': 0, 'YWNBTA': 0, 'ESH': 0, 'NAH': 0, 'INFO': 0}, '10vb9zw': {'NTA': 0, 'YWBTA': 0, 'YWNBTA': 0, 'ESH': 0, 'NAH': 0, 'INFO': 0}, '10vb8tf': {'NTA': 22, 'YWBTA': 0, 'YWNBTA': 0, 'ESH': 0, 'NAH': 0, 'INFO': 0}, '10vb7eg': {'NTA': 1, 'YWBTA': 0, 'YWNBTA': 0, 'ESH': 0, 'NAH': 0, 'INFO': 0}, '10vb6er': {'INFO': 2, 'NAH': 1, 'NTA': 1, 'YWBTA': 0, 'YWNBTA': 0, 'ESH': 0}, '10vb4yh': {'INFO': 1, 'NTA': 0, 'YWBTA': 0, 'YWNBTA': 0, 'ESH': 0, 'NAH': 0}, '10vawaa': {'NTA': 11, 'YWBTA': 0, 'YWNBTA': 0, 'ESH': 0, 'NAH': 0, 'INFO': 0}, '10vanf8': {'NTA': 1, 'ESH': 1, 'YWBTA': 0, 'YWNBTA': 0, 'NAH': 0, 'INFO': 0}, '10vai1g': {'INFO': 1, 'NTA': 1, 'YWBTA': 0, 'YWNBTA': 0, 'ESH': 0, 'NAH': 0}, '10v9eah': {'NTA': 7, 'INFO': 1, 'YWBTA': 0, 'YWNBTA': 0, 'ESH': 0, 'NAH': 0}, '10v8r3p': {'NTA': 16, 'YWBTA': 0, 'YWNBTA': 0, 'ESH': 0, 'NAH': 0, 'INFO': 0}, '10v9vrx': {'NTA': 48, 'YWBTA': 0, 'YWNBTA': 0, 'ESH': 0, 'NAH': 0, 'INFO': 0}, '10vccne': {'NTA': 61, 'YWBTA': 0, 'YWNBTA': 0, 'ESH': 0, 'NAH': 0, 'INFO': 0}, '10vc179': {'NTA': 49, 'ESH': 1, 'INFO': 1, 'YWBTA': 0, 'YWNBTA': 0, 'NAH': 0}, '10vf2xc': {'NTA': 33, 'YWBTA': 0, 'YWNBTA': 0, 'ESH': 0, 'NAH': 0, 'INFO': 0}, '10vclx4': {'NTA': 21, 'ESH': 1, 'INFO': 1, 'YWBTA': 0, 'YWNBTA': 0, 'NAH': 0}, '10vbtrv': {'NTA': 27, 'ESH': 10, 'YWBTA': 0, 'YWNBTA': 0, 'NAH': 0, 'INFO': 0}, '10vdset': {'ESH': 18, 'NTA': 6, 'YWBTA': 4, 'YWNBTA': 0, 'NAH': 0, 'INFO': 0}, '10vdlpr': {'NTA': 53, 'YWBTA': 0, 'YWNBTA': 0, 'ESH': 0, 'NAH': 0, 'INFO': 0}, '10vdg0t': {'NTA': 22, 'YWBTA': 0, 'YWNBTA': 0, 'ESH': 0, 'NAH': 0, 'INFO': 0}, '10vbzfe': {'NTA': 27, 'ESH': 4, 'INFO': 4, 'NAH': 3, 'YWBTA': 0, 'YWNBTA': 0}, '10vevix': {'NTA': 10, 'ESH': 3, 'INFO': 2, 'YWBTA': 1, 'YWNBTA': 0, 'NAH': 0}, '10vdpwl': {'NTA': 43, 'NAH': 7, 'INFO': 4, 'YWBTA': 0, 'YWNBTA': 0, 'ESH': 0}, '10vc93n': {'NTA': 13, 'ESH': 1, 'YWBTA': 0, 'YWNBTA': 0, 'NAH': 0, 'INFO': 0}, '10vcjjl': {'NTA': 46, 'INFO': 2, 'YWBTA': 0, 'YWNBTA': 0, 'ESH': 0, 'NAH': 0}, '10vdien': {'NTA': 2, 'YWBTA': 0, 'YWNBTA': 0, 'ESH': 0, 'NAH': 0, 'INFO': 0}, '10vcxfz': {'NTA': 19, 'NAH': 4, 'ESH': 2, 'YWBTA': 0, 'YWNBTA': 0, 'INFO': 0}, '10vc5lb': {'NTA': 12, 'NAH': 1, 'YWBTA': 0, 'YWNBTA': 0, 'ESH': 0, 'INFO': 0}, '10vfhpb': {'INFO': 9, 'NTA': 9, 'ESH': 1, 'NAH': 1, 'YWBTA': 0, 'YWNBTA': 0}, '10vcyik': {'YWBTA': 5, 'YWNBTA': 3, 'NTA': 2, 'INFO': 1, 'ESH': 0, 'NAH': 0}, '10vej0p': {'NTA': 15, 'YWBTA': 2, 'NAH': 2, 'INFO': 2, 'ESH': 1, 'YWNBTA': 0}, '10ve106': {'NTA': 19, 'NAH': 2, 'YWBTA': 2, 'INFO': 1, 'ESH': 1, 'YWNBTA': 0}, '10vdq2v': {'NTA': 10, 'YWBTA': 0, 'YWNBTA': 0, 'ESH': 0, 'NAH': 0, 'INFO': 0}, '10vero1': {'NTA': 43, 'YWBTA': 0, 'YWNBTA': 0, 'ESH': 0, 'NAH': 0, 'INFO': 0}, '10vdf00': {'NTA': 11, 'YWBTA': 0, 'YWNBTA': 0, 'ESH': 0, 'NAH': 0, 'INFO': 0}, '10vczwk': {'NTA': 17, 'YWBTA': 0, 'YWNBTA': 0, 'ESH': 0, 'NAH': 0, 'INFO': 0}, '10vasba': {'NTA': 7, 'YWBTA': 0, 'YWNBTA': 0, 'ESH': 0, 'NAH': 0, 'INFO': 0}, '10ve5g7': {'NTA': 8, 'ESH': 2, 'INFO': 1, 'YWBTA': 0, 'YWNBTA': 0, 'NAH': 0}, '10ve2t0': {'NTA': 7, 'NAH': 1, 'YWBTA': 0, 'YWNBTA': 0, 'ESH': 0, 'INFO': 0}, '10vfio8': {'NAH': 5, 'NTA': 5, 'ESH': 1, 'YWBTA': 0, 'YWNBTA': 0, 'INFO': 0}, '10vdptx': {'NTA': 9, 'NAH': 1, 'YWBTA': 0, 'YWNBTA': 0, 'ESH': 0, 'INFO': 0}, '10vcbdh': {'ESH': 1, 'INFO': 1, 'NTA': 0, 'YWBTA': 0, 'YWNBTA': 0, 'NAH': 0}, '10vbtb5': {'NTA': 5, 'INFO': 2, 'ESH': 1, 'YWBTA': 0, 'YWNBTA': 0, 'NAH': 0}, '10ve4u1': {'NTA': 1, 'YWBTA': 0, 'YWNBTA': 0, 'ESH': 0, 'NAH': 0, 'INFO': 0}, '10vfupf': {'NTA': 22, 'YWNBTA': 1, 'YWBTA': 0, 'ESH': 0, 'NAH': 0, 'INFO': 0}, '10vfpr2': {'NTA': 2, 'YWBTA': 0, 'YWNBTA': 0, 'ESH': 0, 'NAH': 0, 'INFO': 0}, '10veorr': {'NTA': 2, 'YWBTA': 0, 'YWNBTA': 0, 'ESH': 0, 'NAH': 0, 'INFO': 0}, '10ve0sm': {'NTA': 13, 'YWBTA': 0, 'YWNBTA': 0, 'ESH': 0, 'NAH': 0, 'INFO': 0}, '10vbqlq': {'NTA': 13, 'YWBTA': 0, 'YWNBTA': 0, 'ESH': 0, 'NAH': 0, 'INFO': 0}, '10vg1mg': {'INFO': 1, 'ESH': 1, 'NTA': 0, 'YWBTA': 0, 'YWNBTA': 0, 'NAH': 0}, '10vfa87': {'ESH': 12, 'NTA': 2, 'YWBTA': 0, 'YWNBTA': 0, 'NAH': 0, 'INFO': 0}, '10vcspw': {'YWBTA': 3, 'NAH': 1, 'NTA': 0, 'YWNBTA': 0, 'ESH': 0, 'INFO': 0}, '10vcqgx': {'NTA': 4, 'YWBTA': 0, 'YWNBTA': 0, 'ESH': 0, 'NAH': 0, 'INFO': 0}, '10vf581': {'NTA': 10, 'NAH': 3, 'YWBTA': 0, 'YWNBTA': 0, 'ESH': 0, 'INFO': 0}, '10veg4i': {'NTA': 12, 'YWBTA': 0, 'YWNBTA': 0, 'ESH': 0, 'NAH': 0, 'INFO': 0}, '10ve8jp': {'NTA': 8, 'YWBTA': 0, 'YWNBTA': 0, 'ESH': 0, 'NAH': 0, 'INFO': 0}, '10vdsqq': {'INFO': 1, 'ESH': 1, 'NTA': 0, 'YWBTA': 0, 'YWNBTA': 0, 'NAH': 0}, '10vd75z': {'NTA': 8, 'INFO': 1, 'YWBTA': 0, 'YWNBTA': 0, 'ESH': 0, 'NAH': 0}, '10vcwf6': {'ESH': 1, 'NTA': 0, 'YWBTA': 0, 'YWNBTA': 0, 'NAH': 0, 'INFO': 0}, '10vg2n4': {'NTA': 31, 'YWBTA': 0, 'YWNBTA': 0, 'ESH': 0, 'NAH': 0, 'INFO': 0}, '10vfvv9': {'NAH': 2, 'NTA': 0, 'YWBTA': 0, 'YWNBTA': 0, 'ESH': 0, 'INFO': 0}, '10vf0sz': {'NTA': 6, 'INFO': 1, 'YWBTA': 0, 'YWNBTA': 0, 'ESH': 0, 'NAH': 0}, '10ves99': {'NTA': 9, 'ESH': 1, 'YWBTA': 0, 'YWNBTA': 0, 'NAH': 0, 'INFO': 0}, '10vefo1': {'NTA': 2, 'YWBTA': 0, 'YWNBTA': 0, 'ESH': 0, 'NAH': 0, 'INFO': 0}, '10ved86': {'INFO': 2, 'NTA': 0, 'YWBTA': 0, 'YWNBTA': 0, 'ESH': 0, 'NAH': 0}, '10vdqt6': {'NAH': 1, 'NTA': 0, 'YWBTA': 0, 'YWNBTA': 0, 'ESH': 0, 'INFO': 0}, '10vdp2s': {'NTA': 0, 'YWBTA': 0, 'YWNBTA': 0, 'ESH': 0, 'NAH': 0, 'INFO': 0}, '10vdny6': {'NTA': 0, 'YWBTA': 0, 'YWNBTA': 0, 'ESH': 0, 'NAH': 0, 'INFO': 0}, '10vdesw': {'INFO': 1, 'NTA': 1, 'YWBTA': 0, 'YWNBTA': 0, 'ESH': 0, 'NAH': 0}, '10vbcg7': {'NTA': 4, 'NAH': 1, 'YWBTA': 0, 'YWNBTA': 0, 'ESH': 0, 'INFO': 0}, '10vgaer': {'NTA': 5, 'YWBTA': 1, 'YWNBTA': 0, 'ESH': 0, 'NAH': 0, 'INFO': 0}, '10vg5p8': {'NTA': 3, 'NAH': 1, 'YWBTA': 0, 'YWNBTA': 0, 'ESH': 0, 'INFO': 0}, '10vfjs0': {'NTA': 0, 'YWBTA': 0, 'YWNBTA': 0, 'ESH': 0, 'NAH': 0, 'INFO': 0}, '10vfb04': {'NTA': 23, 'YWBTA': 0, 'YWNBTA': 0, 'ESH': 0, 'NAH': 0, 'INFO': 0}, '10vez0b': {'ESH': 3, 'NAH': 2, 'NTA': 1, 'YWBTA': 0, 'YWNBTA': 0, 'INFO': 0}, '10vek7x': {'NTA': 16, 'YWBTA': 0, 'YWNBTA': 0, 'ESH': 0, 'NAH': 0, 'INFO': 0}, '10veddy': {'ESH': 2, 'INFO': 1, 'NAH': 1, 'NTA': 0, 'YWBTA': 0, 'YWNBTA': 0}, '10vd6jy': {'NTA': 4, 'NAH': 2, 'YWBTA': 2, 'YWNBTA': 0, 'ESH': 0, 'INFO': 0}, '10vmgzi': {'NTA': 23, 'ESH': 3, 'INFO': 2, 'YWBTA': 0, 'YWNBTA': 0, 'NAH': 0}, '10vi1cx': {'NTA': 35, 'YWBTA': 0, 'YWNBTA': 0, 'ESH': 0, 'NAH': 0, 'INFO': 0}, '10vojq3': {'NTA': 18, 'YWBTA': 0, 'YWNBTA': 0, 'ESH': 0, 'NAH': 0, 'INFO': 0}, '10vnhh8': {'INFO': 2, 'NTA': 0, 'YWBTA': 0, 'YWNBTA': 0, 'ESH': 0, 'NAH': 0}, '10vquhh': {'INFO': 2, 'NTA': 0, 'YWBTA': 0, 'YWNBTA': 0, 'ESH': 0, 'NAH': 0}, '10vs6f5': {'ESH': 7, 'INFO': 2, 'NTA': 0, 'YWBTA': 0, 'YWNBTA': 0, 'NAH': 0}, '10vicb8': {'NTA': 43, 'YWBTA': 1, 'YWNBTA': 0, 'ESH': 0, 'NAH': 0, 'INFO': 0}, '10vo3f5': {'NTA': 45, 'YWBTA': 0, 'YWNBTA': 0, 'ESH': 0, 'NAH': 0, 'INFO': 0}, '10vr7vr': {'NTA': 31, 'ESH': 1, 'YWBTA': 0, 'YWNBTA': 0, 'NAH': 0, 'INFO': 0}, '10vlw7o': {'NTA': 42, 'INFO': 1, 'YWBTA': 0, 'YWNBTA': 0, 'ESH': 0, 'NAH': 0}, '10vpfad': {'NTA': 42, 'INFO': 1, 'ESH': 1, 'YWBTA': 0, 'YWNBTA': 0, 'NAH': 0}, '10vikdv': {'NTA': 56, 'YWBTA': 0, 'YWNBTA': 0, 'ESH': 0, 'NAH': 0, 'INFO': 0}, '10vp6d9': {'NTA': 34, 'NAH': 1, 'YWBTA': 0, 'YWNBTA': 0, 'ESH': 0, 'INFO': 0}, '10vhptw': {'NTA': 38, 'YWBTA': 0, 'YWNBTA': 0, 'ESH': 0, 'NAH': 0, 'INFO': 0}, '10vhwmx': {'NTA': 28, 'NAH': 8, 'INFO': 3, 'YWBTA': 0, 'YWNBTA': 0, 'ESH': 0}, '10vq88t': {'NTA': 35, 'INFO': 2, 'ESH': 2, 'YWBTA': 0, 'YWNBTA': 0, 'NAH': 0}, '10vtigm': {'NTA': 24, 'YWBTA': 0, 'YWNBTA': 0, 'ESH': 0, 'NAH': 0, 'INFO': 0}, '10vi7sd': {'NTA': 51, 'YWBTA': 0, 'YWNBTA': 0, 'ESH': 0, 'NAH': 0, 'INFO': 0}, '10vh24k': {'NAH': 12, 'YWBTA': 9, 'NTA': 6, 'INFO': 4, 'YWNBTA': 0, 'ESH': 0}, '10vj60b': {'NTA': 17, 'ESH': 2, 'YWBTA': 0, 'YWNBTA': 0, 'NAH': 0, 'INFO': 0}, '10vukad': {'NTA': 26, 'ESH': 1, 'YWBTA': 0, 'YWNBTA': 0, 'NAH': 0, 'INFO': 0}, '10vjyj3': {'NTA': 44, 'ESH': 1, 'YWBTA': 0, 'YWNBTA': 0, 'NAH': 0, 'INFO': 0}, '10vvpnu': {'NTA': 34, 'YWBTA': 0, 'YWNBTA': 0, 'ESH': 0, 'NAH': 0, 'INFO': 0}, '10vtkh1': {'NTA': 17, 'YWBTA': 0, 'YWNBTA': 0, 'ESH': 0, 'NAH': 0, 'INFO': 0}, '10vo2fu': {'NTA': 31, 'INFO': 1, 'ESH': 1, 'YWBTA': 0, 'YWNBTA': 0, 'NAH': 0}, '10vshtn': {'NTA': 18, 'YWBTA': 0, 'YWNBTA': 0, 'ESH': 0, 'NAH': 0, 'INFO': 0}, '10vrxnl': {'NTA': 38, 'YWBTA': 0, 'YWNBTA': 0, 'ESH': 0, 'NAH': 0, 'INFO': 0}, '10vr330': {'NTA': 20, 'ESH': 12, 'NAH': 3, 'YWBTA': 0, 'YWNBTA': 0, 'INFO': 0}, '10vq5jp': {'NTA': 20, 'YWBTA': 0, 'YWNBTA': 0, 'ESH': 0, 'NAH': 0, 'INFO': 0}, '10vtnsw': {'NTA': 17, 'YWBTA': 0, 'YWNBTA': 0, 'ESH': 0, 'NAH': 0, 'INFO': 0}, '10vtfmg': {'NTA': 26, 'INFO': 1, 'YWBTA': 0, 'YWNBTA': 0, 'ESH': 0, 'NAH': 0}, '10vkkls': {'NTA': 42, 'INFO': 1, 'YWBTA': 0, 'YWNBTA': 0, 'ESH': 0, 'NAH': 0}, '10vi0gz': {'NTA': 21, 'INFO': 2, 'YWBTA': 0, 'YWNBTA': 0, 'ESH': 0, 'NAH': 0}, '10vrusr': {'NTA': 11, 'NAH': 3, 'ESH': 2, 'INFO': 1, 'YWBTA': 0, 'YWNBTA': 0}, '10vgu37': {'NTA': 47, 'INFO': 2, 'NAH': 1, 'ESH': 1, 'YWBTA': 0, 'YWNBTA': 0}, '10vq7xv': {'NTA': 3, 'ESH': 2, 'YWBTA': 0, 'YWNBTA': 0, 'NAH': 0, 'INFO': 0}, '10vol97': {'NTA': 22, 'INFO': 1, 'YWBTA': 0, 'YWNBTA': 0, 'ESH': 0, 'NAH': 0}, '10vgqbt': {'NTA': 29, 'YWNBTA': 6, 'NAH': 1, 'YWBTA': 0, 'ESH': 0, 'INFO': 0}, '10vna1k': {'NAH': 15, 'NTA': 10, 'INFO': 2, 'YWBTA': 0, 'YWNBTA': 0, 'ESH': 0}, '10vukzw': {'NTA': 32, 'YWBTA': 0, 'YWNBTA': 0, 'ESH': 0, 'NAH': 0, 'INFO': 0}, '10viuye': {'NTA': 21, 'INFO': 1, 'YWBTA': 0, 'YWNBTA': 0, 'ESH': 0, 'NAH': 0}, '10vtaj6': {'NTA': 24, 'ESH': 4, 'YWBTA': 0, 'YWNBTA': 0, 'NAH': 0, 'INFO': 0}, '10vjbfo': {'NTA': 42, 'ESH': 1, 'YWBTA': 0, 'YWNBTA': 0, 'NAH': 0, 'INFO': 0}, '10vv2u9': {'NTA': 8, 'NAH': 7, 'YWBTA': 0, 'YWNBTA': 0, 'ESH': 0, 'INFO': 0}, '10vr2cy': {'NTA': 18, 'YWNBTA': 1, 'YWBTA': 0, 'ESH': 0, 'NAH': 0, 'INFO': 0}, '10vw26j': {'NTA': 10, 'YWBTA': 0, 'YWNBTA': 0, 'ESH': 0, 'NAH': 0, 'INFO': 0}, '10vtyw9': {'NTA': 20, 'NAH': 1, 'YWBTA': 0, 'YWNBTA': 0, 'ESH': 0, 'INFO': 0}, '10vn6e0': {'NTA': 15, 'YWBTA': 0, 'YWNBTA': 0, 'ESH': 0, 'NAH': 0, 'INFO': 0}, '10vvpah': {'NTA': 9, 'YWBTA': 0, 'YWNBTA': 0, 'ESH': 0, 'NAH': 0, 'INFO': 0}, '10vlxxg': {'NTA': 27, 'NAH': 2, 'YWBTA': 0, 'YWNBTA': 0, 'ESH': 0, 'INFO': 0}, '10vu46w': {'NTA': 9, 'ESH': 1, 'INFO': 1, 'YWBTA': 0, 'YWNBTA': 0, 'NAH': 0}, '10vrydw': {'NTA': 18, 'YWBTA': 0, 'YWNBTA': 0, 'ESH': 0, 'NAH': 0, 'INFO': 0}, '10vs868': {'NTA': 10, 'NAH': 2, 'YWBTA': 0, 'YWNBTA': 0, 'ESH': 0, 'INFO': 0}, '10vt9qr': {'NTA': 9, 'ESH': 1, 'YWBTA': 0, 'YWNBTA': 0, 'NAH': 0, 'INFO': 0}, '10vnvti': {'NTA': 9, 'YWBTA': 0, 'YWNBTA': 0, 'ESH': 0, 'NAH': 0, 'INFO': 0}, '10vwl2w': {'NAH': 2, 'NTA': 1, 'YWBTA': 1, 'YWNBTA': 0, 'ESH': 0, 'INFO': 0}, '10vtokf': {'NTA': 11, 'YWNBTA': 2, 'YWBTA': 0, 'ESH': 0, 'NAH': 0, 'INFO': 0}, '10vn0to': {'NTA': 20, 'NAH': 2, 'INFO': 1, 'YWBTA': 0, 'YWNBTA': 0, 'ESH': 0}, '10vr6ji': {'NTA': 9, 'ESH': 1, 'YWBTA': 0, 'YWNBTA': 0, 'NAH': 0, 'INFO': 0}, '10vu2q1': {'NAH': 4, 'NTA': 3, 'YWBTA': 0, 'YWNBTA': 0, 'ESH': 0, 'INFO': 0}, '10vq2a7': {'NTA': 3, 'YWBTA': 0, 'YWNBTA': 0, 'ESH': 0, 'NAH': 0, 'INFO': 0}, '10vmovh': {'NTA': 45, 'YWBTA': 0, 'YWNBTA': 0, 'ESH': 0, 'NAH': 0, 'INFO': 0}, '10vve5z': {'NTA': 7, 'NAH': 5, 'YWBTA': 0, 'YWNBTA': 0, 'ESH': 0, 'INFO': 0}, '10vrtk7': {'NTA': 13, 'ESH': 2, 'YWBTA': 0, 'YWNBTA': 0, 'NAH': 0, 'INFO': 0}, '10vkvk6': {'NTA': 18, 'YWBTA': 0, 'YWNBTA': 0, 'ESH': 0, 'NAH': 0, 'INFO': 0}, '10vu28i': {'NTA': 9, 'ESH': 1, 'YWBTA': 0, 'YWNBTA': 0, 'NAH': 0, 'INFO': 0}, '10vn2zg': {'NTA': 5, 'ESH': 1, 'INFO': 1, 'YWBTA': 0, 'YWNBTA': 0, 'NAH': 0}, '10vszxx': {'NTA': 19, 'YWBTA': 0, 'YWNBTA': 0, 'ESH': 0, 'NAH': 0, 'INFO': 0}, '10vfrnh': {'NTA': 39, 'NAH': 1, 'YWBTA': 0, 'YWNBTA': 0, 'ESH': 0, 'INFO': 0}, '10vuzbp': {'NTA': 8, 'YWBTA': 0, 'YWNBTA': 0, 'ESH': 0, 'NAH': 0, 'INFO': 0}, '10vtyj7': {'NTA': 10, 'ESH': 1, 'YWBTA': 0, 'YWNBTA': 0, 'NAH': 0, 'INFO': 0}, '10vpdxq': {'NTA': 8, 'YWBTA': 0, 'YWNBTA': 0, 'ESH': 0, 'NAH': 0, 'INFO': 0}, '10vlpr4': {'NTA': 7, 'INFO': 5, 'YWBTA': 0, 'YWNBTA': 0, 'ESH': 0, 'NAH': 0}, '10vwnsu': {'NTA': 9, 'INFO': 1, 'YWBTA': 0, 'YWNBTA': 0, 'ESH': 0, 'NAH': 0}, '10vrp05': {'NTA': 6, 'NAH': 1, 'YWBTA': 0, 'YWNBTA': 0, 'ESH': 0, 'INFO': 0}, '10vplz3': {'NTA': 1, 'ESH': 1, 'YWBTA': 0, 'YWNBTA': 0, 'NAH': 0, 'INFO': 0}, '10vg5ui': {'NTA': 4, 'NAH': 2, 'ESH': 1, 'YWBTA': 0, 'YWNBTA': 0, 'INFO': 0}, '10vlu7s': {'NTA': 25, 'YWBTA': 0, 'YWNBTA': 0, 'ESH': 0, 'NAH': 0, 'INFO': 0}, '10vwady': {'ESH': 1, 'NTA': 0, 'YWBTA': 0, 'YWNBTA': 0, 'NAH': 0, 'INFO': 0}, '10vlc4t': {'NTA': 41, 'INFO': 3, 'YWBTA': 0, 'YWNBTA': 0, 'ESH': 0, 'NAH': 0}, '10vogxj': {'NTA': 2, 'INFO': 2, 'ESH': 1, 'YWBTA': 0, 'YWNBTA': 0, 'NAH': 0}, '10vrz5k': {'NTA': 9, 'ESH': 1, 'INFO': 1, 'YWBTA': 0, 'YWNBTA': 0, 'NAH': 0}, '10viihj': {'NTA': 19, 'YWBTA': 0, 'YWNBTA': 0, 'ESH': 0, 'NAH': 0, 'INFO': 0}, '10vh14l': {'NTA': 23, 'YWBTA': 0, 'YWNBTA': 0, 'ESH': 0, 'NAH': 0, 'INFO': 0}, '10vjkyb': {'NTA': 25, 'NAH': 8, 'YWBTA': 0, 'YWNBTA': 0, 'ESH': 0, 'INFO': 0}, '10vkbi4': {'NTA': 25, 'YWBTA': 0, 'YWNBTA': 0, 'ESH': 0, 'NAH': 0, 'INFO': 0}, '10vt7md': {'NTA': 3, 'YWBTA': 0, 'YWNBTA': 0, 'ESH': 0, 'NAH': 0, 'INFO': 0}, '10vg9rp': {'NTA': 14, 'INFO': 1, 'YWBTA': 0, 'YWNBTA': 0, 'ESH': 0, 'NAH': 0}, '10vne8x': {'ESH': 4, 'NTA': 1, 'YWBTA': 0, 'YWNBTA': 0, 'NAH': 0, 'INFO': 0}, '10vvemh': {'NTA': 6, 'ESH': 3, 'YWBTA': 1, 'YWNBTA': 0, 'NAH': 0, 'INFO': 0}, '10vnb9k': {'NTA': 12, 'ESH': 4, 'NAH': 2, 'INFO': 1, 'YWBTA': 0, 'YWNBTA': 0}, '10vjs3d': {'NTA': 13, 'NAH': 1, 'YWBTA': 0, 'YWNBTA': 0, 'ESH': 0, 'INFO': 0}, '10vwphc': {'NTA': 2, 'NAH': 1, 'YWBTA': 0, 'YWNBTA': 0, 'ESH': 0, 'INFO': 0}, '10vqnes': {'NTA': 2, 'YWBTA': 0, 'YWNBTA': 0, 'ESH': 0, 'NAH': 0, 'INFO': 0}, '10vsm0z': {'NTA': 2, 'YWBTA': 0, 'YWNBTA': 0, 'ESH': 0, 'NAH': 0, 'INFO': 0}, '10vwn59': {'NTA': 7, 'YWBTA': 0, 'YWNBTA': 0, 'ESH': 0, 'NAH': 0, 'INFO': 0}, '10vwlu4': {'NTA': 4, 'YWBTA': 0, 'YWNBTA': 0, 'ESH': 0, 'NAH': 0, 'INFO': 0}, '10vv127': {'ESH': 1, 'NTA': 1, 'YWBTA': 0, 'YWNBTA': 0, 'NAH': 0, 'INFO': 0}, '10vgvr8': {'NTA': 29, 'YWNBTA': 1, 'NAH': 1, 'ESH': 1, 'YWBTA': 0, 'INFO': 0}, '10vrbjo': {'NAH': 1, 'NTA': 0, 'YWBTA': 0, 'YWNBTA': 0, 'ESH': 0, 'INFO': 0}, '10vmpmc': {'NTA': 20, 'ESH': 1, 'INFO': 1, 'YWBTA': 0, 'YWNBTA': 0, 'NAH': 0}, '10vw9y5': {'NTA': 5, 'YWBTA': 0, 'YWNBTA': 0, 'ESH': 0, 'NAH': 0, 'INFO': 0}, '10vjjxx': {'NTA': 4, 'YWBTA': 2, 'NAH': 1, 'YWNBTA': 0, 'ESH': 0, 'INFO': 0}, '10vqp6u': {'NTA': 4, 'YWBTA': 0, 'YWNBTA': 0, 'ESH': 0, 'NAH': 0, 'INFO': 0}, '10vvzsv': {'NTA': 2, 'YWBTA': 0, 'YWNBTA': 0, 'ESH': 0, 'NAH': 0, 'INFO': 0}, '10vl8f7': {'NTA': 5, 'INFO': 1, 'YWBTA': 0, 'YWNBTA': 0, 'ESH': 0, 'NAH': 0}, '10vtsnx': {'NTA': 3, 'YWBTA': 0, 'YWNBTA': 0, 'ESH': 0, 'NAH': 0, 'INFO': 0}, '10vr00t': {'NTA': 6, 'NAH': 1, 'YWBTA': 0, 'YWNBTA': 0, 'ESH': 0, 'INFO': 0}, '10vlm2c': {'NAH': 4, 'NTA': 3, 'INFO': 2, 'YWBTA': 0, 'YWNBTA': 0, 'ESH': 0}, '10vuy1c': {'NTA': 1, 'INFO': 1, 'YWBTA': 0, 'YWNBTA': 0, 'ESH': 0, 'NAH': 0}, '10vqbsb': {'NTA': 5, 'YWBTA': 0, 'YWNBTA': 0, 'ESH': 0, 'NAH': 0, 'INFO': 0}, '10vmcns': {'NTA': 23, 'NAH': 2, 'ESH': 2, 'YWBTA': 0, 'YWNBTA': 0, 'INFO': 0}, '10vusar': {'NTA': 5, 'YWBTA': 0, 'YWNBTA': 0, 'ESH': 0, 'NAH': 0, 'INFO': 0}, '10vwul2': {'NTA': 0, 'YWBTA': 0, 'YWNBTA': 0, 'ESH': 0, 'NAH': 0, 'INFO': 0}, '10vsqd5': {'NTA': 9, 'YWBTA': 1, 'YWNBTA': 0, 'ESH': 0, 'NAH': 0, 'INFO': 0}, '10vsq61': {'NTA': 4, 'NAH': 2, 'YWBTA': 0, 'YWNBTA': 0, 'ESH': 0, 'INFO': 0}, '10vnkuo': {'NTA': 8, 'NAH': 1, 'YWBTA': 0, 'YWNBTA': 0, 'ESH': 0, 'INFO': 0}, '10vke79': {'NTA': 4, 'NAH': 3, 'YWBTA': 0, 'YWNBTA': 0, 'ESH': 0, 'INFO': 0}, '10vogwi': {'NTA': 6, 'ESH': 2, 'INFO': 1, 'YWBTA': 0, 'YWNBTA': 0, 'NAH': 0}, '10vsij1': {'NTA': 8, 'YWBTA': 0, 'YWNBTA': 0, 'ESH': 0, 'NAH': 0, 'INFO': 0}, '10vubb9': {'NTA': 12, 'NAH': 2, 'YWBTA': 0, 'YWNBTA': 0, 'ESH': 0, 'INFO': 0}, '10vk7kt': {'NTA': 6, 'NAH': 3, 'YWBTA': 0, 'YWNBTA': 0, 'ESH': 0, 'INFO': 0}, '10vwhr6': {'NTA': 1, 'YWBTA': 0, 'YWNBTA': 0, 'ESH': 0, 'NAH': 0, 'INFO': 0}, '10vgrho': {'NTA': 25, 'YWBTA': 0, 'YWNBTA': 0, 'ESH': 0, 'NAH': 0, 'INFO': 0}, '10vwgni': {'INFO': 1, 'NTA': 0, 'YWBTA': 0, 'YWNBTA': 0, 'ESH': 0, 'NAH': 0}, '10vn393': {'ESH': 3, 'NTA': 3, 'YWBTA': 0, 'YWNBTA': 0, 'NAH': 0, 'INFO': 0}, '10vicon': {'NTA': 18, 'NAH': 1, 'YWBTA': 0, 'YWNBTA': 0, 'ESH': 0, 'INFO': 0}, '10vqcjz': {'NTA': 3, 'YWBTA': 0, 'YWNBTA': 0, 'ESH': 0, 'NAH': 0, 'INFO': 0}, '10vw42f': {'NTA': 0, 'YWBTA': 0, 'YWNBTA': 0, 'ESH': 0, 'NAH': 0, 'INFO': 0}, '10vjhkc': {'NTA': 9, 'YWBTA': 0, 'YWNBTA': 0, 'ESH': 0, 'NAH': 0, 'INFO': 0}, '10vi4mn': {'NTA': 4, 'YWNBTA': 2, 'INFO': 2, 'YWBTA': 0, 'ESH': 0, 'NAH': 0}, '10vjc7b': {'NTA': 10, 'YWBTA': 0, 'YWNBTA': 0, 'ESH': 0, 'NAH': 0, 'INFO': 0}, '10vq2lc': {'YWNBTA': 2, 'NAH': 1, 'YWBTA': 1, 'NTA': 0, 'ESH': 0, 'INFO': 0}, '10vvwoe': {'ESH': 1, 'NTA': 0, 'YWBTA': 0, 'YWNBTA': 0, 'NAH': 0, 'INFO': 0}, '10vtex2': {'NTA': 3, 'YWBTA': 0, 'YWNBTA': 0, 'ESH': 0, 'NAH': 0, 'INFO': 0}, '10vjp1u': {'NTA': 10, 'INFO': 1, 'YWBTA': 0, 'YWNBTA': 0, 'ESH': 0, 'NAH': 0}, '10vt5xs': {'NTA': 3, 'YWBTA': 0, 'YWNBTA': 0, 'ESH': 0, 'NAH': 0, 'INFO': 0}, '10vt5q4': {'NTA': 6, 'YWBTA': 0, 'YWNBTA': 0, 'ESH': 0, 'NAH': 0, 'INFO': 0}, '10vr4wg': {'NTA': 4, 'YWBTA': 0, 'YWNBTA': 0, 'ESH': 0, 'NAH': 0, 'INFO': 0}, '10vsxbd': {'YWBTA': 2, 'NTA': 1, 'YWNBTA': 0, 'ESH': 0, 'NAH': 0, 'INFO': 0}, '10vvcqs': {'NTA': 2, 'YWBTA': 0, 'YWNBTA': 0, 'ESH': 0, 'NAH': 0, 'INFO': 0}, '10vsvgx': {'ESH': 1, 'NTA': 0, 'YWBTA': 0, 'YWNBTA': 0, 'NAH': 0, 'INFO': 0}, '10vv49v': {'NTA': 8, 'NAH': 2, 'ESH': 1, 'YWBTA': 0, 'YWNBTA': 0, 'INFO': 0}, '10vv1qb': {'NTA': 11, 'ESH': 3, 'INFO': 1, 'YWBTA': 0, 'YWNBTA': 0, 'NAH': 0}, '10vusmq': {'NTA': 7, 'YWBTA': 0, 'YWNBTA': 0, 'ESH': 0, 'NAH': 0, 'INFO': 0}, '10vq4hf': {'NTA': 1, 'YWBTA': 0, 'YWNBTA': 0, 'ESH': 0, 'NAH': 0, 'INFO': 0}, '10vlwem': {'NTA': 5, 'YWBTA': 0, 'YWNBTA': 0, 'ESH': 0, 'NAH': 0, 'INFO': 0}, '10vocle': {'NTA': 4, 'ESH': 1, 'YWBTA': 0, 'YWNBTA': 0, 'NAH': 0, 'INFO': 0}, '10vo91z': {'NAH': 4, 'NTA': 2, 'INFO': 1, 'YWBTA': 0, 'YWNBTA': 0, 'ESH': 0}, '10vkms5': {'NTA': 7, 'NAH': 3, 'ESH': 2, 'INFO': 1, 'YWBTA': 0, 'YWNBTA': 0}, '10vukiz': {'ESH': 1, 'NTA': 0, 'YWBTA': 0, 'YWNBTA': 0, 'NAH': 0, 'INFO': 0}, '10vuj55': {'NTA': 4, 'YWBTA': 0, 'YWNBTA': 0, 'ESH': 0, 'NAH': 0, 'INFO': 0}, '10vpjj5': {'NTA': 3, 'YWBTA': 0, 'YWNBTA': 0, 'ESH': 0, 'NAH': 0, 'INFO': 0}, '10vpay4': {'NTA': 2, 'ESH': 1, 'YWBTA': 0, 'YWNBTA': 0, 'NAH': 0, 'INFO': 0}, '10vrbpl': {'NTA': 6, 'NAH': 1, 'YWBTA': 0, 'YWNBTA': 0, 'ESH': 0, 'INFO': 0}, '10vtuxj': {'NTA': 3, 'ESH': 1, 'YWBTA': 0, 'YWNBTA': 0, 'NAH': 0, 'INFO': 0}, '10vts7k': {'NTA': 1, 'YWBTA': 0, 'YWNBTA': 0, 'ESH': 0, 'NAH': 0, 'INFO': 0}, '10vl70y': {'NTA': 2, 'ESH': 1, 'YWBTA': 0, 'YWNBTA': 0, 'NAH': 0, 'INFO': 0}, '10vt4gr': {'NTA': 5, 'YWBTA': 0, 'YWNBTA': 0, 'ESH': 0, 'NAH': 0, 'INFO': 0}, '10vx06d': {'NTA': 0, 'YWBTA': 0, 'YWNBTA': 0, 'ESH': 0, 'NAH': 0, 'INFO': 0}, '10vwzsc': {'NTA': 0, 'YWBTA': 0, 'YWNBTA': 0, 'ESH': 0, 'NAH': 0, 'INFO': 0}, '10vwz6s': {'NTA': 0, 'YWBTA': 0, 'YWNBTA': 0, 'ESH': 0, 'NAH': 0, 'INFO': 0}, '10vq69p': {'NTA': 3, 'ESH': 1, 'YWBTA': 0, 'YWNBTA': 0, 'NAH': 0, 'INFO': 0}, '10vwy1h': {'NTA': 0, 'YWBTA': 0, 'YWNBTA': 0, 'ESH': 0, 'NAH': 0, 'INFO': 0}, '10vww04': {'NTA': 0, 'YWBTA': 0, 'YWNBTA': 0, 'ESH': 0, 'NAH': 0, 'INFO': 0}, '10vickk': {'NTA': 2, 'INFO': 1, 'YWBTA': 0, 'YWNBTA': 0, 'ESH': 0, 'NAH': 0}, '10vwqa4': {'NTA': 0, 'YWBTA': 0, 'YWNBTA': 0, 'ESH': 0, 'NAH': 0, 'INFO': 0}, '10vpp2g': {'NTA': 9, 'YWBTA': 0, 'YWNBTA': 0, 'ESH': 0, 'NAH': 0, 'INFO': 0}, '10vk6yl': {'ESH': 2, 'NTA': 1, 'YWBTA': 0, 'YWNBTA': 0, 'NAH': 0, 'INFO': 0}, '10vwgje': {'NTA': 0, 'YWBTA': 0, 'YWNBTA': 0, 'ESH': 0, 'NAH': 0, 'INFO': 0}, '10vs1q1': {'NTA': 8, 'YWBTA': 0, 'YWNBTA': 0, 'ESH': 0, 'NAH': 0, 'INFO': 0}, '10vih5y': {'NTA': 7, 'YWBTA': 0, 'YWNBTA': 0, 'ESH': 0, 'NAH': 0, 'INFO': 0}, '10vjdlm': {'YWBTA': 7, 'NTA': 2, 'INFO': 1, 'YWNBTA': 1, 'ESH': 0, 'NAH': 0}, '10vj5b2': {'NTA': 4, 'ESH': 1, 'YWBTA': 0, 'YWNBTA': 0, 'NAH': 0, 'INFO': 0}, '10vofus': {'NTA': 11, 'YWBTA': 0, 'YWNBTA': 0, 'ESH': 0, 'NAH': 0, 'INFO': 0}, '10vizqo': {'NTA': 21, 'YWBTA': 0, 'YWNBTA': 0, 'ESH': 0, 'NAH': 0, 'INFO': 0}, '10vkcct': {'NTA': 3, 'INFO': 1, 'YWBTA': 0, 'YWNBTA': 0, 'ESH': 0, 'NAH': 0}, '10vvljj': {'ESH': 1, 'NTA': 1, 'YWBTA': 0, 'YWNBTA': 0, 'NAH': 0, 'INFO': 0}, '10vlp4j': {'NTA': 2, 'YWBTA': 1, 'INFO': 1, 'YWNBTA': 1, 'ESH': 0, 'NAH': 0}, '10vi6q4': {'INFO': 2, 'NTA': 2, 'YWBTA': 0, 'YWNBTA': 0, 'ESH': 0, 'NAH': 0}, '10vi6bs': {'NTA': 10, 'NAH': 3, 'YWNBTA': 1, 'INFO': 1, 'YWBTA': 0, 'ESH': 0}, '10vv6ct': {'YWNBTA': 1, 'NTA': 1, 'YWBTA': 1, 'ESH': 0, 'NAH': 0, 'INFO': 0}, '10vi4gf': {'NTA': 2, 'INFO': 1, 'YWBTA': 0, 'YWNBTA': 0, 'ESH': 0, 'NAH': 0}, '10vqkvl': {'INFO': 1, 'NTA': 0, 'YWBTA': 0, 'YWNBTA': 0, 'ESH': 0, 'NAH': 0}, '10vv1ed': {'NAH': 1, 'NTA': 0, 'YWBTA': 0, 'YWNBTA': 0, 'ESH': 0, 'INFO': 0}, '10vhqwt': {'NTA': 7, 'ESH': 2, 'YWBTA': 0, 'YWNBTA': 0, 'NAH': 0, 'INFO': 0}, '10vj4mx': {'YWBTA': 5, 'INFO': 1, 'NAH': 1, 'NTA': 0, 'YWNBTA': 0, 'ESH': 0}, '10vuery': {'NTA': 6, 'YWBTA': 0, 'YWNBTA': 0, 'ESH': 0, 'NAH': 0, 'INFO': 0}, '10vi4me': {'NTA': 7, 'YWBTA': 0, 'YWNBTA': 0, 'ESH': 0, 'NAH': 0, 'INFO': 0}, '10vjhxs': {'ESH': 1, 'INFO': 1, 'NTA': 0, 'YWBTA': 0, 'YWNBTA': 0, 'NAH': 0}, '10vtm45': {'NTA': 2, 'YWBTA': 0, 'YWNBTA': 0, 'ESH': 0, 'NAH': 0, 'INFO': 0}, '10vtcmw': {'NTA': 5, 'YWBTA': 0, 'YWNBTA': 0, 'ESH': 0, 'NAH': 0, 'INFO': 0}, '10vgpec': {'INFO': 1, 'NTA': 1, 'ESH': 1, 'YWBTA': 0, 'YWNBTA': 0, 'NAH': 0}, '10vo10r': {'NTA': 4, 'NAH': 2, 'YWBTA': 0, 'YWNBTA': 0, 'ESH': 0, 'INFO': 0}, '10vkwzv': {'NTA': 4, 'INFO': 2, 'NAH': 2, 'YWBTA': 0, 'YWNBTA': 0, 'ESH': 0}, '10vsxu8': {'NTA': 1, 'YWBTA': 0, 'YWNBTA': 0, 'ESH': 0, 'NAH': 0, 'INFO': 0}, '10vsduc': {'NTA': 4, 'YWBTA': 0, 'YWNBTA': 0, 'ESH': 0, 'NAH': 0, 'INFO': 0}, '10vs4xq': {'NTA': 1, 'YWBTA': 0, 'YWNBTA': 0, 'ESH': 0, 'NAH': 0, 'INFO': 0}, '10vmomh': {'NTA': 7, 'NAH': 2, 'YWBTA': 0, 'YWNBTA': 0, 'ESH': 0, 'INFO': 0}, '10vgrnl': {'YWBTA': 3, 'ESH': 1, 'NTA': 0, 'YWNBTA': 0, 'NAH': 0, 'INFO': 0}, '10vfxql': {'NTA': 4, 'INFO': 1, 'YWBTA': 0, 'YWNBTA': 0, 'ESH': 0, 'NAH': 0}, '10vfx6e': {'NTA': 2, 'ESH': 1, 'YWBTA': 0, 'YWNBTA': 0, 'NAH': 0, 'INFO': 0}, '10vkg9t': {'NTA': 3, 'YWNBTA': 1, 'YWBTA': 1, 'ESH': 0, 'NAH': 0, 'INFO': 0}, '10vh0cn': {'NTA': 23, 'YWBTA': 0, 'YWNBTA': 0, 'ESH': 0, 'NAH': 0, 'INFO': 0}, '10vjvu5': {'NTA': 0, 'YWBTA': 0, 'YWNBTA': 0, 'ESH': 0, 'NAH': 0, 'INFO': 0}, '10vjhhe': {'NTA': 7, 'NAH': 1, 'YWBTA': 0, 'YWNBTA': 0, 'ESH': 0, 'INFO': 0}, '10vn7hb': {'NTA': 7, 'NAH': 3, 'INFO': 1, 'ESH': 1, 'YWBTA': 0, 'YWNBTA': 0}, '10vptdp': {'NTA': 2, 'NAH': 1, 'YWBTA': 0, 'YWNBTA': 0, 'ESH': 0, 'INFO': 0}, '10vj4o5': {'ESH': 1, 'NTA': 1, 'YWBTA': 0, 'YWNBTA': 0, 'NAH': 0, 'INFO': 0}, '10vgvjb': {'NTA': 0, 'YWBTA': 0, 'YWNBTA': 0, 'ESH': 0, 'NAH': 0, 'INFO': 0}}\n"
     ]
    }
   ],
   "source": [
    "print(result)"
   ]
  }
 ],
 "metadata": {
  "kernelspec": {
   "display_name": "Python 3 (ipykernel)",
   "language": "python",
   "name": "python3"
  },
  "language_info": {
   "codemirror_mode": {
    "name": "ipython",
    "version": 3
   },
   "file_extension": ".py",
   "mimetype": "text/x-python",
   "name": "python",
   "nbconvert_exporter": "python",
   "pygments_lexer": "ipython3",
   "version": "3.9.7"
  }
 },
 "nbformat": 4,
 "nbformat_minor": 5
}
