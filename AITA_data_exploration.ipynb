{
 "cells": [
  {
   "cell_type": "markdown",
   "id": "c8304921",
   "metadata": {},
   "source": [
    "# Data Exploration"
   ]
  },
  {
   "cell_type": "markdown",
   "id": "c7dd5883",
   "metadata": {},
   "source": [
    "This notebook is the next step after scrapping posts and comments from the subreddit r/AITA https://github.com/Nico404/scrap_reddit"
   ]
  },
  {
   "cell_type": "markdown",
   "id": "336b87a9",
   "metadata": {},
   "source": [
    "### 1. Imports & reading data"
   ]
  },
  {
   "cell_type": "code",
   "execution_count": 41,
   "id": "cf8d8b0f",
   "metadata": {},
   "outputs": [],
   "source": [
    "import pandas as pd\n",
    "import numpy as np\n",
    "import matplotlib as plt\n",
    "import seaborn as sns\n",
    "import pickle\n",
    "\n",
    "from src.count_occurrences import count_occurrences\n",
    "from src.count_first_keys import count_first_keys"
   ]
  },
  {
   "cell_type": "code",
   "execution_count": 3,
   "id": "cd35559e",
   "metadata": {},
   "outputs": [],
   "source": [
    "posts = pd.read_csv(\"data/posts_v4.csv\",\n",
    "        names=[\"post_id\", \"num_comments\", \"post_content\", \"post_title\", \"post_url\"])"
   ]
  },
  {
   "cell_type": "code",
   "execution_count": 4,
   "id": "ea873962",
   "metadata": {},
   "outputs": [],
   "source": [
    "comments = pd.read_csv(\"data/comments_v4.csv\",\n",
    "           names=[\"comment_id\", \"post_id\", \"comment_score\", \"comment_content\", \"comment_permalink\"])"
   ]
  },
  {
   "cell_type": "markdown",
   "id": "ce349d28",
   "metadata": {},
   "source": [
    "### 2. First glimps"
   ]
  },
  {
   "cell_type": "code",
   "execution_count": 5,
   "id": "402d19a3",
   "metadata": {},
   "outputs": [
    {
     "data": {
      "text/html": [
       "<div>\n",
       "<style scoped>\n",
       "    .dataframe tbody tr th:only-of-type {\n",
       "        vertical-align: middle;\n",
       "    }\n",
       "\n",
       "    .dataframe tbody tr th {\n",
       "        vertical-align: top;\n",
       "    }\n",
       "\n",
       "    .dataframe thead th {\n",
       "        text-align: right;\n",
       "    }\n",
       "</style>\n",
       "<table border=\"1\" class=\"dataframe\">\n",
       "  <thead>\n",
       "    <tr style=\"text-align: right;\">\n",
       "      <th></th>\n",
       "      <th>post_id</th>\n",
       "      <th>num_comments</th>\n",
       "      <th>post_content</th>\n",
       "      <th>post_title</th>\n",
       "      <th>post_url</th>\n",
       "    </tr>\n",
       "  </thead>\n",
       "  <tbody>\n",
       "    <tr>\n",
       "      <th>0</th>\n",
       "      <td>10uxee0</td>\n",
       "      <td>1181</td>\n",
       "      <td>I know this post sounds super petty, but this ...</td>\n",
       "      <td>AITA for telling my boyfriend I'll shave my le...</td>\n",
       "      <td>https://www.reddit.com/r/AmItheAsshole/comment...</td>\n",
       "    </tr>\n",
       "    <tr>\n",
       "      <th>1</th>\n",
       "      <td>10ur722</td>\n",
       "      <td>1849</td>\n",
       "      <td>My daughter Bryn F9 is going on a trip to a ne...</td>\n",
       "      <td>AITA for pulling my daughter from a waterpark ...</td>\n",
       "      <td>https://www.reddit.com/r/AmItheAsshole/comment...</td>\n",
       "    </tr>\n",
       "    <tr>\n",
       "      <th>2</th>\n",
       "      <td>10upxdd</td>\n",
       "      <td>1180</td>\n",
       "      <td>Alright so my son (17) has weekly therapy appo...</td>\n",
       "      <td>AITA for not letting an elderly woman have my ...</td>\n",
       "      <td>https://www.reddit.com/r/AmItheAsshole/comment...</td>\n",
       "    </tr>\n",
       "    <tr>\n",
       "      <th>3</th>\n",
       "      <td>10v2vra</td>\n",
       "      <td>131</td>\n",
       "      <td>We live three blocks away from my parents and ...</td>\n",
       "      <td>AITA for taking my kids to my parents house to...</td>\n",
       "      <td>https://www.reddit.com/r/AmItheAsshole/comment...</td>\n",
       "    </tr>\n",
       "    <tr>\n",
       "      <th>4</th>\n",
       "      <td>10ung90</td>\n",
       "      <td>1513</td>\n",
       "      <td>My daughter (16) and I have gotten into a mass...</td>\n",
       "      <td>AITA for calling my daughter a selfish insecur...</td>\n",
       "      <td>https://www.reddit.com/r/AmItheAsshole/comment...</td>\n",
       "    </tr>\n",
       "  </tbody>\n",
       "</table>\n",
       "</div>"
      ],
      "text/plain": [
       "   post_id  num_comments                                       post_content  \\\n",
       "0  10uxee0          1181  I know this post sounds super petty, but this ...   \n",
       "1  10ur722          1849  My daughter Bryn F9 is going on a trip to a ne...   \n",
       "2  10upxdd          1180  Alright so my son (17) has weekly therapy appo...   \n",
       "3  10v2vra           131  We live three blocks away from my parents and ...   \n",
       "4  10ung90          1513  My daughter (16) and I have gotten into a mass...   \n",
       "\n",
       "                                          post_title  \\\n",
       "0  AITA for telling my boyfriend I'll shave my le...   \n",
       "1  AITA for pulling my daughter from a waterpark ...   \n",
       "2  AITA for not letting an elderly woman have my ...   \n",
       "3  AITA for taking my kids to my parents house to...   \n",
       "4  AITA for calling my daughter a selfish insecur...   \n",
       "\n",
       "                                            post_url  \n",
       "0  https://www.reddit.com/r/AmItheAsshole/comment...  \n",
       "1  https://www.reddit.com/r/AmItheAsshole/comment...  \n",
       "2  https://www.reddit.com/r/AmItheAsshole/comment...  \n",
       "3  https://www.reddit.com/r/AmItheAsshole/comment...  \n",
       "4  https://www.reddit.com/r/AmItheAsshole/comment...  "
      ]
     },
     "execution_count": 5,
     "metadata": {},
     "output_type": "execute_result"
    }
   ],
   "source": [
    "posts.head()\n"
   ]
  },
  {
   "cell_type": "code",
   "execution_count": 6,
   "id": "3e3e7c0d",
   "metadata": {},
   "outputs": [
    {
     "data": {
      "text/html": [
       "<div>\n",
       "<style scoped>\n",
       "    .dataframe tbody tr th:only-of-type {\n",
       "        vertical-align: middle;\n",
       "    }\n",
       "\n",
       "    .dataframe tbody tr th {\n",
       "        vertical-align: top;\n",
       "    }\n",
       "\n",
       "    .dataframe thead th {\n",
       "        text-align: right;\n",
       "    }\n",
       "</style>\n",
       "<table border=\"1\" class=\"dataframe\">\n",
       "  <thead>\n",
       "    <tr style=\"text-align: right;\">\n",
       "      <th></th>\n",
       "      <th>comment_id</th>\n",
       "      <th>post_id</th>\n",
       "      <th>comment_score</th>\n",
       "      <th>comment_content</th>\n",
       "      <th>comment_permalink</th>\n",
       "    </tr>\n",
       "  </thead>\n",
       "  <tbody>\n",
       "    <tr>\n",
       "      <th>0</th>\n",
       "      <td>j7dy9fw</td>\n",
       "      <td>t3_10qxvu1</td>\n",
       "      <td>7</td>\n",
       "      <td>The post about the bratty daughter and the sea...</td>\n",
       "      <td>/r/AmItheAsshole/comments/10qxvu1/aita_monthly...</td>\n",
       "    </tr>\n",
       "    <tr>\n",
       "      <th>1</th>\n",
       "      <td>j7ctunm</td>\n",
       "      <td>t3_10qxvu1</td>\n",
       "      <td>7</td>\n",
       "      <td>My subconscious chose the wrong option for a r...</td>\n",
       "      <td>/r/AmItheAsshole/comments/10qxvu1/aita_monthly...</td>\n",
       "    </tr>\n",
       "    <tr>\n",
       "      <th>2</th>\n",
       "      <td>j7cs0v5</td>\n",
       "      <td>t3_10qxvu1</td>\n",
       "      <td>2</td>\n",
       "      <td>Unpopular opinion: I think contest mode is bad...</td>\n",
       "      <td>/r/AmItheAsshole/comments/10qxvu1/aita_monthly...</td>\n",
       "    </tr>\n",
       "    <tr>\n",
       "      <th>3</th>\n",
       "      <td>j7c39c8</td>\n",
       "      <td>t3_10qxvu1</td>\n",
       "      <td>0</td>\n",
       "      <td>can we talk about the ableism on this sub. exa...</td>\n",
       "      <td>/r/AmItheAsshole/comments/10qxvu1/aita_monthly...</td>\n",
       "    </tr>\n",
       "    <tr>\n",
       "      <th>4</th>\n",
       "      <td>j7b8sl3</td>\n",
       "      <td>t3_10qxvu1</td>\n",
       "      <td>25</td>\n",
       "      <td>I hate when commenters just make stuff up abou...</td>\n",
       "      <td>/r/AmItheAsshole/comments/10qxvu1/aita_monthly...</td>\n",
       "    </tr>\n",
       "  </tbody>\n",
       "</table>\n",
       "</div>"
      ],
      "text/plain": [
       "  comment_id     post_id  comment_score  \\\n",
       "0    j7dy9fw  t3_10qxvu1              7   \n",
       "1    j7ctunm  t3_10qxvu1              7   \n",
       "2    j7cs0v5  t3_10qxvu1              2   \n",
       "3    j7c39c8  t3_10qxvu1              0   \n",
       "4    j7b8sl3  t3_10qxvu1             25   \n",
       "\n",
       "                                     comment_content  \\\n",
       "0  The post about the bratty daughter and the sea...   \n",
       "1  My subconscious chose the wrong option for a r...   \n",
       "2  Unpopular opinion: I think contest mode is bad...   \n",
       "3  can we talk about the ableism on this sub. exa...   \n",
       "4  I hate when commenters just make stuff up abou...   \n",
       "\n",
       "                                   comment_permalink  \n",
       "0  /r/AmItheAsshole/comments/10qxvu1/aita_monthly...  \n",
       "1  /r/AmItheAsshole/comments/10qxvu1/aita_monthly...  \n",
       "2  /r/AmItheAsshole/comments/10qxvu1/aita_monthly...  \n",
       "3  /r/AmItheAsshole/comments/10qxvu1/aita_monthly...  \n",
       "4  /r/AmItheAsshole/comments/10qxvu1/aita_monthly...  "
      ]
     },
     "execution_count": 6,
     "metadata": {},
     "output_type": "execute_result"
    }
   ],
   "source": [
    "comments.head()"
   ]
  },
  {
   "cell_type": "code",
   "execution_count": 7,
   "id": "82152ee2",
   "metadata": {},
   "outputs": [
    {
     "name": "stdout",
     "output_type": "stream",
     "text": [
      "(rows,columns) in posts & comments dataframe: (3509, 5) (82191, 5)\n"
     ]
    }
   ],
   "source": [
    "print(\"(rows,columns) in posts & comments dataframe:\", posts.shape, comments.shape)"
   ]
  },
  {
   "cell_type": "code",
   "execution_count": 8,
   "id": "f375b5f5",
   "metadata": {},
   "outputs": [
    {
     "data": {
      "text/plain": [
       "(post_id         object\n",
       " num_comments     int64\n",
       " post_content    object\n",
       " post_title      object\n",
       " post_url        object\n",
       " dtype: object,\n",
       " comment_id           object\n",
       " post_id              object\n",
       " comment_score         int64\n",
       " comment_content      object\n",
       " comment_permalink    object\n",
       " dtype: object)"
      ]
     },
     "execution_count": 8,
     "metadata": {},
     "output_type": "execute_result"
    }
   ],
   "source": [
    "posts.dtypes, comments.dtypes\n"
   ]
  },
  {
   "cell_type": "code",
   "execution_count": 9,
   "id": "cb723176",
   "metadata": {},
   "outputs": [
    {
     "data": {
      "text/html": [
       "<div>\n",
       "<style scoped>\n",
       "    .dataframe tbody tr th:only-of-type {\n",
       "        vertical-align: middle;\n",
       "    }\n",
       "\n",
       "    .dataframe tbody tr th {\n",
       "        vertical-align: top;\n",
       "    }\n",
       "\n",
       "    .dataframe thead th {\n",
       "        text-align: right;\n",
       "    }\n",
       "</style>\n",
       "<table border=\"1\" class=\"dataframe\">\n",
       "  <thead>\n",
       "    <tr style=\"text-align: right;\">\n",
       "      <th></th>\n",
       "      <th>num_comments</th>\n",
       "    </tr>\n",
       "  </thead>\n",
       "  <tbody>\n",
       "    <tr>\n",
       "      <th>count</th>\n",
       "      <td>3509.000000</td>\n",
       "    </tr>\n",
       "    <tr>\n",
       "      <th>mean</th>\n",
       "      <td>90.765175</td>\n",
       "    </tr>\n",
       "    <tr>\n",
       "      <th>std</th>\n",
       "      <td>341.551970</td>\n",
       "    </tr>\n",
       "    <tr>\n",
       "      <th>min</th>\n",
       "      <td>1.000000</td>\n",
       "    </tr>\n",
       "    <tr>\n",
       "      <th>25%</th>\n",
       "      <td>13.000000</td>\n",
       "    </tr>\n",
       "    <tr>\n",
       "      <th>50%</th>\n",
       "      <td>23.000000</td>\n",
       "    </tr>\n",
       "    <tr>\n",
       "      <th>75%</th>\n",
       "      <td>45.000000</td>\n",
       "    </tr>\n",
       "    <tr>\n",
       "      <th>max</th>\n",
       "      <td>6918.000000</td>\n",
       "    </tr>\n",
       "  </tbody>\n",
       "</table>\n",
       "</div>"
      ],
      "text/plain": [
       "       num_comments\n",
       "count   3509.000000\n",
       "mean      90.765175\n",
       "std      341.551970\n",
       "min        1.000000\n",
       "25%       13.000000\n",
       "50%       23.000000\n",
       "75%       45.000000\n",
       "max     6918.000000"
      ]
     },
     "execution_count": 9,
     "metadata": {},
     "output_type": "execute_result"
    }
   ],
   "source": [
    "posts.describe()"
   ]
  },
  {
   "cell_type": "code",
   "execution_count": 10,
   "id": "e44e8d95",
   "metadata": {},
   "outputs": [
    {
     "data": {
      "text/html": [
       "<div>\n",
       "<style scoped>\n",
       "    .dataframe tbody tr th:only-of-type {\n",
       "        vertical-align: middle;\n",
       "    }\n",
       "\n",
       "    .dataframe tbody tr th {\n",
       "        vertical-align: top;\n",
       "    }\n",
       "\n",
       "    .dataframe thead th {\n",
       "        text-align: right;\n",
       "    }\n",
       "</style>\n",
       "<table border=\"1\" class=\"dataframe\">\n",
       "  <thead>\n",
       "    <tr style=\"text-align: right;\">\n",
       "      <th></th>\n",
       "      <th>comment_score</th>\n",
       "    </tr>\n",
       "  </thead>\n",
       "  <tbody>\n",
       "    <tr>\n",
       "      <th>count</th>\n",
       "      <td>82191.000000</td>\n",
       "    </tr>\n",
       "    <tr>\n",
       "      <th>mean</th>\n",
       "      <td>49.196956</td>\n",
       "    </tr>\n",
       "    <tr>\n",
       "      <th>std</th>\n",
       "      <td>633.763783</td>\n",
       "    </tr>\n",
       "    <tr>\n",
       "      <th>min</th>\n",
       "      <td>-81.000000</td>\n",
       "    </tr>\n",
       "    <tr>\n",
       "      <th>25%</th>\n",
       "      <td>1.000000</td>\n",
       "    </tr>\n",
       "    <tr>\n",
       "      <th>50%</th>\n",
       "      <td>2.000000</td>\n",
       "    </tr>\n",
       "    <tr>\n",
       "      <th>75%</th>\n",
       "      <td>6.000000</td>\n",
       "    </tr>\n",
       "    <tr>\n",
       "      <th>max</th>\n",
       "      <td>46045.000000</td>\n",
       "    </tr>\n",
       "  </tbody>\n",
       "</table>\n",
       "</div>"
      ],
      "text/plain": [
       "       comment_score\n",
       "count   82191.000000\n",
       "mean       49.196956\n",
       "std       633.763783\n",
       "min       -81.000000\n",
       "25%         1.000000\n",
       "50%         2.000000\n",
       "75%         6.000000\n",
       "max     46045.000000"
      ]
     },
     "execution_count": 10,
     "metadata": {},
     "output_type": "execute_result"
    }
   ],
   "source": [
    " comments.describe()"
   ]
  },
  {
   "cell_type": "markdown",
   "id": "53cd97af",
   "metadata": {},
   "source": [
    "### 3. Data cleaning"
   ]
  },
  {
   "cell_type": "code",
   "execution_count": 11,
   "id": "cd40003d",
   "metadata": {},
   "outputs": [
    {
     "data": {
      "text/plain": [
       "2663    So it all begins with my father, I always get my brother when my father asks to pick him up unless I have plans or something then he has to, I don't really remember how the conversation started but we were talking about gas prices and how insane they are, well he decided to add \"by the way if taking your brother around to work starts getting to expensive just start asking him for gas money\"I was kinda taken aback from this statement and kinda laughed it off at first, but he wasn't laughing. So I said \"are you crazy? if anything I should be asking you for gas money since your the one who always asks me to pick him up\" I was a bit harsh in my tone but the statement still rings trueWe then proceeded to argue who owes who money, to which he said he needs to learn the value of money, which I find bogus cause he never charged me money when I needed a ride to work.My step mother is siding with my father saying that even if I was right it did not mean I had a right to be rude and tell him hes crazy. while my girlfriend and her family agrees that they're being a little to harsh. Am I missing something? Like I feel like he's being a bit of a AH to my brother, but I guess calling him crazy didn't help either. So reddit aita?EditMy brother is 17, and I am 20The distance to his work is about a mile as well\n",
       "Name: post_content, dtype: object"
      ]
     },
     "execution_count": 11,
     "metadata": {},
     "output_type": "execute_result"
    }
   ],
   "source": [
    "pd.set_option(\"display.max_colwidth\", 10000)  # limit size of column display\n",
    "posts[\"post_content\"].sample(1)\n",
    "# pretty clean besides sparse \\r, &amp;#x200B;,  &amp; which shouldn't be a problem overall"
   ]
  },
  {
   "cell_type": "code",
   "execution_count": 12,
   "id": "86be07f0",
   "metadata": {},
   "outputs": [
    {
     "data": {
      "text/plain": [
       "45561                                                                                                                                                                                                                                                                                                                                                                                                                                                                                                                                                                                                                                                                                                                                                                                                                                                                                                                                                                                                                                                                                                                                                                                                                                                                                                                                                                                                                                                                                                                                                                                                                                                                                                                                                                                                                                                                                                                                                                                                                                                                                                                                                                                                                                                                                                                                                                                                                                                                                                                                                                                                                                                                                                                                                                                                                                                                                                                                                                                                                                                                                                                                                                                           INFO: how old is your niece?\n",
       "80621                                                                                                                                                                                                                                                                                                                                                                                                                                                                                                                                                                                                                                                                                                                                                                                                                                                                                                                                                                                                                                                                                                                                                                                                                                                                                                                                                                                                                                                                                                                                                                                                                                                                                                                                                                                                                                                                                                                                                                                                                                                                                                                                                                                                                                                                                                                                                                                                                                                                                                                                                                                                                                                                                                                                                                                                                                                                                                                                                                                                                                                                                                                                             NTA Dan *can't* tell the time and needs to learn. This is not your problem\n",
       "343                                                                                                                                                                                                                                                                                                                                                                                                                                                                                                                                                                                                                                                                                                                                                                                                                                                                                                                                                                                                                                                                                                                                                                                                                                                                                                                                                                                                                                                                                                                                                                                                                                                                                                                                                                                                                                                                                                                                                                                                                                                                                                                                                                                                                                                                                                                                                                                                                                                                                                                                                                                                                                                                                                                                                                                                                                                                                                                                                                                                                                             yta. You said he jokes around often, but then you INTRODUCED him to her. How was she to know he was joking until he said it...and maybe she thought he was just covering up.\n",
       "71014                                                                                                                                                                                                                                                                                                                                                                                                                                                                                                                                                                                                                                                                                                                                                                                                                                                                                                                                                                                                                                                                                                                                                                                                                                                                                                                                                                                                                                                                                                                                                                                                                                                                                                                                                                                                                                                                                                                                                                                                                                                                                                                                                                                                                                                                                                                                                                                                                                                                                                                                                                                                         Different genders and ages, but I lived this as the 'well' child. I applied for emancipation at 16, to the suprise of my family, made a clear case and won. Next talked to them again around my late-20's. While she is still reactive and emotional you have a chance for therapy to work. Once she stops being angry, understand she's done with the bullshit. You can't undo what you already did, but if you want any kind of relationship with your daughter - therapy ASAP, and stop trying to defend and justify the abandonment and neglect. The why dosen't matter to a child. Just that IT HAPPENED.\n",
       "68432                                                                                                                                                                                                                                                                                                                                                                                                                                                                                                                                                                                                                                                                                                                                                                                                                                                                                                                                                                                                                                                                                                                                                                                                                                                                                                                                                                                                                                                                                                                                                                                                                                                                                                                                                                                                                                                                                                                                                                                                                                                                                                                                                                                                                                                                                                                                                                                                                                                                                                                                                                                                                                                                                                                                                                                                                                                                                                                                        YTA Big time. People can't control things like RA and surgery complications. It's so hard to do anything with a foot you either can't bare weight on or can only minimally bare weight on. You're a horrible boyfriend and you're not a good partner. She escaped just in time.\n",
       "73993                                                                                                                                                                                                                                                                                                                                                                                                                                                                                                                                                                                                                                                                                                                                                                                                                                                                                                                                                                                                                                                                                                                                                                                                                                                                                                                                                                                                                                                                                                                                                                                                                                                                                                                                                                                                                                                                                                                                                                                                                                                                                                                                                                                                                                                                                                                                                                                                                                                                                                                                                                                                                                                                                                                                              YTA. Let me repeat, YTA. Your elderly grandma with vision problems and PTSD loves Costco. Who tf cares that you don't like it. Maybe the employees find your grandmother delightful and enjoy interacting with her. I get not wanting to spend hours cruising the aisles, but maybe if you went in, the process would be quicker. It would definitely be safer for her. Shopping is a social event for her. It's cruel to take it away from her. Shame on you. Do better.\n",
       "75260                                                                                                                                                                                                                                                                                                                                                                                                                                                                                                                                                                                                                                                                                                                                                                                                                                                                                                                                                                                                                                                                                                                                                                                                                                                                                                                                                                                                                                                                                                                                                                                                                                                                                                                                                                                                                                                                                                                                                                                                                                                                                                                                                                                                                                                                                                                                                                                                                                                                                                                                                                                                                                                                                                                                                                                                                                                                                                                                                                                                                                                                                                                                                                  NTA at all. Necessities take precedence over playing.\n",
       "69254                                                                                                                                                                                                                                                                                                                                                                                                                                                                                                                                                                                                                                                                                                                                                                                                                                                                                                                                                                                                                                                                                                                                                                                                                                                                                                                                                                                                                                                                                                                                                                                                                                                                                                                                                                                                                                                                                                                                                                                                                                                                                                                                                                                                                                                                                                                                                                                                                                                                                                                                                                                                                                                                                                                                                                                                                                                                                                                                                                                                                                                                                              YTA  You need to be in therapy. This is not a healthy response an dit will end up ruining the state of your rleationship.\n",
       "11056    ^^^^AUTOMOD  ***Thanks for posting! This comment is a copy of your post so readers can see the original text if your post is edited or removed. This comment is NOT accusing you of copying anything. Read [this](https://www.reddit.com/r/AmItheAsshole/wiki/faq#wiki_post_deletion) before [contacting the mod team](https://www.reddit.com/message/compose?to=%2Fr%2FAmItheAsshole)***  I 28f have a 1 year old daughter. My husband (30m) and I have had a rule with our extended family about posting photos of our child on social media. We ask that they get permission from one of us before posting any photos as we don't want their pictures floating around to people we do not actually know ourselves. We understand that they want to share photos of their grandchild and niece/nephew, but we wanted to minimize it.    So, to be clear, it's allowed to have some photos of the child up. we just asked that they check with us beforehand, so nothing we might find inappropriate, like mostley naked/bath photos or anything cringe/weird.   Backstory. My MIL has always had an issue with boundaries and very much so has the mind set of \"I raised 4 kids so I know better than you\" and ignores the boundaries we have put in place like no eating in the carseat while driving or no soda pop for the baby. Pretty basic things I feel like we shouldn't have had to outwardly express, but seeing her do this with our older nieces and nephews has warned us to put the boundaries in place from the get go.  My husband and I rarely post photos of our kid on social media. I have about 5 photos from the first 18 months of their life, and my husband literally just has the birth announcement photo.  I took about a 3 week hiatus from fb. During that time, my MIL posted about 30 photos of our child without asking my husband or I prior to posting them. Some were from the holidays, which I understand they are going to be in the background of the other grandkids' photos. but others were just random. I'm peeved by this, and it's frustrating that she honestly doesn't care about any boundaries we have out in place. My husband is annoyed, but let's most things go because she is impossible to argue with and always makes herself out as the victim and everyone else is the aggressor.   Now the photos are not necessary a hill I am willing to die on. However, I do want to ask her to delete them so she understands that we are serious, and hopefully, she respects the rules we have put in place regarding social media.   The photos have been up for about 6 weeks at this point. AITA, if I ask her to take them down and check with us before posting photos in the future?   Oh yeah, we have a private photo sharing app that both of our families have been invited to and can see hundreds of photos that we, as the parents, share on an almost daily basis. My MIL literally has access to thousands of photos that are digitally backed up.  *I am a bot, and this action was performed automatically. Please [contact the moderators of this subreddit](/message/compose/?to=/r/AmItheAsshole) if you have any questions or concerns.*\n",
       "23078                                                                                                                                                                                                                                                                                                                                                                                                                                                                                                                                                                                                                                                                                                                                                                                                                                                                                                                                                                                                                                                                                                                                                                                                                                                                                                                                                                                                                                                                                                                                                                                                                                                                                                                                                                                                                                                                                                                                                                                                                                                                                                                                                                                                                                                                                                                                                                                                                                                                                                                                                                                                                                                                                                                                                                                                                                                                                                                                                                                                                                                                                                                                                        NTA - nope. Theyre being rude and this is a reasonable request.\n",
       "Name: comment_content, dtype: object"
      ]
     },
     "execution_count": 12,
     "metadata": {},
     "output_type": "execute_result"
    }
   ],
   "source": [
    "comments[\"comment_content\"].sample(10)\n",
    "# \n",
    "# pretty clean besides sparse &gt;, &amp; which shouldn't be a problem overall"
   ]
  },
  {
   "cell_type": "markdown",
   "id": "e698cc2a",
   "metadata": {},
   "source": [
    "###### Reformat post_id from comments to match post_id from posts"
   ]
  },
  {
   "cell_type": "code",
   "execution_count": 13,
   "id": "6b5f0b5d",
   "metadata": {},
   "outputs": [],
   "source": [
    "comments[\"post_id\"] = comments[\"post_id\"].str[3:]  # t3 id reformat"
   ]
  },
  {
   "cell_type": "code",
   "execution_count": 14,
   "id": "5210578a",
   "metadata": {},
   "outputs": [
    {
     "data": {
      "text/plain": [
       "0    10qxvu1\n",
       "1    10qxvu1\n",
       "2    10qxvu1\n",
       "3    10qxvu1\n",
       "4    10qxvu1\n",
       "Name: post_id, dtype: object"
      ]
     },
     "execution_count": 14,
     "metadata": {},
     "output_type": "execute_result"
    }
   ],
   "source": [
    "comments[\"post_id\"].head()"
   ]
  },
  {
   "cell_type": "markdown",
   "id": "b95bfe6d",
   "metadata": {},
   "source": [
    "###### Keeping only columns we need"
   ]
  },
  {
   "cell_type": "code",
   "execution_count": 15,
   "id": "7b694905",
   "metadata": {},
   "outputs": [
    {
     "data": {
      "text/plain": [
       "(Index(['post_id', 'num_comments', 'post_content', 'post_title', 'post_url'], dtype='object'),\n",
       " Index(['comment_id', 'post_id', 'comment_score', 'comment_content',\n",
       "        'comment_permalink'],\n",
       "       dtype='object'))"
      ]
     },
     "execution_count": 15,
     "metadata": {},
     "output_type": "execute_result"
    }
   ],
   "source": [
    "posts.columns, comments.columns"
   ]
  },
  {
   "cell_type": "code",
   "execution_count": 16,
   "id": "bcec291d",
   "metadata": {},
   "outputs": [],
   "source": [
    "posts = posts[['post_id',\n",
    "               #'num_comments', \n",
    "               'post_content', \n",
    "               'post_title', \n",
    "               #'post_url'\n",
    "              ]].copy()"
   ]
  },
  {
   "cell_type": "code",
   "execution_count": 17,
   "id": "bd67c61e",
   "metadata": {},
   "outputs": [
    {
     "data": {
      "text/html": [
       "<div>\n",
       "<style scoped>\n",
       "    .dataframe tbody tr th:only-of-type {\n",
       "        vertical-align: middle;\n",
       "    }\n",
       "\n",
       "    .dataframe tbody tr th {\n",
       "        vertical-align: top;\n",
       "    }\n",
       "\n",
       "    .dataframe thead th {\n",
       "        text-align: right;\n",
       "    }\n",
       "</style>\n",
       "<table border=\"1\" class=\"dataframe\">\n",
       "  <thead>\n",
       "    <tr style=\"text-align: right;\">\n",
       "      <th></th>\n",
       "      <th>post_id</th>\n",
       "      <th>post_content</th>\n",
       "      <th>post_title</th>\n",
       "    </tr>\n",
       "  </thead>\n",
       "  <tbody>\n",
       "    <tr>\n",
       "      <th>0</th>\n",
       "      <td>10uxee0</td>\n",
       "      <td>I know this post sounds super petty, but this is the most ridiculous fight I've had with my boyfriend, and unfortunately it's where we're at.I \\[F28\\] have never shaved in my life. I think it's up to the person regardless, but I've also just never really had a lot of hair. My boyfriend recently stayed over and asked to borrow a razor. Since I don't shave, I didn't have one on hand, and apparently that grossed him out. He told me that it was unhygienic to not shave and we argued back and forth about the issue when I finally told him that I'd only start shaving my legs if he shaved his first. He called me immature and petty, whereas I think he's being super fixated on this weird thing. It honestly wouldn't really bother me to shave, but I'm just more irked at his statements where he basically called me dirty. I was serious though: I'll shave whenever he shaves too.We're at an impasse but I wonder if I *am* being a little too petty about the whole thing.</td>\n",
       "      <td>AITA for telling my boyfriend I'll shave my legs if he shaves his?</td>\n",
       "    </tr>\n",
       "    <tr>\n",
       "      <th>1</th>\n",
       "      <td>10ur722</td>\n",
       "      <td>My daughter Bryn F9 is going on a trip to a nearby water park with her class next week. She loves water and has been talking about it for months, so I was a bit thrown off when she came home crying a few days ago and told me she didn’t want to go. I asked her why and she wouldn't tell me because she thought I’d think she’s a “bad person.” When I finally coaxed it out of her, she said her teacher “Ms. N” has forced her to be the “buddy” of her classmate “Ben” for the entirety of the trip. She was to ride the bus with Ben to and from the trip, eat lunch with him, and go on all the rides with him instead of spending time with her friends. She then said nobody likes Ben because he whines whenever they have to do work and picks his nose and wipes boogers everywhere.I was horrified, not only because Ms. N had made Bryn do such a thing, but also because she had made her believe she was a bad person for not wanting to. Unfortunately this wasn’t my first experience with Ms. N, as she frequently used my soft-spoken, intelligent older daughter as a “behavior buffer” for the naughty boys until I threatened to report her to the superintendent. It’s clear to me that Ms. N is still too comfortable with enforcing archaic gender roles on her kids and forcing girls to do unpaid emotional labor for the sake of the boys. I immediately sent Ms. N an email condemning her actions. She sent me back an email with a bunch of bs that basically ended with “if Bryn goes on the trip, she has to be Ben’s buddy.” *Fine.* I informed her Bryn would not be attending then. I immediately booked VIP tickets the same day her class was going so she could still go to the park and see her friends.What happened next I wasn’t expecting. Bryn is quite popular, so I have gotten to know a lot of the moms in her class. When I let them know what Ms. N did, some of them were so horrified that they also pulled their kids out of the trip. In total, eight kids (out of a class of twenty) are either not going, or going with us. Today I got an email from Ms. N saying that because almost half of the class isn’t going, they either have to raise the cost for the other students or not go at all. She practically begged me to let Bryn go and tell all the other parents to let their kids go, promising she wouldn’t make Bryn do anything she didn’t want to do. I told her she should have thought about that before she tried to make my daughter do *her* job. My husband said I was being a bit petty and that Ms. N clearly feels bad about what she did, and I should let Bryn go as I’ve already gotten my way. He asked me if I really wanted to deprive children of what they’ve been waiting for all year. The thing is, if this wasn’t Ms. N’s first offense I probably would have agreed, but she has a pattern of this type of behavior and hopefully this will put a stop to it. Plus, if she has to explain this to her superiors, I have receipts. Is my husband right? Or am I justified?&amp;amp;#x200B;UPDATE: Bryn WAS the only student assigned a \"buddy.\" The rest of the students were free to do what they wanted.</td>\n",
       "      <td>AITA for pulling my daughter from a waterpark trip because her teacher made her stay with a kid she doesn't like?</td>\n",
       "    </tr>\n",
       "    <tr>\n",
       "      <th>2</th>\n",
       "      <td>10upxdd</td>\n",
       "      <td>Alright so my son (17) has weekly therapy appointments that I take him to. Unfortunately, my husband let our daughter borrow his car and then had an emergency at work so he had to use my car so my son and I had to take the bus. It wasn’t ideal, but I’d rather the bus than miss an appointment. While it isn’t my place to share why he goes to therapy, I will say that he will often forget to eat. I usually make sure he’s fed, but due to the mess in the morning, it slipped my mind. The bus wasn’t too crowded but all the seats were taken. My son wasn’t doing too well and I could tell he was feeling dizzy from hunger+the bus. So the second someone got off their seat, I sat him down. I then tried to find a chocolate bar I had in my bag. While this is happening, I noticed an elderly woman and her adult daughter standing beside us. I didn’t pay much attention until the daughter tapped me on the shoulder. She asked if my son could move so that her elderly mother could have a seat. I felt really bad, I really did, but my son was not doing great and standing would make it harder. I had found the chocolate and he was eating it slowly but if he stood up right then, I can assure you he would’ve fainted. I apologized to her and explained that my son wasn’t feeling well. She rolled her eyes at me and said that she saw him standing earlier and that he’s a young healthy teenage boy-he’ll be fine. I apologized once again and told her that he wasn’t feeling well and that if he was then HE himself would’ve offered her a seat. The daughter told me to look at her mother and I admit, the poor woman looked really tired. But I couldn’t. My son had started to lean against me so I told the woman one last time that I was sorry and to ask someone else.I then heard them both whispering and calling me an entitled bitch. And when we got off the bus, a woman that got off with us said that a teenage boy can handle standing more than an elderly woman can and that she hopes someone treats me like that when I’m her age. My son was so out of it, I don’t think he even noticed or cared but I can’t get this off my mind. AITA? A totally unrelated woman thought I was along with the two.I wasn’t sitting down and did not have a seat.</td>\n",
       "      <td>AITA for not letting an elderly woman have my son’s seat on the bus?</td>\n",
       "    </tr>\n",
       "    <tr>\n",
       "      <th>3</th>\n",
       "      <td>10v2vra</td>\n",
       "      <td>We live three blocks away from my parents and they see our kids almost every day.  Hey husband's parents live a couple of states away and only see the kids a few times a year. It's easy when we go see them since we only visit when the kids are off school.  But when they come see us it is at random intervals through the year.  Not a problem really they are excellent grandparents.  With one small exception. They think our rules go out the window when they visit.  It's mean that we don't make the kids their favorite food every day.  Why can't the kids watch tv with them before they do their chores and homework.  Why do the kids have to be in bed so early.  It drives me crazy that I'm the bad guy because my husband won't put his foot down so I have to do it.  They came last week.  On Monday ss soon as dinner was over they wanted the kids to pay attention to them. They wanted to take the kids to see Avatar.  On a school night.  My husband allowed it.  Last straw.  I told him that he knew that throwing the kids off there schedule screwed me over.  So I gave him the choice of either enforcing our rules or I would.  He said he would take care of it.  Second night there was a hockey game on.  He wanted to watch it with our son who loves hockey.  I reminded my husband that our son had chores to do and homework.  He said it was just a hockey game.  I told the kids to get their stuff.  I took them and a change of clothes and their homework to my parents house.  My mom and dad will watch them and then take them to school in the morning.  I went back home and they were waiting for me.  I'm being a controlling and abusive person by denying them time with the kids. I'm not the only person allowed to make decisions regarding the kids.  They came all this way to see them and I'm being a jerk by keeping them on a schedule.  Fine.  They are visiting for a couple of weeks.  Wednesday after I picked up the kids from school and dropped them off at home with my in-laws. Then I went out for the first time in ages.  I told my husband I would be out late and didn't want to wake anyone so I would be at my parents house.  Did the same thing Thursday through tonight.  My husband has been calling and texting and coming over to tell me I need to come home because the house is a disaster because his parents won't do anything.  They are in vacation and they are there to see the kids not clean up.  The kids are having a fun time with no rules and he has been contacted by the school because no homework was turned in on Thursday or Friday.  I didn't answer those texts.  I said I would be back after his parents left or he enforced the rules.  He said I was taking it too far and that it was affecting his work.  Honestly tough shit.</td>\n",
       "      <td>AITA for taking my kids to my parents house to sleep because my husband will not enforce the rules when his parents visit?</td>\n",
       "    </tr>\n",
       "    <tr>\n",
       "      <th>4</th>\n",
       "      <td>10ung90</td>\n",
       "      <td>My daughter (16) and I have gotten into a massive fight. My daughter has always been a picky eater and we have always done our best to accommodate her (Feeding her before parties weddings etc ). The problem lies with my husband's upcoming birthday ( turning 50).The restaurant he has picked is very special to us. That is where we first met as children for a business deal our parents had and then we became best friends when he asked me out in that very restaurant and our first date was there. When he proposed to me and who catered our wedding, I told him I was pregnant and we held my daughter's 1st birthday there. Unfortunately, we couldn’t go there a lot as we had to move for his job but basically, all the major events of our lives were held there. So for my husband's birthday to celebrate him turning half a century old, we want to go there.We once took our daughter there when she was 10 and she hated it. But now since she is 16 I thought she would have matured enough and it is not like I'm forcing her to eat. She has the option of eating at home and I've told her so many times that the restaurant does have food she likes to eat, but she claims that it smells bad. It is a seafood restaurant but we always sit outside at our usual table so I don’t understand that.She says that we are being selfish but I told her it's not about her it's not her day. In anger, she has refused to talk to us and not doing her usual chores and is refusing to eat. My husband is heartbroken and thinks it is all his fault and wants to cancel but I think it will just fuel her brattiness. Today my husband had to work late so it was only my daughter and me. When I called for my daughter to come to eat she looked at the food and then took the plate and dumped it in the bin.I was shocked, food is valuable and she didn’t have to do that. I snapped at her calling her a selfish insecure little brat. That she is not only hurting her father but ruining his birthday and it's not as if we are asking her to give up a kidney. That if she continues this behavior we will never fund her birthday parties ever again. She said that I am a terrible mother for saying that.I feel like I went overboard but that she is acting like a brat. AITA?Edit: I am sorry for the late reply I posted this and went to sleep, No my daughter does not have anything like autism or any food allergies, we tested her when she was 10.We can’t leave her at home because this restaurant is across the country from where we a going to meet our family and according to our country's laws she is still not allowed to be alone for more than a day without parental supervision.We have never had a fight like this and she usually is a chill kid i have no idea what has gotten into her.Edit: The reason we are not too strict with our daughter's eating habits is that we grew up in houses that were verbally and physically abusive, and it affected my husband the most. We never had the chance to go to therapy because at first, it was not a thing then it was too expensive and well we figured we didn’t have to.We did not want our daughter to be like us and we thought if she didn’t cause tantrums who is it really affecting? But my daughter has always gotten good grades and has had a lot of friends so this behave is really unique</td>\n",
       "      <td>AITA for calling my daughter a selfish insecure little brat</td>\n",
       "    </tr>\n",
       "  </tbody>\n",
       "</table>\n",
       "</div>"
      ],
      "text/plain": [
       "   post_id  \\\n",
       "0  10uxee0   \n",
       "1  10ur722   \n",
       "2  10upxdd   \n",
       "3  10v2vra   \n",
       "4  10ung90   \n",
       "\n",
       "                                                                                                                                                                                                                                                                                                                                                                                                                                                                                                                                                                                                                                                                                                                                                                                                                                                                                                                                                                                                                                                                                                                                                                                                                                                                                                                                                                                                                                                                                                                                                                                                                                                                                                                                                                                                                                                                                                                                                                                                                                                                                                                                                                                                                                                                                                                                                                                                                                                                                                                                                                                                                                                                                                                                                                                                                                                                                                                                                                                                                                                                                                                                                                                                                                                                                                                                                                                                                   post_content  \\\n",
       "0                                                                                                                                                                                                                                                                                                                                                                                                                                                                                                                                                                                                                                                                                                                                                                                                                                                                                                                                                                                                                                                                                                                                                                                                                                                                                                                                                                                                                                                                                                                                                                                                                                                                                                                                                                                                                                                                                                                                                                                                                                                                                                                                                                                                                                                                                                                                                                                                                         I know this post sounds super petty, but this is the most ridiculous fight I've had with my boyfriend, and unfortunately it's where we're at.I \\[F28\\] have never shaved in my life. I think it's up to the person regardless, but I've also just never really had a lot of hair. My boyfriend recently stayed over and asked to borrow a razor. Since I don't shave, I didn't have one on hand, and apparently that grossed him out. He told me that it was unhygienic to not shave and we argued back and forth about the issue when I finally told him that I'd only start shaving my legs if he shaved his first. He called me immature and petty, whereas I think he's being super fixated on this weird thing. It honestly wouldn't really bother me to shave, but I'm just more irked at his statements where he basically called me dirty. I was serious though: I'll shave whenever he shaves too.We're at an impasse but I wonder if I *am* being a little too petty about the whole thing.   \n",
       "1                                                                                                                                                                                                                        My daughter Bryn F9 is going on a trip to a nearby water park with her class next week. She loves water and has been talking about it for months, so I was a bit thrown off when she came home crying a few days ago and told me she didn’t want to go. I asked her why and she wouldn't tell me because she thought I’d think she’s a “bad person.” When I finally coaxed it out of her, she said her teacher “Ms. N” has forced her to be the “buddy” of her classmate “Ben” for the entirety of the trip. She was to ride the bus with Ben to and from the trip, eat lunch with him, and go on all the rides with him instead of spending time with her friends. She then said nobody likes Ben because he whines whenever they have to do work and picks his nose and wipes boogers everywhere.I was horrified, not only because Ms. N had made Bryn do such a thing, but also because she had made her believe she was a bad person for not wanting to. Unfortunately this wasn’t my first experience with Ms. N, as she frequently used my soft-spoken, intelligent older daughter as a “behavior buffer” for the naughty boys until I threatened to report her to the superintendent. It’s clear to me that Ms. N is still too comfortable with enforcing archaic gender roles on her kids and forcing girls to do unpaid emotional labor for the sake of the boys. I immediately sent Ms. N an email condemning her actions. She sent me back an email with a bunch of bs that basically ended with “if Bryn goes on the trip, she has to be Ben’s buddy.” *Fine.* I informed her Bryn would not be attending then. I immediately booked VIP tickets the same day her class was going so she could still go to the park and see her friends.What happened next I wasn’t expecting. Bryn is quite popular, so I have gotten to know a lot of the moms in her class. When I let them know what Ms. N did, some of them were so horrified that they also pulled their kids out of the trip. In total, eight kids (out of a class of twenty) are either not going, or going with us. Today I got an email from Ms. N saying that because almost half of the class isn’t going, they either have to raise the cost for the other students or not go at all. She practically begged me to let Bryn go and tell all the other parents to let their kids go, promising she wouldn’t make Bryn do anything she didn’t want to do. I told her she should have thought about that before she tried to make my daughter do *her* job. My husband said I was being a bit petty and that Ms. N clearly feels bad about what she did, and I should let Bryn go as I’ve already gotten my way. He asked me if I really wanted to deprive children of what they’ve been waiting for all year. The thing is, if this wasn’t Ms. N’s first offense I probably would have agreed, but she has a pattern of this type of behavior and hopefully this will put a stop to it. Plus, if she has to explain this to her superiors, I have receipts. Is my husband right? Or am I justified?&amp;#x200B;UPDATE: Bryn WAS the only student assigned a \"buddy.\" The rest of the students were free to do what they wanted.   \n",
       "2                                                                                                                                                                                                                                                                                                                                                                                                                                                                                                                                                                                                                                                                                                                                                                                                                                                                                                                                                                                                                                                                                                             Alright so my son (17) has weekly therapy appointments that I take him to. Unfortunately, my husband let our daughter borrow his car and then had an emergency at work so he had to use my car so my son and I had to take the bus. It wasn’t ideal, but I’d rather the bus than miss an appointment. While it isn’t my place to share why he goes to therapy, I will say that he will often forget to eat. I usually make sure he’s fed, but due to the mess in the morning, it slipped my mind. The bus wasn’t too crowded but all the seats were taken. My son wasn’t doing too well and I could tell he was feeling dizzy from hunger+the bus. So the second someone got off their seat, I sat him down. I then tried to find a chocolate bar I had in my bag. While this is happening, I noticed an elderly woman and her adult daughter standing beside us. I didn’t pay much attention until the daughter tapped me on the shoulder. She asked if my son could move so that her elderly mother could have a seat. I felt really bad, I really did, but my son was not doing great and standing would make it harder. I had found the chocolate and he was eating it slowly but if he stood up right then, I can assure you he would’ve fainted. I apologized to her and explained that my son wasn’t feeling well. She rolled her eyes at me and said that she saw him standing earlier and that he’s a young healthy teenage boy-he’ll be fine. I apologized once again and told her that he wasn’t feeling well and that if he was then HE himself would’ve offered her a seat. The daughter told me to look at her mother and I admit, the poor woman looked really tired. But I couldn’t. My son had started to lean against me so I told the woman one last time that I was sorry and to ask someone else.I then heard them both whispering and calling me an entitled bitch. And when we got off the bus, a woman that got off with us said that a teenage boy can handle standing more than an elderly woman can and that she hopes someone treats me like that when I’m her age. My son was so out of it, I don’t think he even noticed or cared but I can’t get this off my mind. AITA? A totally unrelated woman thought I was along with the two.I wasn’t sitting down and did not have a seat.   \n",
       "3                                                                                                                                                                                                                                                                                                                                                                                                                                                                                                                                                                        We live three blocks away from my parents and they see our kids almost every day.  Hey husband's parents live a couple of states away and only see the kids a few times a year. It's easy when we go see them since we only visit when the kids are off school.  But when they come see us it is at random intervals through the year.  Not a problem really they are excellent grandparents.  With one small exception. They think our rules go out the window when they visit.  It's mean that we don't make the kids their favorite food every day.  Why can't the kids watch tv with them before they do their chores and homework.  Why do the kids have to be in bed so early.  It drives me crazy that I'm the bad guy because my husband won't put his foot down so I have to do it.  They came last week.  On Monday ss soon as dinner was over they wanted the kids to pay attention to them. They wanted to take the kids to see Avatar.  On a school night.  My husband allowed it.  Last straw.  I told him that he knew that throwing the kids off there schedule screwed me over.  So I gave him the choice of either enforcing our rules or I would.  He said he would take care of it.  Second night there was a hockey game on.  He wanted to watch it with our son who loves hockey.  I reminded my husband that our son had chores to do and homework.  He said it was just a hockey game.  I told the kids to get their stuff.  I took them and a change of clothes and their homework to my parents house.  My mom and dad will watch them and then take them to school in the morning.  I went back home and they were waiting for me.  I'm being a controlling and abusive person by denying them time with the kids. I'm not the only person allowed to make decisions regarding the kids.  They came all this way to see them and I'm being a jerk by keeping them on a schedule.  Fine.  They are visiting for a couple of weeks.  Wednesday after I picked up the kids from school and dropped them off at home with my in-laws. Then I went out for the first time in ages.  I told my husband I would be out late and didn't want to wake anyone so I would be at my parents house.  Did the same thing Thursday through tonight.  My husband has been calling and texting and coming over to tell me I need to come home because the house is a disaster because his parents won't do anything.  They are in vacation and they are there to see the kids not clean up.  The kids are having a fun time with no rules and he has been contacted by the school because no homework was turned in on Thursday or Friday.  I didn't answer those texts.  I said I would be back after his parents left or he enforced the rules.  He said I was taking it too far and that it was affecting his work.  Honestly tough shit.   \n",
       "4  My daughter (16) and I have gotten into a massive fight. My daughter has always been a picky eater and we have always done our best to accommodate her (Feeding her before parties weddings etc ). The problem lies with my husband's upcoming birthday ( turning 50).The restaurant he has picked is very special to us. That is where we first met as children for a business deal our parents had and then we became best friends when he asked me out in that very restaurant and our first date was there. When he proposed to me and who catered our wedding, I told him I was pregnant and we held my daughter's 1st birthday there. Unfortunately, we couldn’t go there a lot as we had to move for his job but basically, all the major events of our lives were held there. So for my husband's birthday to celebrate him turning half a century old, we want to go there.We once took our daughter there when she was 10 and she hated it. But now since she is 16 I thought she would have matured enough and it is not like I'm forcing her to eat. She has the option of eating at home and I've told her so many times that the restaurant does have food she likes to eat, but she claims that it smells bad. It is a seafood restaurant but we always sit outside at our usual table so I don’t understand that.She says that we are being selfish but I told her it's not about her it's not her day. In anger, she has refused to talk to us and not doing her usual chores and is refusing to eat. My husband is heartbroken and thinks it is all his fault and wants to cancel but I think it will just fuel her brattiness. Today my husband had to work late so it was only my daughter and me. When I called for my daughter to come to eat she looked at the food and then took the plate and dumped it in the bin.I was shocked, food is valuable and she didn’t have to do that. I snapped at her calling her a selfish insecure little brat. That she is not only hurting her father but ruining his birthday and it's not as if we are asking her to give up a kidney. That if she continues this behavior we will never fund her birthday parties ever again. She said that I am a terrible mother for saying that.I feel like I went overboard but that she is acting like a brat. AITA?Edit: I am sorry for the late reply I posted this and went to sleep, No my daughter does not have anything like autism or any food allergies, we tested her when she was 10.We can’t leave her at home because this restaurant is across the country from where we a going to meet our family and according to our country's laws she is still not allowed to be alone for more than a day without parental supervision.We have never had a fight like this and she usually is a chill kid i have no idea what has gotten into her.Edit: The reason we are not too strict with our daughter's eating habits is that we grew up in houses that were verbally and physically abusive, and it affected my husband the most. We never had the chance to go to therapy because at first, it was not a thing then it was too expensive and well we figured we didn’t have to.We did not want our daughter to be like us and we thought if she didn’t cause tantrums who is it really affecting? But my daughter has always gotten good grades and has had a lot of friends so this behave is really unique    \n",
       "\n",
       "                                                                                                                   post_title  \n",
       "0                                                          AITA for telling my boyfriend I'll shave my legs if he shaves his?  \n",
       "1           AITA for pulling my daughter from a waterpark trip because her teacher made her stay with a kid she doesn't like?  \n",
       "2                                                        AITA for not letting an elderly woman have my son’s seat on the bus?  \n",
       "3  AITA for taking my kids to my parents house to sleep because my husband will not enforce the rules when his parents visit?  \n",
       "4                                                                 AITA for calling my daughter a selfish insecure little brat  "
      ]
     },
     "execution_count": 17,
     "metadata": {},
     "output_type": "execute_result"
    }
   ],
   "source": [
    "posts.head()"
   ]
  },
  {
   "cell_type": "code",
   "execution_count": 18,
   "id": "64389e80",
   "metadata": {},
   "outputs": [],
   "source": [
    "comments  = comments[[#'comment_id',\n",
    "                      'post_id',\n",
    "                      'comment_score',\n",
    "                      'comment_content',\n",
    "                      #'comment_permalink'\n",
    "                     ]].copy()\n"
   ]
  },
  {
   "cell_type": "code",
   "execution_count": 19,
   "id": "74540291",
   "metadata": {},
   "outputs": [
    {
     "data": {
      "text/html": [
       "<div>\n",
       "<style scoped>\n",
       "    .dataframe tbody tr th:only-of-type {\n",
       "        vertical-align: middle;\n",
       "    }\n",
       "\n",
       "    .dataframe tbody tr th {\n",
       "        vertical-align: top;\n",
       "    }\n",
       "\n",
       "    .dataframe thead th {\n",
       "        text-align: right;\n",
       "    }\n",
       "</style>\n",
       "<table border=\"1\" class=\"dataframe\">\n",
       "  <thead>\n",
       "    <tr style=\"text-align: right;\">\n",
       "      <th></th>\n",
       "      <th>post_id</th>\n",
       "      <th>comment_score</th>\n",
       "      <th>comment_content</th>\n",
       "    </tr>\n",
       "  </thead>\n",
       "  <tbody>\n",
       "    <tr>\n",
       "      <th>0</th>\n",
       "      <td>10qxvu1</td>\n",
       "      <td>7</td>\n",
       "      <td>The post about the bratty daughter and the seafood restaurant is rife with commenters creating mental disorders for the daughter to scrub accountability for her behaviour. Honestly kinda dangerous</td>\n",
       "    </tr>\n",
       "    <tr>\n",
       "      <th>1</th>\n",
       "      <td>10qxvu1</td>\n",
       "      <td>7</td>\n",
       "      <td>My subconscious chose the wrong option for a report I feel so embarrassed even though I don’t think it’s a big deal 🥲  Just wanted to say that somewhere</td>\n",
       "    </tr>\n",
       "    <tr>\n",
       "      <th>2</th>\n",
       "      <td>10qxvu1</td>\n",
       "      <td>2</td>\n",
       "      <td>Unpopular opinion: I think contest mode is bad, mainly because of the fact that I can't see my own score. I never liked the whole closing your eyes when people vote thing (which I assume this is based on). Worse, if a post gets removed, you won't ever be able to see your score, even after 1.5 hours, so you're stuck seeing \"score hidden\" forever. I think you should add the feature in which after a post is deleted or removed that contest mode gets disabled.</td>\n",
       "    </tr>\n",
       "    <tr>\n",
       "      <th>3</th>\n",
       "      <td>10qxvu1</td>\n",
       "      <td>0</td>\n",
       "      <td>can we talk about the ableism on this sub. example the post about op not bringing his kids to his sisters wedding because his sister didn't allow his youngest daughter to come to the wedding. that is the the worst and most toxic comment section i have seen in this sub.  the comments acted like op was the devil and ops daughter will always be mad at  him and his youngest daughter.  people also called the ops youngest daughter golden child and ops oldest daughters life will be hell because of op caring about the youngest daughter who has autism  people also said that op taught his oldest daughter that she will be punished because of the youngest sisters autism  . there were  so many abelist things said in that comment section.  like tf fuck was op yta.  the real asshole was ops sister who purposely excluded ops daughter.  op was nta.</td>\n",
       "    </tr>\n",
       "    <tr>\n",
       "      <th>4</th>\n",
       "      <td>10qxvu1</td>\n",
       "      <td>25</td>\n",
       "      <td>I hate when commenters just make stuff up about the post and then move forward acting as if it's true.  Like the post on the front page about the grandmother giving her granddaughter braids.  People saying the mom was a racist and not taking care of her daughter's hair and ruining it etc.  The OP clearly stated the granddaughter had beautiful, well maintained curls.  It's like they have to make up something to be mad at.</td>\n",
       "    </tr>\n",
       "  </tbody>\n",
       "</table>\n",
       "</div>"
      ],
      "text/plain": [
       "   post_id  comment_score  \\\n",
       "0  10qxvu1              7   \n",
       "1  10qxvu1              7   \n",
       "2  10qxvu1              2   \n",
       "3  10qxvu1              0   \n",
       "4  10qxvu1             25   \n",
       "\n",
       "                                                                                                                                                                                                                                                                                                                                                                                                                                                                                                                                                                                                                                                                                                                                                                                                                                                               comment_content  \n",
       "0                                                                                                                                                                                                                                                                                                                                                                                                                                                                                                                                                                                                                                                                         The post about the bratty daughter and the seafood restaurant is rife with commenters creating mental disorders for the daughter to scrub accountability for her behaviour. Honestly kinda dangerous  \n",
       "1                                                                                                                                                                                                                                                                                                                                                                                                                                                                                                                                                                                                                                                                                                                     My subconscious chose the wrong option for a report I feel so embarrassed even though I don’t think it’s a big deal 🥲  Just wanted to say that somewhere  \n",
       "2                                                                                                                                                                                                                                                                                                                                                                                                  Unpopular opinion: I think contest mode is bad, mainly because of the fact that I can't see my own score. I never liked the whole closing your eyes when people vote thing (which I assume this is based on). Worse, if a post gets removed, you won't ever be able to see your score, even after 1.5 hours, so you're stuck seeing \"score hidden\" forever. I think you should add the feature in which after a post is deleted or removed that contest mode gets disabled.  \n",
       "3  can we talk about the ableism on this sub. example the post about op not bringing his kids to his sisters wedding because his sister didn't allow his youngest daughter to come to the wedding. that is the the worst and most toxic comment section i have seen in this sub.  the comments acted like op was the devil and ops daughter will always be mad at  him and his youngest daughter.  people also called the ops youngest daughter golden child and ops oldest daughters life will be hell because of op caring about the youngest daughter who has autism  people also said that op taught his oldest daughter that she will be punished because of the youngest sisters autism  . there were  so many abelist things said in that comment section.  like tf fuck was op yta.  the real asshole was ops sister who purposely excluded ops daughter.  op was nta.  \n",
       "4                                                                                                                                                                                                                                                                                                                                                                                                                                     I hate when commenters just make stuff up about the post and then move forward acting as if it's true.  Like the post on the front page about the grandmother giving her granddaughter braids.  People saying the mom was a racist and not taking care of her daughter's hair and ruining it etc.  The OP clearly stated the granddaughter had beautiful, well maintained curls.  It's like they have to make up something to be mad at.  "
      ]
     },
     "execution_count": 19,
     "metadata": {},
     "output_type": "execute_result"
    }
   ],
   "source": [
    "comments.head()"
   ]
  },
  {
   "cell_type": "markdown",
   "id": "2742e49a",
   "metadata": {},
   "source": [
    "### 4. Joining our dataframes together and see what get\n"
   ]
  },
  {
   "cell_type": "code",
   "execution_count": 46,
   "id": "58e5f1e7",
   "metadata": {},
   "outputs": [],
   "source": [
    "df = posts.merge(comments, on=\"post_id\", how=\"inner\")"
   ]
  },
  {
   "cell_type": "code",
   "execution_count": 21,
   "id": "cd19a50d",
   "metadata": {},
   "outputs": [
    {
     "data": {
      "text/html": [
       "<div>\n",
       "<style scoped>\n",
       "    .dataframe tbody tr th:only-of-type {\n",
       "        vertical-align: middle;\n",
       "    }\n",
       "\n",
       "    .dataframe tbody tr th {\n",
       "        vertical-align: top;\n",
       "    }\n",
       "\n",
       "    .dataframe thead th {\n",
       "        text-align: right;\n",
       "    }\n",
       "</style>\n",
       "<table border=\"1\" class=\"dataframe\">\n",
       "  <thead>\n",
       "    <tr style=\"text-align: right;\">\n",
       "      <th></th>\n",
       "      <th>post_id</th>\n",
       "      <th>post_content</th>\n",
       "      <th>post_title</th>\n",
       "      <th>comment_score</th>\n",
       "      <th>comment_content</th>\n",
       "    </tr>\n",
       "  </thead>\n",
       "  <tbody>\n",
       "    <tr>\n",
       "      <th>0</th>\n",
       "      <td>10uxee0</td>\n",
       "      <td>I know this post sounds super petty, but this is the most ridiculous fight I've had with my boyfriend, and unfortunately it's where we're at.I \\[F28\\] have never shaved in my life. I think it's up to the person regardless, but I've also just never really had a lot of hair. My boyfriend recently stayed over and asked to borrow a razor. Since I don't shave, I didn't have one on hand, and apparently that grossed him out. He told me that it was unhygienic to not shave and we argued back and forth about the issue when I finally told him that I'd only start shaving my legs if he shaved his first. He called me immature and petty, whereas I think he's being super fixated on this weird thing. It honestly wouldn't really bother me to shave, but I'm just more irked at his statements where he basically called me dirty. I was serious though: I'll shave whenever he shaves too.We're at an impasse but I wonder if I *am* being a little too petty about the whole thing.</td>\n",
       "      <td>AITA for telling my boyfriend I'll shave my legs if he shaves his?</td>\n",
       "      <td>10540</td>\n",
       "      <td>You are the petty the world needs. You don’t shave your legs … *and he just noticed*?  My, he is observant. NTA</td>\n",
       "    </tr>\n",
       "    <tr>\n",
       "      <th>1</th>\n",
       "      <td>10uxee0</td>\n",
       "      <td>I know this post sounds super petty, but this is the most ridiculous fight I've had with my boyfriend, and unfortunately it's where we're at.I \\[F28\\] have never shaved in my life. I think it's up to the person regardless, but I've also just never really had a lot of hair. My boyfriend recently stayed over and asked to borrow a razor. Since I don't shave, I didn't have one on hand, and apparently that grossed him out. He told me that it was unhygienic to not shave and we argued back and forth about the issue when I finally told him that I'd only start shaving my legs if he shaved his first. He called me immature and petty, whereas I think he's being super fixated on this weird thing. It honestly wouldn't really bother me to shave, but I'm just more irked at his statements where he basically called me dirty. I was serious though: I'll shave whenever he shaves too.We're at an impasse but I wonder if I *am* being a little too petty about the whole thing.</td>\n",
       "      <td>AITA for telling my boyfriend I'll shave my legs if he shaves his?</td>\n",
       "      <td>3264</td>\n",
       "      <td>NTA  &amp;gt; He told me that it was unhygienic to not shave   Well if that's not the pot calling the kettle black, I don't know what is.</td>\n",
       "    </tr>\n",
       "    <tr>\n",
       "      <th>2</th>\n",
       "      <td>10uxee0</td>\n",
       "      <td>I know this post sounds super petty, but this is the most ridiculous fight I've had with my boyfriend, and unfortunately it's where we're at.I \\[F28\\] have never shaved in my life. I think it's up to the person regardless, but I've also just never really had a lot of hair. My boyfriend recently stayed over and asked to borrow a razor. Since I don't shave, I didn't have one on hand, and apparently that grossed him out. He told me that it was unhygienic to not shave and we argued back and forth about the issue when I finally told him that I'd only start shaving my legs if he shaved his first. He called me immature and petty, whereas I think he's being super fixated on this weird thing. It honestly wouldn't really bother me to shave, but I'm just more irked at his statements where he basically called me dirty. I was serious though: I'll shave whenever he shaves too.We're at an impasse but I wonder if I *am* being a little too petty about the whole thing.</td>\n",
       "      <td>AITA for telling my boyfriend I'll shave my legs if he shaves his?</td>\n",
       "      <td>2439</td>\n",
       "      <td>NTA. Do male leg hairs not collect the exact same amount of ‘dirt’? The hygiene argument has always struck me as utterly weird.</td>\n",
       "    </tr>\n",
       "    <tr>\n",
       "      <th>3</th>\n",
       "      <td>10uxee0</td>\n",
       "      <td>I know this post sounds super petty, but this is the most ridiculous fight I've had with my boyfriend, and unfortunately it's where we're at.I \\[F28\\] have never shaved in my life. I think it's up to the person regardless, but I've also just never really had a lot of hair. My boyfriend recently stayed over and asked to borrow a razor. Since I don't shave, I didn't have one on hand, and apparently that grossed him out. He told me that it was unhygienic to not shave and we argued back and forth about the issue when I finally told him that I'd only start shaving my legs if he shaved his first. He called me immature and petty, whereas I think he's being super fixated on this weird thing. It honestly wouldn't really bother me to shave, but I'm just more irked at his statements where he basically called me dirty. I was serious though: I'll shave whenever he shaves too.We're at an impasse but I wonder if I *am* being a little too petty about the whole thing.</td>\n",
       "      <td>AITA for telling my boyfriend I'll shave my legs if he shaves his?</td>\n",
       "      <td>1563</td>\n",
       "      <td>I also like how borrowing your razor wasn’t gross but you not having one WAS</td>\n",
       "    </tr>\n",
       "    <tr>\n",
       "      <th>4</th>\n",
       "      <td>10uxee0</td>\n",
       "      <td>I know this post sounds super petty, but this is the most ridiculous fight I've had with my boyfriend, and unfortunately it's where we're at.I \\[F28\\] have never shaved in my life. I think it's up to the person regardless, but I've also just never really had a lot of hair. My boyfriend recently stayed over and asked to borrow a razor. Since I don't shave, I didn't have one on hand, and apparently that grossed him out. He told me that it was unhygienic to not shave and we argued back and forth about the issue when I finally told him that I'd only start shaving my legs if he shaved his first. He called me immature and petty, whereas I think he's being super fixated on this weird thing. It honestly wouldn't really bother me to shave, but I'm just more irked at his statements where he basically called me dirty. I was serious though: I'll shave whenever he shaves too.We're at an impasse but I wonder if I *am* being a little too petty about the whole thing.</td>\n",
       "      <td>AITA for telling my boyfriend I'll shave my legs if he shaves his?</td>\n",
       "      <td>706</td>\n",
       "      <td>Lmao this is amazing. Have you asked him why he isn't unhygienic?   NTA</td>\n",
       "    </tr>\n",
       "  </tbody>\n",
       "</table>\n",
       "</div>"
      ],
      "text/plain": [
       "   post_id  \\\n",
       "0  10uxee0   \n",
       "1  10uxee0   \n",
       "2  10uxee0   \n",
       "3  10uxee0   \n",
       "4  10uxee0   \n",
       "\n",
       "                                                                                                                                                                                                                                                                                                                                                                                                                                                                                                                                                                                                                                                                                                                                                                                                                                                                                                                                                                                            post_content  \\\n",
       "0  I know this post sounds super petty, but this is the most ridiculous fight I've had with my boyfriend, and unfortunately it's where we're at.I \\[F28\\] have never shaved in my life. I think it's up to the person regardless, but I've also just never really had a lot of hair. My boyfriend recently stayed over and asked to borrow a razor. Since I don't shave, I didn't have one on hand, and apparently that grossed him out. He told me that it was unhygienic to not shave and we argued back and forth about the issue when I finally told him that I'd only start shaving my legs if he shaved his first. He called me immature and petty, whereas I think he's being super fixated on this weird thing. It honestly wouldn't really bother me to shave, but I'm just more irked at his statements where he basically called me dirty. I was serious though: I'll shave whenever he shaves too.We're at an impasse but I wonder if I *am* being a little too petty about the whole thing.   \n",
       "1  I know this post sounds super petty, but this is the most ridiculous fight I've had with my boyfriend, and unfortunately it's where we're at.I \\[F28\\] have never shaved in my life. I think it's up to the person regardless, but I've also just never really had a lot of hair. My boyfriend recently stayed over and asked to borrow a razor. Since I don't shave, I didn't have one on hand, and apparently that grossed him out. He told me that it was unhygienic to not shave and we argued back and forth about the issue when I finally told him that I'd only start shaving my legs if he shaved his first. He called me immature and petty, whereas I think he's being super fixated on this weird thing. It honestly wouldn't really bother me to shave, but I'm just more irked at his statements where he basically called me dirty. I was serious though: I'll shave whenever he shaves too.We're at an impasse but I wonder if I *am* being a little too petty about the whole thing.   \n",
       "2  I know this post sounds super petty, but this is the most ridiculous fight I've had with my boyfriend, and unfortunately it's where we're at.I \\[F28\\] have never shaved in my life. I think it's up to the person regardless, but I've also just never really had a lot of hair. My boyfriend recently stayed over and asked to borrow a razor. Since I don't shave, I didn't have one on hand, and apparently that grossed him out. He told me that it was unhygienic to not shave and we argued back and forth about the issue when I finally told him that I'd only start shaving my legs if he shaved his first. He called me immature and petty, whereas I think he's being super fixated on this weird thing. It honestly wouldn't really bother me to shave, but I'm just more irked at his statements where he basically called me dirty. I was serious though: I'll shave whenever he shaves too.We're at an impasse but I wonder if I *am* being a little too petty about the whole thing.   \n",
       "3  I know this post sounds super petty, but this is the most ridiculous fight I've had with my boyfriend, and unfortunately it's where we're at.I \\[F28\\] have never shaved in my life. I think it's up to the person regardless, but I've also just never really had a lot of hair. My boyfriend recently stayed over and asked to borrow a razor. Since I don't shave, I didn't have one on hand, and apparently that grossed him out. He told me that it was unhygienic to not shave and we argued back and forth about the issue when I finally told him that I'd only start shaving my legs if he shaved his first. He called me immature and petty, whereas I think he's being super fixated on this weird thing. It honestly wouldn't really bother me to shave, but I'm just more irked at his statements where he basically called me dirty. I was serious though: I'll shave whenever he shaves too.We're at an impasse but I wonder if I *am* being a little too petty about the whole thing.   \n",
       "4  I know this post sounds super petty, but this is the most ridiculous fight I've had with my boyfriend, and unfortunately it's where we're at.I \\[F28\\] have never shaved in my life. I think it's up to the person regardless, but I've also just never really had a lot of hair. My boyfriend recently stayed over and asked to borrow a razor. Since I don't shave, I didn't have one on hand, and apparently that grossed him out. He told me that it was unhygienic to not shave and we argued back and forth about the issue when I finally told him that I'd only start shaving my legs if he shaved his first. He called me immature and petty, whereas I think he's being super fixated on this weird thing. It honestly wouldn't really bother me to shave, but I'm just more irked at his statements where he basically called me dirty. I was serious though: I'll shave whenever he shaves too.We're at an impasse but I wonder if I *am* being a little too petty about the whole thing.   \n",
       "\n",
       "                                                           post_title  \\\n",
       "0  AITA for telling my boyfriend I'll shave my legs if he shaves his?   \n",
       "1  AITA for telling my boyfriend I'll shave my legs if he shaves his?   \n",
       "2  AITA for telling my boyfriend I'll shave my legs if he shaves his?   \n",
       "3  AITA for telling my boyfriend I'll shave my legs if he shaves his?   \n",
       "4  AITA for telling my boyfriend I'll shave my legs if he shaves his?   \n",
       "\n",
       "   comment_score  \\\n",
       "0          10540   \n",
       "1           3264   \n",
       "2           2439   \n",
       "3           1563   \n",
       "4            706   \n",
       "\n",
       "                                                                                                                         comment_content  \n",
       "0                        You are the petty the world needs. You don’t shave your legs … *and he just noticed*?  My, he is observant. NTA  \n",
       "1  NTA  &gt; He told me that it was unhygienic to not shave   Well if that's not the pot calling the kettle black, I don't know what is.  \n",
       "2        NTA. Do male leg hairs not collect the exact same amount of ‘dirt’? The hygiene argument has always struck me as utterly weird.  \n",
       "3                                                           I also like how borrowing your razor wasn’t gross but you not having one WAS  \n",
       "4                                                                Lmao this is amazing. Have you asked him why he isn't unhygienic?   NTA  "
      ]
     },
     "execution_count": 21,
     "metadata": {},
     "output_type": "execute_result"
    }
   ],
   "source": [
    "df.head()"
   ]
  },
  {
   "cell_type": "code",
   "execution_count": 45,
   "id": "a8675662",
   "metadata": {},
   "outputs": [
    {
     "data": {
      "text/plain": [
       "10y3zs6    103\n",
       "10xzfoi    101\n",
       "10zsltb     94\n",
       "10x2bh2     94\n",
       "10w3lgz     94\n",
       "          ... \n",
       "10vwy1h      1\n",
       "112dhsd      1\n",
       "10z0d7h      1\n",
       "10vwqa4      1\n",
       "10vbd4c      1\n",
       "Name: post_id, Length: 3507, dtype: int64"
      ]
     },
     "execution_count": 45,
     "metadata": {},
     "output_type": "execute_result"
    }
   ],
   "source": [
    "df[\"post_id\"].value_counts()"
   ]
  },
  {
   "cell_type": "code",
   "execution_count": 23,
   "id": "d9703f4f",
   "metadata": {
    "scrolled": true
   },
   "outputs": [
    {
     "data": {
      "image/png": "[encoded data removed]",
      "text/plain": [
       "<Figure size 640x480 with 1 Axes>"
      ]
     },
     "metadata": {},
     "output_type": "display_data"
    }
   ],
   "source": [
    "ax = df[\"post_id\"].value_counts().plot(kind = \"hist\", \n",
    "                                       title = \"Top posts in number of comments collected\",\n",
    "                                       bins = 100,\n",
    "                                       density = True\n",
    "                                               )\n",
    "mean = df[\"post_id\"].value_counts().mean()\n",
    "plt.pyplot.axvline(mean, color = \"red\")\n",
    "plt.pyplot.text(25, 0.03, \"means=\" + str(round(mean)), color = \"red\")\n",
    "ax = df[\"post_id\"].value_counts().plot(kind = 'kde')"
   ]
  },
  {
   "cell_type": "markdown",
   "id": "0dd02cf7",
   "metadata": {},
   "source": [
    "We've got on average 22 comments per post we fetched. That's actually pretty good since we set a 100 comment limit on our scrapping, which means we have all comments of most posts. Let's see quantile range."
   ]
  },
  {
   "cell_type": "code",
   "execution_count": 24,
   "id": "f56e5f6e",
   "metadata": {},
   "outputs": [
    {
     "data": {
      "text/plain": [
       "0.10     6.0\n",
       "0.25     9.0\n",
       "0.50    17.0\n",
       "0.75    30.0\n",
       "0.90    56.0\n",
       "Name: post_id, dtype: float64"
      ]
     },
     "execution_count": 24,
     "metadata": {},
     "output_type": "execute_result"
    }
   ],
   "source": [
    "df[\"post_id\"].value_counts().quantile([.1, .25, .5, .75, .9])"
   ]
  },
  {
   "cell_type": "code",
   "execution_count": 25,
   "id": "b6f26a98",
   "metadata": {},
   "outputs": [
    {
     "data": {
      "text/plain": [
       "Text(100, 60, 'mean=49')"
      ]
     },
     "execution_count": 25,
     "metadata": {},
     "output_type": "execute_result"
    },
    {
     "data": {
      "image/png": "[encoded data removed]",
      "text/plain": [
       "<Figure size 640x480 with 1 Axes>"
      ]
     },
     "metadata": {},
     "output_type": "display_data"
    }
   ],
   "source": [
    "ax = df[\"comment_score\"].plot(kind = \"hist\",\n",
    "                         title = \"Comment score distribution\",\n",
    "                         range = [-50, 500],\n",
    "                         bins = 300,\n",
    "                         ylim = [0, 100]\n",
    "                        )\n",
    "mean = df[\"comment_score\"].mean()\n",
    "plt.pyplot.axvline(mean, color = \"red\")\n",
    "plt.pyplot.text(100, 60, \"mean=\" + str(round(mean)), color = \"red\")"
   ]
  },
  {
   "cell_type": "markdown",
   "id": "bc878029",
   "metadata": {},
   "source": [
    "High mean of comment score can be explained because we're getting posts from /top and then we sort comments by /top in addition to that. Which mean we should have quality comments to work with"
   ]
  },
  {
   "cell_type": "code",
   "execution_count": 26,
   "id": "8b5b7757",
   "metadata": {},
   "outputs": [
    {
     "data": {
      "text/plain": [
       "<matplotlib.lines.Line2D at 0x11f5794f0>"
      ]
     },
     "execution_count": 26,
     "metadata": {},
     "output_type": "execute_result"
    },
    {
     "data": {
      "image/png": "[encoded data removed]",
      "text/plain": [
       "<Figure size 640x480 with 1 Axes>"
      ]
     },
     "metadata": {},
     "output_type": "display_data"
    }
   ],
   "source": [
    "df[\"post_content\"].str.split(\" \").apply(len).value_counts().plot(kind = \"hist\", \n",
    "                                                                 title = \"Word count in posts\",\n",
    "                                                                 bins = 100,\n",
    "                                                                )\n",
    "mean = df[\"post_content\"].str.split(\" \").apply(len).value_counts().mean()\n",
    "plt.pyplot.axvline(mean, color = \"red\")"
   ]
  },
  {
   "cell_type": "code",
   "execution_count": 27,
   "id": "fa2a776b",
   "metadata": {},
   "outputs": [
    {
     "data": {
      "text/plain": [
       "<matplotlib.lines.Line2D at 0x121950460>"
      ]
     },
     "execution_count": 27,
     "metadata": {},
     "output_type": "execute_result"
    },
    {
     "data": {
      "image/png": "[encoded data removed]",
      "text/plain": [
       "<Figure size 640x480 with 1 Axes>"
      ]
     },
     "metadata": {},
     "output_type": "display_data"
    }
   ],
   "source": [
    "df[\"post_content\"].str.len().plot(kind = \"hist\", \n",
    "                                  title = \"character count in posts\",\n",
    "                                  bins = 100,\n",
    "                                  xlim = [0, 4000]\n",
    "                                 )\n",
    "mean = df[\"post_content\"].str.len().mean()\n",
    "plt.pyplot.axvline(mean, color = \"red\")\n"
   ]
  },
  {
   "cell_type": "markdown",
   "id": "faeeede0",
   "metadata": {},
   "source": [
    "### 5. Let's start checking out what's inside the comments and figure out what people think"
   ]
  },
  {
   "cell_type": "code",
   "execution_count": 28,
   "id": "f7defc6d",
   "metadata": {},
   "outputs": [
    {
     "name": "stdout",
     "output_type": "stream",
     "text": [
      "NTA 31\n",
      "YTA 0\n",
      "YWBTA 0\n",
      "YWNBTA 0\n",
      "ESH 0\n",
      "NAH 0\n",
      "INFO 0\n"
     ]
    }
   ],
   "source": [
    "df_sample = df[df['post_id'] == \"10uxee0\"]\n",
    "\n",
    "d = dict({\"YTA\": len(df_sample[df_sample['comment_content'].str.contains(r'YTA')]),\n",
    "          \"YWBTA\": len(df_sample[df_sample['comment_content'].str.contains(r'YWBTA')]), \n",
    "          \"NTA\": len(df_sample[df_sample['comment_content'].str.contains(r'NTA')]), \n",
    "          \"YWNBTA\": len(df_sample[df_sample['comment_content'].str.contains(r'YWNBTA')]), \n",
    "          \"ESH\": len(df_sample[df_sample['comment_content'].str.contains(r'ESH')]), \n",
    "          \"NAH\": len(df_sample[df_sample['comment_content'].str.contains(r'NAH')]), \n",
    "          \"INFO\":len(df_sample[df_sample['comment_content'].str.contains(r'INFO')]) })\n",
    "\n",
    "for verdict in sorted(d, key=d.get, reverse=True):\n",
    "    print(verdict, d[verdict])"
   ]
  },
  {
   "cell_type": "markdown",
   "id": "8478c716",
   "metadata": {},
   "source": [
    "Let's do this for all our posts"
   ]
  },
  {
   "cell_type": "code",
   "execution_count": 30,
   "id": "f7d2a221",
   "metadata": {},
   "outputs": [],
   "source": [
    "categories = [\"NTA\", \"YWBTA\", \"YWNBTA\", \"ESH\", \"NAH\", \"INFO\", \"YTA\"]\n",
    "mega_dict = count_occurrences(df, categories)"
   ]
  },
  {
   "cell_type": "code",
   "execution_count": 31,
   "id": "bdb855f8",
   "metadata": {},
   "outputs": [
    {
     "name": "stdout",
     "output_type": "stream",
     "text": [
      "('10uxee0', {'NTA': 31, 'YWBTA': 0, 'YWNBTA': 0, 'ESH': 0, 'NAH': 0, 'INFO': 0, 'YTA': 0})\n",
      "('10ur722', {'NTA': 14, 'YWBTA': 0, 'YWNBTA': 0, 'ESH': 0, 'NAH': 0, 'INFO': 0, 'YTA': 0})\n",
      "('10upxdd', {'NTA': 27, 'YWBTA': 0, 'YWNBTA': 0, 'ESH': 0, 'NAH': 0, 'INFO': 0, 'YTA': 0})\n",
      "('10v2vra', {'NTA': 63, 'INFO': 1, 'YWBTA': 0, 'YWNBTA': 0, 'ESH': 0, 'NAH': 0, 'YTA': 0})\n",
      "('10ung90', {'NTA': 17, 'ESH': 3, 'YWBTA': 0, 'YWNBTA': 0, 'NAH': 0, 'INFO': 0, 'YTA': 0})\n",
      "('10uj4d9', {'NTA': 12, 'INFO': 1, 'YWBTA': 0, 'YWNBTA': 0, 'ESH': 0, 'NAH': 0, 'YTA': 0})\n",
      "('10ura66', {'NTA': 21, 'INFO': 3, 'YTA': 1, 'ESH': 1, 'YWBTA': 0, 'YWNBTA': 0, 'NAH': 0})\n",
      "('10ux79o', {'YTA': 23, 'ESH': 3, 'NAH': 1, 'NTA': 0, 'YWBTA': 0, 'YWNBTA': 0, 'INFO': 0})\n",
      "('10uhg3s', {'NTA': 19, 'YWBTA': 0, 'YWNBTA': 0, 'ESH': 0, 'NAH': 0, 'INFO': 0, 'YTA': 0})\n",
      "('10v0goc', {'YTA': 63, 'INFO': 4, 'ESH': 1, 'NTA': 0, 'YWBTA': 0, 'YWNBTA': 0, 'NAH': 0})\n",
      "('10utyes', {'YTA': 37, 'NTA': 2, 'INFO': 1, 'YWNBTA': 1, 'YWBTA': 0, 'ESH': 0, 'NAH': 0})\n",
      "('10ulsrp', {'NTA': 0, 'YWBTA': 0, 'YWNBTA': 0, 'ESH': 0, 'NAH': 0, 'INFO': 0, 'YTA': 0})\n",
      "('10up4gf', {'NTA': 39, 'ESH': 1, 'YWBTA': 0, 'YWNBTA': 0, 'NAH': 0, 'INFO': 0, 'YTA': 0})\n",
      "('10uj07i', {'YTA': 15, 'NTA': 6, 'YWBTA': 0, 'YWNBTA': 0, 'ESH': 0, 'NAH': 0, 'INFO': 0})\n",
      "('10ukzpr', {'NTA': 38, 'YWBTA': 0, 'YWNBTA': 0, 'ESH': 0, 'NAH': 0, 'INFO': 0, 'YTA': 0})\n",
      "('10un17c', {'NTA': 49, 'INFO': 1, 'ESH': 1, 'YTA': 1, 'YWBTA': 0, 'YWNBTA': 0, 'NAH': 0})\n",
      "('10ubcp5', {'NTA': 13, 'YWBTA': 0, 'YWNBTA': 0, 'ESH': 0, 'NAH': 0, 'INFO': 0, 'YTA': 0})\n",
      "('10uczru', {'YTA': 15, 'ESH': 1, 'NTA': 0, 'YWBTA': 0, 'YWNBTA': 0, 'NAH': 0, 'INFO': 0})\n",
      "('10uqw4f', {'NTA': 58, 'INFO': 2, 'YWBTA': 0, 'YWNBTA': 0, 'ESH': 0, 'NAH': 0, 'YTA': 0})\n",
      "('10uolan', {'NTA': 29, 'INFO': 1, 'YWBTA': 0, 'YWNBTA': 0, 'ESH': 0, 'NAH': 0, 'YTA': 0})\n",
      "('10unudp', {'NTA': 49, 'YWBTA': 0, 'YWNBTA': 0, 'ESH': 0, 'NAH': 0, 'INFO': 0, 'YTA': 0})\n",
      "('10u8muo', {'YTA': 9, 'YWBTA': 4, 'NTA': 3, 'ESH': 2, 'YWNBTA': 0, 'NAH': 0, 'INFO': 0})\n",
      "('10ul5b9', {'NTA': 75, 'INFO': 3, 'YWBTA': 0, 'YWNBTA': 0, 'ESH': 0, 'NAH': 0, 'YTA': 0})\n",
      "('10un335', {'NTA': 50, 'NAH': 8, 'INFO': 1, 'YWBTA': 0, 'YWNBTA': 0, 'ESH': 0, 'YTA': 0})\n",
      "('10ufsch', {'NTA': 2, 'YWBTA': 0, 'YWNBTA': 0, 'ESH': 0, 'NAH': 0, 'INFO': 0, 'YTA': 0})\n",
      "('10uugoi', {'NTA': 41, 'ESH': 2, 'YTA': 2, 'NAH': 1, 'YWBTA': 0, 'YWNBTA': 0, 'INFO': 0})\n",
      "('10uj3o1', {'NTA': 28, 'YTA': 7, 'ESH': 5, 'YWBTA': 0, 'YWNBTA': 0, 'NAH': 0, 'INFO': 0})\n",
      "('10uiqc7', {'NTA': 65, 'YTA': 1, 'YWBTA': 0, 'YWNBTA': 0, 'ESH': 0, 'NAH': 0, 'INFO': 0})\n",
      "('10uco3c', {'NTA': 23, 'YWBTA': 0, 'YWNBTA': 0, 'ESH': 0, 'NAH': 0, 'INFO': 0, 'YTA': 0})\n",
      "('10v3fh8', {'YTA': 77, 'ESH': 2, 'INFO': 2, 'NTA': 1, 'YWBTA': 0, 'YWNBTA': 0, 'NAH': 0})\n"
     ]
    }
   ],
   "source": [
    "print(*({key: value for i, (key, value) in enumerate(mega_dict.items()) if i < 30}.items()), sep=\"\\n\")\n"
   ]
  },
  {
   "cell_type": "markdown",
   "id": "f987511b",
   "metadata": {},
   "source": [
    "Let's check the distribution of our results"
   ]
  },
  {
   "cell_type": "code",
   "execution_count": 34,
   "id": "4f692579",
   "metadata": {},
   "outputs": [
    {
     "name": "stdout",
     "output_type": "stream",
     "text": [
      "[('NTA', 2667), ('YTA', 598), ('ESH', 100), ('NAH', 67), ('YWBTA', 36), ('INFO', 30), ('YWNBTA', 9)]\n"
     ]
    }
   ],
   "source": [
    "result = count_first_keys(mega_dict, categories)\n",
    "print(sorted(result.items(), key=lambda x:x[1], reverse=True))"
   ]
  },
  {
   "cell_type": "markdown",
   "id": "d5fb0681",
   "metadata": {},
   "source": [
    "let's do it for the entire thing "
   ]
  },
  {
   "cell_type": "code",
   "execution_count": 35,
   "id": "b956bb0b",
   "metadata": {},
   "outputs": [
    {
     "name": "stdout",
     "output_type": "stream",
     "text": [
      "[('NTA', 44944), ('YTA', 13809), ('ESH', 2880), ('NAH', 2341), ('INFO', 1846), ('YWBTA', 640), ('YWNBTA', 369)]\n"
     ]
    }
   ],
   "source": [
    "full_d = dict({\"YTA\": len(df[df['comment_content'].str.contains(r'YTA')]),\n",
    "          \"YWBTA\": len(df[df['comment_content'].str.contains(r'YWBTA')]), \n",
    "          \"NTA\": len(df[df['comment_content'].str.contains(r'NTA')]), \n",
    "          \"YWNBTA\": len(df[df['comment_content'].str.contains(r'YWNBTA')]), \n",
    "          \"ESH\": len(df[df['comment_content'].str.contains(r'ESH')]), \n",
    "          \"NAH\": len(df[df['comment_content'].str.contains(r'NAH')]), \n",
    "          \"INFO\":len(df[df['comment_content'].str.contains(r'INFO')]) })\n",
    "\n",
    "sorted_full = sorted(full_d.items(), key=lambda x:x[1], reverse=True)\n",
    "sorted_full_percent = {key: round(value/sum(value for _, value in sorted_full)*100) for key, value in sorted_full}\n",
    "\n",
    "print(sorted_full)\n"
   ]
  },
  {
   "cell_type": "code",
   "execution_count": 36,
   "id": "31bf1c4f",
   "metadata": {},
   "outputs": [
    {
     "data": {
      "image/png": "[encoded data removed]",
      "text/plain": [
       "<Figure size 640x480 with 1 Axes>"
      ]
     },
     "metadata": {},
     "output_type": "display_data"
    },
    {
     "data": {
      "image/png": "[encoded data removed]",
      "text/plain": [
       "<Figure size 640x480 with 1 Axes>"
      ]
     },
     "metadata": {},
     "output_type": "display_data"
    }
   ],
   "source": [
    "labels = [item[0] for item in sorted_full]\n",
    "sizes = [item[1] for item in sorted_full]\n",
    "\n",
    "fig1, ax1 = plt.pyplot.subplots()\n",
    "ax1.pie(sizes, labels=labels, autopct='%.0f%%', startangle=90)\n",
    "\n",
    "fig2, ax2 = plt.pyplot.subplots()\n",
    "ax2.bar(labels, sizes)\n",
    "\n",
    "plt.pyplot.show()\n"
   ]
  },
  {
   "cell_type": "markdown",
   "id": "30413986",
   "metadata": {},
   "source": [
    "# SOMETHING IS FISHYYYY"
   ]
  },
  {
   "cell_type": "markdown",
   "id": "6aa1a134",
   "metadata": {},
   "source": [
    "In conclusion, why such a difference between YTA vs NTA results ? \n",
    "- People who post paint a positive picture of their situation thus are often judged NTA\n",
    "- Sample is not representative: posters and judges are reddit users. Mostly young people posting and judged by their peers. \n",
    "    -> Like-minded people think the same.\n",
    "- When you're thoughtful enough to be wondering if you're in the wrong, to the point of writing it down and posting it, chances are you might not be that much of an asshole.\n",
    "\n",
    "\n",
    "Results seem to match this guy's data https://www.reddit.com/r/dataisbeautiful/comments/tr4aru/oc_ramitheasshole_asshole_percentage_by_age_and/\n",
    "This also shows their is a clear bias against men and women over 40. \n",
    "\n",
    "If an AI model were to rank assholery based on this learning data, it will probably show: \n",
    "- the same bias over gender and age\n",
    "- the same global distribution of 70% NTA 20% YTA "
   ]
  },
  {
   "cell_type": "markdown",
   "id": "d61b0301",
   "metadata": {},
   "source": [
    "# Let's go and feed this data to ML models now"
   ]
  },
  {
   "cell_type": "code",
   "execution_count": 63,
   "id": "e7bb90a5",
   "metadata": {},
   "outputs": [],
   "source": [
    "# Merge the posts with mega_dict\n",
    "merged_df = posts.merge(pd.DataFrame(mega_dict.items(), columns=['post_id', 'comment_results']), on='post_id', how='inner')"
   ]
  },
  {
   "cell_type": "code",
   "execution_count": 64,
   "id": "523d7785",
   "metadata": {},
   "outputs": [
    {
     "name": "stdout",
     "output_type": "stream",
     "text": [
      "   post_id  \\\n",
      "0  10uxee0   \n",
      "1  10ur722   \n",
      "2  10upxdd   \n",
      "3  10v2vra   \n",
      "4  10ung90   \n",
      "\n",
      "                                                                                                                                                                                                                                                                                                                                                                                                                                                                                                                                                                                                                                                                                                                                                                                                                                                                                                                                                                                                                                                                                                                                                                                                                                                                                                                                                                                                                                                                                                                                                                                                                                                                                                                                                                                                                                                                                                                                                                                                                                                                                                                                                                                                                                                                                                                                                                                                                                                                                                                                                                                                                                                                                                                                                                                                                                                                                                                                                                                                                                                                                                                                                                                                                                                                                                                                                                                                                   post_content  \\\n",
      "0                                                                                                                                                                                                                                                                                                                                                                                                                                                                                                                                                                                                                                                                                                                                                                                                                                                                                                                                                                                                                                                                                                                                                                                                                                                                                                                                                                                                                                                                                                                                                                                                                                                                                                                                                                                                                                                                                                                                                                                                                                                                                                                                                                                                                                                                                                                                                                                                                         I know this post sounds super petty, but this is the most ridiculous fight I've had with my boyfriend, and unfortunately it's where we're at.I \\[F28\\] have never shaved in my life. I think it's up to the person regardless, but I've also just never really had a lot of hair. My boyfriend recently stayed over and asked to borrow a razor. Since I don't shave, I didn't have one on hand, and apparently that grossed him out. He told me that it was unhygienic to not shave and we argued back and forth about the issue when I finally told him that I'd only start shaving my legs if he shaved his first. He called me immature and petty, whereas I think he's being super fixated on this weird thing. It honestly wouldn't really bother me to shave, but I'm just more irked at his statements where he basically called me dirty. I was serious though: I'll shave whenever he shaves too.We're at an impasse but I wonder if I *am* being a little too petty about the whole thing.   \n",
      "1                                                                                                                                                                                                                        My daughter Bryn F9 is going on a trip to a nearby water park with her class next week. She loves water and has been talking about it for months, so I was a bit thrown off when she came home crying a few days ago and told me she didn’t want to go. I asked her why and she wouldn't tell me because she thought I’d think she’s a “bad person.” When I finally coaxed it out of her, she said her teacher “Ms. N” has forced her to be the “buddy” of her classmate “Ben” for the entirety of the trip. She was to ride the bus with Ben to and from the trip, eat lunch with him, and go on all the rides with him instead of spending time with her friends. She then said nobody likes Ben because he whines whenever they have to do work and picks his nose and wipes boogers everywhere.I was horrified, not only because Ms. N had made Bryn do such a thing, but also because she had made her believe she was a bad person for not wanting to. Unfortunately this wasn’t my first experience with Ms. N, as she frequently used my soft-spoken, intelligent older daughter as a “behavior buffer” for the naughty boys until I threatened to report her to the superintendent. It’s clear to me that Ms. N is still too comfortable with enforcing archaic gender roles on her kids and forcing girls to do unpaid emotional labor for the sake of the boys. I immediately sent Ms. N an email condemning her actions. She sent me back an email with a bunch of bs that basically ended with “if Bryn goes on the trip, she has to be Ben’s buddy.” *Fine.* I informed her Bryn would not be attending then. I immediately booked VIP tickets the same day her class was going so she could still go to the park and see her friends.What happened next I wasn’t expecting. Bryn is quite popular, so I have gotten to know a lot of the moms in her class. When I let them know what Ms. N did, some of them were so horrified that they also pulled their kids out of the trip. In total, eight kids (out of a class of twenty) are either not going, or going with us. Today I got an email from Ms. N saying that because almost half of the class isn’t going, they either have to raise the cost for the other students or not go at all. She practically begged me to let Bryn go and tell all the other parents to let their kids go, promising she wouldn’t make Bryn do anything she didn’t want to do. I told her she should have thought about that before she tried to make my daughter do *her* job. My husband said I was being a bit petty and that Ms. N clearly feels bad about what she did, and I should let Bryn go as I’ve already gotten my way. He asked me if I really wanted to deprive children of what they’ve been waiting for all year. The thing is, if this wasn’t Ms. N’s first offense I probably would have agreed, but she has a pattern of this type of behavior and hopefully this will put a stop to it. Plus, if she has to explain this to her superiors, I have receipts. Is my husband right? Or am I justified?&amp;#x200B;UPDATE: Bryn WAS the only student assigned a \"buddy.\" The rest of the students were free to do what they wanted.   \n",
      "2                                                                                                                                                                                                                                                                                                                                                                                                                                                                                                                                                                                                                                                                                                                                                                                                                                                                                                                                                                                                                                                                                                             Alright so my son (17) has weekly therapy appointments that I take him to. Unfortunately, my husband let our daughter borrow his car and then had an emergency at work so he had to use my car so my son and I had to take the bus. It wasn’t ideal, but I’d rather the bus than miss an appointment. While it isn’t my place to share why he goes to therapy, I will say that he will often forget to eat. I usually make sure he’s fed, but due to the mess in the morning, it slipped my mind. The bus wasn’t too crowded but all the seats were taken. My son wasn’t doing too well and I could tell he was feeling dizzy from hunger+the bus. So the second someone got off their seat, I sat him down. I then tried to find a chocolate bar I had in my bag. While this is happening, I noticed an elderly woman and her adult daughter standing beside us. I didn’t pay much attention until the daughter tapped me on the shoulder. She asked if my son could move so that her elderly mother could have a seat. I felt really bad, I really did, but my son was not doing great and standing would make it harder. I had found the chocolate and he was eating it slowly but if he stood up right then, I can assure you he would’ve fainted. I apologized to her and explained that my son wasn’t feeling well. She rolled her eyes at me and said that she saw him standing earlier and that he’s a young healthy teenage boy-he’ll be fine. I apologized once again and told her that he wasn’t feeling well and that if he was then HE himself would’ve offered her a seat. The daughter told me to look at her mother and I admit, the poor woman looked really tired. But I couldn’t. My son had started to lean against me so I told the woman one last time that I was sorry and to ask someone else.I then heard them both whispering and calling me an entitled bitch. And when we got off the bus, a woman that got off with us said that a teenage boy can handle standing more than an elderly woman can and that she hopes someone treats me like that when I’m her age. My son was so out of it, I don’t think he even noticed or cared but I can’t get this off my mind. AITA? A totally unrelated woman thought I was along with the two.I wasn’t sitting down and did not have a seat.   \n",
      "3                                                                                                                                                                                                                                                                                                                                                                                                                                                                                                                                                                        We live three blocks away from my parents and they see our kids almost every day.  Hey husband's parents live a couple of states away and only see the kids a few times a year. It's easy when we go see them since we only visit when the kids are off school.  But when they come see us it is at random intervals through the year.  Not a problem really they are excellent grandparents.  With one small exception. They think our rules go out the window when they visit.  It's mean that we don't make the kids their favorite food every day.  Why can't the kids watch tv with them before they do their chores and homework.  Why do the kids have to be in bed so early.  It drives me crazy that I'm the bad guy because my husband won't put his foot down so I have to do it.  They came last week.  On Monday ss soon as dinner was over they wanted the kids to pay attention to them. They wanted to take the kids to see Avatar.  On a school night.  My husband allowed it.  Last straw.  I told him that he knew that throwing the kids off there schedule screwed me over.  So I gave him the choice of either enforcing our rules or I would.  He said he would take care of it.  Second night there was a hockey game on.  He wanted to watch it with our son who loves hockey.  I reminded my husband that our son had chores to do and homework.  He said it was just a hockey game.  I told the kids to get their stuff.  I took them and a change of clothes and their homework to my parents house.  My mom and dad will watch them and then take them to school in the morning.  I went back home and they were waiting for me.  I'm being a controlling and abusive person by denying them time with the kids. I'm not the only person allowed to make decisions regarding the kids.  They came all this way to see them and I'm being a jerk by keeping them on a schedule.  Fine.  They are visiting for a couple of weeks.  Wednesday after I picked up the kids from school and dropped them off at home with my in-laws. Then I went out for the first time in ages.  I told my husband I would be out late and didn't want to wake anyone so I would be at my parents house.  Did the same thing Thursday through tonight.  My husband has been calling and texting and coming over to tell me I need to come home because the house is a disaster because his parents won't do anything.  They are in vacation and they are there to see the kids not clean up.  The kids are having a fun time with no rules and he has been contacted by the school because no homework was turned in on Thursday or Friday.  I didn't answer those texts.  I said I would be back after his parents left or he enforced the rules.  He said I was taking it too far and that it was affecting his work.  Honestly tough shit.   \n",
      "4  My daughter (16) and I have gotten into a massive fight. My daughter has always been a picky eater and we have always done our best to accommodate her (Feeding her before parties weddings etc ). The problem lies with my husband's upcoming birthday ( turning 50).The restaurant he has picked is very special to us. That is where we first met as children for a business deal our parents had and then we became best friends when he asked me out in that very restaurant and our first date was there. When he proposed to me and who catered our wedding, I told him I was pregnant and we held my daughter's 1st birthday there. Unfortunately, we couldn’t go there a lot as we had to move for his job but basically, all the major events of our lives were held there. So for my husband's birthday to celebrate him turning half a century old, we want to go there.We once took our daughter there when she was 10 and she hated it. But now since she is 16 I thought she would have matured enough and it is not like I'm forcing her to eat. She has the option of eating at home and I've told her so many times that the restaurant does have food she likes to eat, but she claims that it smells bad. It is a seafood restaurant but we always sit outside at our usual table so I don’t understand that.She says that we are being selfish but I told her it's not about her it's not her day. In anger, she has refused to talk to us and not doing her usual chores and is refusing to eat. My husband is heartbroken and thinks it is all his fault and wants to cancel but I think it will just fuel her brattiness. Today my husband had to work late so it was only my daughter and me. When I called for my daughter to come to eat she looked at the food and then took the plate and dumped it in the bin.I was shocked, food is valuable and she didn’t have to do that. I snapped at her calling her a selfish insecure little brat. That she is not only hurting her father but ruining his birthday and it's not as if we are asking her to give up a kidney. That if she continues this behavior we will never fund her birthday parties ever again. She said that I am a terrible mother for saying that.I feel like I went overboard but that she is acting like a brat. AITA?Edit: I am sorry for the late reply I posted this and went to sleep, No my daughter does not have anything like autism or any food allergies, we tested her when she was 10.We can’t leave her at home because this restaurant is across the country from where we a going to meet our family and according to our country's laws she is still not allowed to be alone for more than a day without parental supervision.We have never had a fight like this and she usually is a chill kid i have no idea what has gotten into her.Edit: The reason we are not too strict with our daughter's eating habits is that we grew up in houses that were verbally and physically abusive, and it affected my husband the most. We never had the chance to go to therapy because at first, it was not a thing then it was too expensive and well we figured we didn’t have to.We did not want our daughter to be like us and we thought if she didn’t cause tantrums who is it really affecting? But my daughter has always gotten good grades and has had a lot of friends so this behave is really unique    \n",
      "\n",
      "                                                                                                                   post_title  \\\n",
      "0                                                          AITA for telling my boyfriend I'll shave my legs if he shaves his?   \n",
      "1           AITA for pulling my daughter from a waterpark trip because her teacher made her stay with a kid she doesn't like?   \n",
      "2                                                        AITA for not letting an elderly woman have my son’s seat on the bus?   \n",
      "3  AITA for taking my kids to my parents house to sleep because my husband will not enforce the rules when his parents visit?   \n",
      "4                                                                 AITA for calling my daughter a selfish insecure little brat   \n",
      "\n",
      "                                                                 comment_results  \n",
      "0  {'NTA': 31, 'YWBTA': 0, 'YWNBTA': 0, 'ESH': 0, 'NAH': 0, 'INFO': 0, 'YTA': 0}  \n",
      "1  {'NTA': 14, 'YWBTA': 0, 'YWNBTA': 0, 'ESH': 0, 'NAH': 0, 'INFO': 0, 'YTA': 0}  \n",
      "2  {'NTA': 27, 'YWBTA': 0, 'YWNBTA': 0, 'ESH': 0, 'NAH': 0, 'INFO': 0, 'YTA': 0}  \n",
      "3  {'NTA': 63, 'INFO': 1, 'YWBTA': 0, 'YWNBTA': 0, 'ESH': 0, 'NAH': 0, 'YTA': 0}  \n",
      "4  {'NTA': 17, 'ESH': 3, 'YWBTA': 0, 'YWNBTA': 0, 'NAH': 0, 'INFO': 0, 'YTA': 0}  \n"
     ]
    }
   ],
   "source": [
    "# Display the head of merged_df\n",
    "print(merged_df.head())"
   ]
  },
  {
   "cell_type": "code",
   "execution_count": null,
   "id": "5f529f80",
   "metadata": {},
   "outputs": [],
   "source": [
    "# Export merged_df to a pickle file\n",
    "with open('data/pickled_post_data.pkl', 'wb') as f:\n",
    "    pickle.dump(merged_df, f)\n"
   ]
  }
 ],
 "metadata": {
  "kernelspec": {
   "display_name": "Python 3 (ipykernel)",
   "language": "python",
   "name": "python3"
  },
  "language_info": {
   "codemirror_mode": {
    "name": "ipython",
    "version": 3
   },
   "file_extension": ".py",
   "mimetype": "text/x-python",
   "name": "python",
   "nbconvert_exporter": "python",
   "pygments_lexer": "ipython3",
   "version": "3.9.7"
  }
 },
 "nbformat": 4,
 "nbformat_minor": 5
}
