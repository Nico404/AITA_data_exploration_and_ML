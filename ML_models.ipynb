{
 "cells": [
  {
   "cell_type": "markdown",
   "id": "235cf72c",
   "metadata": {},
   "source": [
    "# Let's test out a zero-shot classification model on the data as is"
   ]
  },
  {
   "attachments": {},
   "cell_type": "markdown",
   "id": "a7a6062f",
   "metadata": {},
   "source": [
    "This notebook is the next step after scrapping posts and comments from the subreddit r/AITA and analysing the data collected: <br />\n",
    "https://github.com/Nico404/scrap_reddit <br />\n",
    "https://github.com/Nico404/AITA_data_exploration_and_ML/blob/master/AITA_data_exploration.ipynb"
   ]
  },
  {
   "cell_type": "code",
   "execution_count": 12,
   "id": "b6170f4e",
   "metadata": {},
   "outputs": [],
   "source": [
    "import pandas as pd\n",
    "import pickle\n",
    "from transformers import pipeline\n"
   ]
  },
  {
   "attachments": {},
   "cell_type": "markdown",
   "id": "dbae664e",
   "metadata": {},
   "source": [
    "Let's import our data from AITA_data_exploration.ipynb"
   ]
  },
  {
   "cell_type": "code",
   "execution_count": 16,
   "id": "e35189c4",
   "metadata": {},
   "outputs": [
    {
     "name": "stdout",
     "output_type": "stream",
     "text": [
      "   post_id                                       post_content  \\\n",
      "0  10uxee0  I know this post sounds super petty, but this ...   \n",
      "1  10ur722  My daughter Bryn F9 is going on a trip to a ne...   \n",
      "2  10upxdd  Alright so my son (17) has weekly therapy appo...   \n",
      "3  10v2vra  We live three blocks away from my parents and ...   \n",
      "4  10ung90  My daughter (16) and I have gotten into a mass...   \n",
      "\n",
      "                                          post_title  \\\n",
      "0  AITA for telling my boyfriend I'll shave my le...   \n",
      "1  AITA for pulling my daughter from a waterpark ...   \n",
      "2  AITA for not letting an elderly woman have my ...   \n",
      "3  AITA for taking my kids to my parents house to...   \n",
      "4  AITA for calling my daughter a selfish insecur...   \n",
      "\n",
      "                                     comment_results  \n",
      "0  {'NTA': 31, 'YWBTA': 0, 'YWNBTA': 0, 'ESH': 0,...  \n",
      "1  {'NTA': 14, 'YWBTA': 0, 'YWNBTA': 0, 'ESH': 0,...  \n",
      "2  {'NTA': 27, 'YWBTA': 0, 'YWNBTA': 0, 'ESH': 0,...  \n",
      "3  {'NTA': 63, 'INFO': 1, 'YWBTA': 0, 'YWNBTA': 0...  \n",
      "4  {'NTA': 17, 'ESH': 3, 'YWBTA': 0, 'YWNBTA': 0,...  \n"
     ]
    }
   ],
   "source": [
    "with open('data/pickled_post_data.pkl', 'rb') as f:\n",
    "    data = pickle.load(f)\n",
    "\n",
    "posts_df = pd.DataFrame(data)\n",
    "\n",
    "print(posts_df.head())\n"
   ]
  },
  {
   "cell_type": "code",
   "execution_count": 20,
   "id": "fce6ddb0",
   "metadata": {},
   "outputs": [],
   "source": [
    "#let's setup our transformer label candidates and load our model \n",
    "candidate_labels = [\"NTA\", \"YTA\", \"ESH\", \"NAH\", \"INFO\", \"YWBTA\", \"YWNBTA\"]\n",
    "pipe = pipeline(model=\"facebook/bart-large-mnli\")\n",
    "\n"
   ]
  },
  {
   "cell_type": "code",
   "execution_count": 34,
   "id": "08a00c26",
   "metadata": {},
   "outputs": [
    {
     "name": "stdout",
     "output_type": "stream",
     "text": [
      "post content {'10uxee0': {'ESH': 0, 'INFO': 0, 'NAH': 0, 'YTA': 0, 'YWNBTA': 0, 'YWBTA': 0, 'NTA': 0}}\n",
      "post title {'10uxee0': {'INFO': 0, 'YTA': 0, 'NTA': 0, 'ESH': 0, 'NAH': 0, 'YWBTA': 0, 'YWNBTA': 0}}\n",
      "comment results {'10uxee0': {'NTA': 31, 'YWBTA': 0, 'YWNBTA': 0, 'ESH': 0, 'NAH': 0, 'INFO': 0, 'YTA': 0}}\n"
     ]
    }
   ],
   "source": [
    "all_posts_results = {}\n",
    "for i, row in posts_df.iterrows():\n",
    "    post_results = {}\n",
    "    post_content_prediction = pipe(row['post_content'], candidate_labels)\n",
    "    for label, score in zip(post_content_prediction[\"labels\"], post_content_prediction[\"scores\"]):\n",
    "        post_results[label] = score\n",
    "        all_posts_results[row['post_id']] = post_results\n",
    "    break\n",
    "\n",
    "all_post_title_results = {}\n",
    "for i, row in posts_df.iterrows():\n",
    "    post_title_results = {}\n",
    "    post_title_prediction = pipe(row['post_title'], candidate_labels)\n",
    "    for label, score in zip(post_title_prediction[\"labels\"], post_title_prediction[\"scores\"]):\n",
    "        post_title_results[label] = score\n",
    "        all_post_title_results[row['post_id']] = post_title_results\n",
    "    break\n",
    "\n",
    "all_comment_results = {}\n",
    "for i, row in posts_df.iterrows():\n",
    "    all_comment_results[row['post_id']] = row[\"comment_results\"]\n",
    "    break\n",
    "\n",
    "print(\"post content\", all_posts_results)\n",
    "print(\"post title\", all_post_title_results)\n",
    "print(\"comment results\", all_comment_results)\n"
   ]
  }
 ],
 "metadata": {
  "kernelspec": {
   "display_name": "Python 3 (ipykernel)",
   "language": "python",
   "name": "python3"
  },
  "language_info": {
   "codemirror_mode": {
    "name": "ipython",
    "version": 3
   },
   "file_extension": ".py",
   "mimetype": "text/x-python",
   "name": "python",
   "nbconvert_exporter": "python",
   "pygments_lexer": "ipython3",
   "version": "3.9.7"
  },
  "vscode": {
   "interpreter": {
    "hash": "e4530e3f7a479c29f561e0bf57c489d52367e70e1e013d439943acccd42ec1e9"
   }
  }
 },
 "nbformat": 4,
 "nbformat_minor": 5
}
